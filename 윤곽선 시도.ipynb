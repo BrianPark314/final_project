{
 "cells": [
  {
   "cell_type": "code",
   "execution_count": 3,
   "metadata": {},
   "outputs": [
    {
     "data": {
      "text/plain": [
       "WindowsPath('C:/Users/User/Documents/final_project/validlabel')"
      ]
     },
     "execution_count": 3,
     "metadata": {},
     "output_type": "execute_result"
    }
   ],
   "source": [
    "from pathlib import Path\n",
    "path = Path('C:/Users/User/Documents/final_project/validlabel')\n",
    "\n",
    "path"
   ]
  },
  {
   "attachments": {},
   "cell_type": "markdown",
   "metadata": {},
   "source": [
    "## 히스토그램으로 분포 확인"
   ]
  },
  {
   "cell_type": "code",
   "execution_count": null,
   "metadata": {},
   "outputs": [],
   "source": [
    "import cv2\n",
    "import numpy as np\n",
    "import random\n",
    "from matplotlib import pyplot as plt\n",
    "\n",
    "hist1 = cv2.calcHist([image],[0],None,[256],[0,256])\n",
    "\n",
    "plt.subplot(221),plt.imshow(image,'gray'),plt.title('Red Line')\n",
    "plt.subplot(223),plt.plot(hist1,color='r')\n",
    "plt.xlim([0,256])\n",
    "plt.show()"
   ]
  },
  {
   "cell_type": "code",
   "execution_count": 9,
   "metadata": {},
   "outputs": [
    {
     "name": "stdout",
     "output_type": "stream",
     "text": [
      "[(426, 571, 564, 710), (416, 571, 554, 709), (409, 567, 546, 706), (402, 560, 539, 699), (398, 554, 535, 693), (397, 544, 534, 683), (400, 537, 536, 675), (406, 529, 542, 667), (412, 525, 549, 663), (422, 522, 559, 660), (430, 523, 567, 661), (439, 526, 576, 664), (444, 531, 582, 670), (449, 538, 587, 677), (450, 547, 588, 685), (449, 556, 586, 694), (444, 563, 582, 701), (437, 569, 574, 707), (426, 572, 564, 710), (416, 571, 554, 709), (409, 568, 546, 705), (402, 560, 539, 698), (398, 553, 536, 690), (398, 542, 535, 680), (400, 534, 538, 672), (406, 526, 544, 664), (413, 521, 551, 659), (423, 519, 561, 657), (431, 520, 569, 658), (439, 524, 578, 661), (445, 529, 584, 667), (449, 538, 588, 676), (450, 547, 589, 684), (449, 556, 587, 694), (444, 563, 582, 701), (437, 569, 575, 707), (426, 571, 564, 710), (416, 571, 554, 709), (409, 567, 546, 706), (402, 560, 539, 699), (398, 554, 535, 693), (397, 544, 534, 683), (400, 537, 536, 675), (406, 529, 542, 667), (412, 525, 549, 663), (422, 522, 559, 660), (430, 523, 567, 661), (439, 526, 576, 664), (444, 531, 582, 670), (449, 538, 587, 677), (450, 547, 588, 685), (449, 556, 586, 694), (444, 563, 582, 701), (437, 569, 574, 707), (426, 572, 564, 710), (416, 571, 554, 709), (409, 568, 546, 705), (402, 560, 539, 698), (398, 553, 536, 690), (398, 542, 535, 680), (400, 534, 538, 672), (406, 526, 544, 664), (413, 521, 551, 659), (423, 519, 561, 657), (431, 520, 569, 658), (439, 524, 578, 661), (445, 529, 584, 667), (449, 538, 588, 676), (450, 547, 589, 684), (449, 556, 587, 694), (444, 563, 582, 701), (437, 569, 575, 707), (426, 571, 564, 710), (416, 571, 554, 709), (409, 567, 546, 706), (402, 560, 539, 699), (398, 554, 535, 693), (397, 544, 534, 683), (400, 537, 537, 675), (406, 529, 542, 667), (412, 525, 549, 663), (422, 522, 559, 660), (430, 523, 567, 661), (439, 526, 576, 664), (444, 531, 582, 670), (449, 538, 587, 677), (450, 547, 588, 685), (449, 556, 586, 694), (444, 563, 582, 701), (437, 569, 574, 707), (426, 572, 564, 710), (416, 571, 554, 709), (409, 568, 546, 705), (402, 560, 539, 698), (398, 553, 536, 690), (398, 542, 535, 680), (400, 534, 538, 672), (406, 526, 544, 664), (413, 521, 551, 659), (423, 519, 561, 657), (430, 520, 569, 658), (439, 524, 578, 661), (445, 529, 584, 667), (449, 538, 588, 676), (450, 547, 589, 684), (449, 556, 587, 694), (444, 563, 582, 701), (437, 569, 575, 707), (450, 591, 588, 730), (430, 597, 568, 736), (414, 597, 552, 736), (395, 590, 533, 729), (383, 578, 520, 718), (374, 562, 511, 701), (371, 546, 508, 685), (375, 527, 512, 666), (384, 513, 521, 652), (399, 502, 536, 640), (415, 497, 551, 635), (434, 497, 571, 635), (450, 503, 587, 641), (465, 515, 602, 653), (473, 528, 610, 666), (476, 546, 614, 685), (474, 562, 611, 701), (464, 578, 602, 717), (450, 594, 587, 731), (430, 600, 568, 737), (413, 599, 551, 736), (395, 591, 533, 729), (382, 579, 520, 717), (374, 561, 511, 699), (371, 545, 509, 682), (376, 525, 513, 663), (385, 511, 523, 649), (400, 500, 538, 637), (416, 494, 553, 632), (435, 495, 573, 632), (451, 501, 589, 638), (466, 514, 603, 651), (474, 528, 611, 665), (477, 547, 614, 685), (474, 563, 612, 701), (464, 580, 602, 717), (450, 591, 588, 730), (430, 597, 568, 736), (414, 597, 552, 736), (395, 590, 533, 729), (383, 578, 520, 718), (374, 562, 511, 701), (371, 545, 508, 685), (375, 527, 512, 666), (384, 513, 521, 652), (399, 502, 536, 640), (415, 497, 551, 635), (434, 497, 571, 635), (450, 503, 587, 641), (465, 515, 602, 653), (473, 528, 610, 666), (476, 546, 614, 685), (474, 562, 611, 701), (464, 578, 602, 717), (450, 594, 588, 731), (430, 600, 568, 737), (413, 599, 551, 736), (395, 591, 533, 729), (382, 579, 520, 717), (374, 561, 511, 699), (371, 545, 509, 682), (376, 525, 513, 663), (385, 511, 523, 649), (400, 500, 538, 637), (416, 494, 553, 632), (435, 495, 573, 632), (451, 501, 589, 638), (466, 514, 603, 651), (474, 528, 611, 665), (477, 547, 614, 685), (474, 563, 612, 701), (464, 580, 602, 717), (450, 591, 588, 730), (430, 597, 568, 736), (414, 597, 552, 736), (395, 590, 533, 729), (383, 578, 520, 718), (374, 562, 511, 701), (371, 546, 508, 685), (375, 527, 512, 666), (384, 513, 521, 652), (399, 502, 536, 640), (415, 497, 551, 635), (434, 497, 571, 635), (450, 503, 587, 641), (465, 515, 602, 653), (473, 528, 610, 666), (476, 546, 614, 685), (474, 562, 611, 701), (464, 578, 602, 717), (450, 594, 587, 731), (430, 600, 568, 737), (413, 599, 551, 736), (395, 591, 533, 729), (382, 579, 520, 717), (374, 561, 511, 699), (371, 545, 509, 682), (376, 525, 513, 663), (385, 511, 523, 649), (400, 499, 538, 637), (416, 494, 553, 632), (435, 495, 573, 632), (451, 501, 589, 638), (466, 514, 603, 651), (474, 528, 611, 665), (477, 547, 614, 685), (474, 563, 612, 701), (464, 580, 602, 717)]\n",
      "[]\n"
     ]
    }
   ],
   "source": [
    "bounding_rects =[]\n",
    "square_rects = []\n",
    "\n",
    "for img in file_list_png:\n",
    "    image = cv2.imread(img)\n",
    "    gray = cv2.cvtColor(image, cv2.COLOR_BGR2GRAY)\n",
    "    blurred_img = cv2.GaussianBlur(gray, (5, 5),0)\n",
    "    ret, otsu = cv2.threshold(blurred_img,-1,255,cv2.THRESH_BINARY | cv2.THRESH_OTSU) \n",
    "    contours , hierarchy = cv2.findContours(otsu,cv2.RETR_LIST,cv2.CHAIN_APPROX_NONE)\n",
    "\n",
    "    for contour in contours:\n",
    "        x, y, w, h = cv2.boundingRect(contour) # 딱 맞는 사각형 좌표 \n",
    "        bounding_rects.append((x, y, x + w, y + h)) # 사각형 그릴떄 쓰는 좌표 \n",
    "        # square_rects.append(((x,y),(x+w,y),(x,y+h),(x+w,y+h))) # 4개 꼭지점 좌표 \n",
    "\n",
    "\n",
    "# cv2.rectangle(image,(x,y),(x+w,y+h),(0,200,0),2) # 사각형 그림 \n",
    "cv2.drawContours(image,contours,-1,(0,200,0))\n",
    "# cv2.imshow('contour',image)\n",
    "cv2.waitKey(0)\n",
    "cv2.destroyAllWindows()\n",
    "print(bounding_rects)\n",
    "print(square_rects)"
   ]
  },
  {
   "attachments": {},
   "cell_type": "markdown",
   "metadata": {},
   "source": [
    "## 이미지 test 함수"
   ]
  },
  {
   "cell_type": "code",
   "execution_count": 26,
   "metadata": {},
   "outputs": [],
   "source": [
    "def test(img): \n",
    "    image = cv2.imread(img)\n",
    "    gray = cv2.cvtColor(image, cv2.COLOR_BGR2GRAY)\n",
    "    blurred_img = cv2.GaussianBlur(gray, (5, 5),0)\n",
    "    ret, otsu = cv2.threshold(blurred_img,-1,255,cv2.THRESH_BINARY | cv2.THRESH_OTSU) \n",
    "    contours , hierarchy = cv2.findContours(otsu,cv2.RETR_LIST,cv2.CHAIN_APPROX_NONE)\n",
    "\n",
    "    for contour in contours:\n",
    "        x, y, w, h = cv2.boundingRect(contour) # 딱 맞는 사각형 좌표 \n",
    "        bounding_rects.append((x/1280, y/976, (x + w)/1280, (y + h)/976)) # 사각형 그릴떄 쓰는 좌표 \n",
    "    \n",
    "    cv2.rectangle(image,(x,y),(x+w,y+h),(0,200,0),2) # 사각형 그림 \n",
    "    cv2.drawContours(image,contours,-1,(0,200,0))\n",
    "    cv2.imshow('contour',image)\n",
    "    cv2.waitKey(0)\n",
    "    cv2.destroyAllWindows()"
   ]
  },
  {
   "cell_type": "code",
   "execution_count": 27,
   "metadata": {},
   "outputs": [],
   "source": [
    "test(file_list_png[20]) "
   ]
  },
  {
   "attachments": {},
   "cell_type": "markdown",
   "metadata": {},
   "source": [
    "### 운곽선 , 윤곽선박스"
   ]
  },
  {
   "cell_type": "code",
   "execution_count": 63,
   "metadata": {},
   "outputs": [
    {
     "ename": "SyntaxError",
     "evalue": "invalid syntax. Maybe you meant '==' or ':=' instead of '='? (901215370.py, line 10)",
     "output_type": "error",
     "traceback": [
      "\u001b[1;36m  Cell \u001b[1;32mIn[63], line 10\u001b[1;36m\u001b[0m\n\u001b[1;33m    largest_contour = max[contour, key=cv2.contourArea]\u001b[0m\n\u001b[1;37m                                   ^\u001b[0m\n\u001b[1;31mSyntaxError\u001b[0m\u001b[1;31m:\u001b[0m invalid syntax. Maybe you meant '==' or ':=' instead of '='?\n"
     ]
    }
   ],
   "source": [
    "bounding_rects =[]\n",
    "square_rects = []\n",
    "\n",
    "for img in file_list_png:\n",
    "    image = cv2.imread(img)\n",
    "    gray = cv2.cvtColor(image, cv2.COLOR_BGR2GRAY)\n",
    "    blurred_img = cv2.GaussianBlur(gray, (5, 5),0)\n",
    "    ret, thresh = cv2.threshold(blurred_img,127,255,0) \n",
    "    contours , hierarchy = cv2.findContours(thresh,cv2.RETR_LIST,cv2.CHAIN_APPROX_NONE)\n",
    "    largest_contour = max(contour, key=cv2.contourArea)\n",
    "    \n",
    "    for contour in contours:\n",
    "        largest_contour = max(contour, key=cv2.contourArea)\n",
    "        x, y, w, h = cv2.boundingRect(largest_contour) # 딱 맞는 사각형 좌표 \n",
    "        bounding_rects.append((x/1280, y/976, (x + w)/1280, (y + h)/976)) # 사각형 그릴떄 쓰는 좌표 \n",
    "        # square_rects.append(((x,y),(x+w,y),(x,y+h),(x+w,y+h))) # 4개 꼭지점 좌표 \n",
    "    break\n",
    "\n",
    "cv2.rectangle(image,(x,y),(x+w,y+h),(0,200,0),2) # 사각형 그림 \n",
    "cv2.drawContours(image,contours,-1,(0,200,0))\n",
    "cv2.imshow('contour',image)\n",
    "cv2.waitKey(0)\n",
    "cv2.destroyAllWindows()"
   ]
  },
  {
   "attachments": {},
   "cell_type": "markdown",
   "metadata": {},
   "source": [
    "### 특정 범위 이상 윤곽선 추출"
   ]
  },
  {
   "cell_type": "code",
   "execution_count": 50,
   "metadata": {},
   "outputs": [
    {
     "name": "stdout",
     "output_type": "stream",
     "text": [
      "Average boundingRect: [ 975. 1279.  976. 1280.]\n"
     ]
    }
   ],
   "source": [
    "for img in file_list_png:\n",
    "    image = cv2.imread(img)\n",
    "    gray = cv2.cvtColor(image, cv2.COLOR_BGR2GRAY)\n",
    "    blurred_img = cv2.GaussianBlur(gray, (5, 5),0)\n",
    "    ret, thresh = cv2.threshold(blurred_img,127,255,0)\n",
    "    contours , hierarchy = cv2.findContours(thresh,cv2.RETR_LIST,cv2.CHAIN_APPROX_NONE)\n",
    "\n",
    "    for contour in contours:\n",
    "        x, y, w, h = cv2.boundingRect(contour)\n",
    "        bounding_rects.append((x, y, x + w, y + h))\n",
    "\n",
    "# boundingRect의 평균 계산\n",
    "if len(bounding_rects) > 0:\n",
    "    max = np.max(bounding_rects, axis=0)\n",
    "    print(\"Average boundingRect:\", max)\n",
    "else:\n",
    "    print(\"No boundingRects found.\")\n",
    "    \n"
   ]
  }
 ],
 "metadata": {
  "kernelspec": {
   "display_name": ".venv",
   "language": "python",
   "name": "python3"
  },
  "language_info": {
   "codemirror_mode": {
    "name": "ipython",
    "version": 3
   },
   "file_extension": ".py",
   "mimetype": "text/x-python",
   "name": "python",
   "nbconvert_exporter": "python",
   "pygments_lexer": "ipython3",
   "version": "3.10.11"
  },
  "orig_nbformat": 4
 },
 "nbformat": 4,
 "nbformat_minor": 2
}
