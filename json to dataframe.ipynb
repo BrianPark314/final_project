{
 "cells": [
  {
   "cell_type": "code",
   "execution_count": 77,
   "metadata": {},
   "outputs": [],
   "source": [
    "def to_dataframe(path):\n",
    "    path_list = path.rglob('라벨링데이터/*/*/*')\n",
    "    df_columns =[]\n",
    "\n",
    "    for paths in path_list:\n",
    "        json_path = paths.glob('*.json')\n",
    "        for j in json_path: #json_path 경로안에 있는 j 하나씩 읽음 \n",
    "            with open(j,encoding='utf-8') as json_file:\n",
    "                data = json.load(json_file)['images'][0]\n",
    "                df_columns.append(data) \n",
    "            break\n",
    "    df = pd.DataFrame(df_columns)\n",
    "    return df"
   ]
  }
 ],
 "metadata": {
  "language_info": {
   "name": "python"
  },
  "orig_nbformat": 4
 },
 "nbformat": 4,
 "nbformat_minor": 2
}
