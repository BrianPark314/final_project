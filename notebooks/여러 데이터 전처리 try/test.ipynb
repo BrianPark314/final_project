{
 "cells": [
  {
   "cell_type": "code",
   "execution_count": 1,
   "metadata": {},
   "outputs": [
    {
     "name": "stdout",
     "output_type": "stream",
     "text": [
      "C:\\Users\\User\\document\\final_project\\preprocessing\\data\n"
     ]
    }
   ],
   "source": [
    "%cd C:/Users/User/document/final_project/preprocessing/data"
   ]
  },
  {
   "cell_type": "code",
   "execution_count": null,
   "metadata": {},
   "outputs": [],
   "source": []
  },
  {
   "cell_type": "code",
   "execution_count": 2,
   "metadata": {},
   "outputs": [],
   "source": [
    "import pandas as pd\n",
    "df = pd.read_csv('df_warning.csv')"
   ]
  },
  {
   "cell_type": "code",
   "execution_count": 6,
   "metadata": {},
   "outputs": [],
   "source": [
    "df2 = pd.read_csv('df_warming.csv')"
   ]
  },
  {
   "cell_type": "code",
   "execution_count": 9,
   "metadata": {},
   "outputs": [],
   "source": [
    "df3 = pd.read_csv('merge_df_tv.csv')"
   ]
  },
  {
   "cell_type": "code",
   "execution_count": 7,
   "metadata": {},
   "outputs": [
    {
     "data": {
      "text/plain": [
       "제품코드A\n",
       "625900090    2904\n",
       "658700030    2305\n",
       "658700040    2305\n",
       "653600540    1735\n",
       "643301120    1735\n",
       "             ... \n",
       "653103710       1\n",
       "59400070        1\n",
       "654005770       1\n",
       "60500240        1\n",
       "665600111       1\n",
       "Name: count, Length: 9443, dtype: int64"
      ]
     },
     "execution_count": 7,
     "metadata": {},
     "output_type": "execute_result"
    }
   ],
   "source": [
    "df2['제품코드A'].value_counts()"
   ]
  },
  {
   "cell_type": "code",
   "execution_count": 11,
   "metadata": {},
   "outputs": [
    {
     "data": {
      "text/plain": [
       "0                           657500470\n",
       "1                 650101140,A28302561\n",
       "2                           642102330\n",
       "3       644703770,653802290,A20753971\n",
       "4       644703780,653802280,A20753981\n",
       "                    ...              \n",
       "4519                        648507790\n",
       "4520                        055100300\n",
       "4521                        665507030\n",
       "4522                        657203390\n",
       "4523                        622803300\n",
       "Name: di_edi_code, Length: 4524, dtype: object"
      ]
     },
     "execution_count": 11,
     "metadata": {},
     "output_type": "execute_result"
    }
   ],
   "source": [
    "df3['di_edi_code']"
   ]
  },
  {
   "cell_type": "code",
   "execution_count": 11,
   "metadata": {},
   "outputs": [
    {
     "data": {
      "text/plain": [
       "'[674900280, 670700270, 53601580, 621804000, 622804160, 640904100, 641607150, 641907330, 642308280, 694002700, 642004480, 642803270, 643308440, 643605890, 643903740, 644503050, 645405650, 646004960, 647303880, 649605580, 650205420, 651602640, 53601570, 621804010, 622804150, 640904110, 641607140, 641907320, 642004470, 642308270, 642803260, 643308430, 643605900, 643903730, 644503140, 646004950, 645405640, 649605570, 650205430, 651602650, 651904850, 653006620, 657203530, 657806850, 658107960, 658603930, 663608010, 665507800, 668000150, 670702000, 671706190, 693202170, 693903180, 651904860, 653006520, 657203520, 657806860, 658603920, 658107950, 663608000, 665507820, 668000100, 670701950, 671706180, 693202180, 693903170, 694002710, 665002960]'"
      ]
     },
     "execution_count": 11,
     "metadata": {},
     "output_type": "execute_result"
    }
   ],
   "source": [
    "df['제품코드B'].iloc[0]"
   ]
  },
  {
   "cell_type": "code",
   "execution_count": 12,
   "metadata": {},
   "outputs": [
    {
     "data": {
      "text/plain": [
       "0       [674900280, 670700270, 53601580, 621804000, 62...\n",
       "1       [674900280, 670700270, 668000150, 670702000, 6...\n",
       "2       [665507731, 694800091, 642305011, 645902651, 6...\n",
       "3       [59000681, 642305011, 645902651, 646002281, 64...\n",
       "4            [642703980, 642703980, 649402720, 649402720]\n",
       "                              ...                        \n",
       "9438    [650902081, 654004401, 657200821, 657801801, 6...\n",
       "9439    [642900910, 644301990, 656700980, 674400920, 6...\n",
       "9440         [646901850, 646901850, 658700040, 658700030]\n",
       "9441    [59000681, 642305011, 645902651, 646002281, 64...\n",
       "9442    [641900111, 644305923, 644901611, 641900121, 6...\n",
       "Name: 제품코드B, Length: 9443, dtype: object"
      ]
     },
     "execution_count": 12,
     "metadata": {},
     "output_type": "execute_result"
    }
   ],
   "source": [
    "convert_to_list = lambda x: eval(x) if isinstance(x, str) else x\n",
    "df['제품코드B'] = df['제품코드B'].apply(convert_to_list)\n",
    "df['제품코드B']"
   ]
  },
  {
   "cell_type": "code",
   "execution_count": 14,
   "metadata": {},
   "outputs": [
    {
     "data": {
      "text/plain": [
       "0       [xylometazoline의 전신 작용(고혈압 위험) 증강 또는 연장, xylom...\n",
       "1       [xylometazoline의 전신 작용(고혈압 위험) 증강 또는 연장, xylom...\n",
       "2       [중증의 위장관계 이상반응, 중증의 위장관계 이상반응, 중증의 위장관계 이상반응, ...\n",
       "3       [중증의 위장관계 이상반응, 중증의 위장관계 이상반응, 중증의 위장관계 이상반응, ...\n",
       "4       [횡문근융해와 같은 중증의 근육이상 보고, 횡문근융해와 같은 중증의 근육이상 보고,...\n",
       "                              ...                        \n",
       "9438    [중증의 위장관계 이상반응, 중증의 위장관계 이상반응, 중증의 위장관계 이상반응, ...\n",
       "9439    [QTc 연장 효과 증대로 심각한 위험(Torsade de Pointes, 심각한 ...\n",
       "9440    [위장 pH의 증가로 릴피비린의 흡수가 저하되어 릴피비린의 치료효과 감소, 위장 p...\n",
       "9441    [중증의 위장관계 이상반응, 중증의 위장관계 이상반응, 중증의 위장관계 이상반응, ...\n",
       "9442    [엽산 의존 대사 경로에서 구내염, 골수억제 및 신경독성과 같은 독성을 잠재적으로 ...\n",
       "Name: 상세정보, Length: 9443, dtype: object"
      ]
     },
     "execution_count": 14,
     "metadata": {},
     "output_type": "execute_result"
    }
   ],
   "source": [
    "df['상세정보'] = df['상세정보'].apply(convert_to_list)\n",
    "df['상세정보']"
   ]
  },
  {
   "cell_type": "code",
   "execution_count": 5,
   "metadata": {},
   "outputs": [
    {
     "ename": "NameError",
     "evalue": "name 'df2' is not defined",
     "output_type": "error",
     "traceback": [
      "\u001b[1;31m---------------------------------------------------------------------------\u001b[0m",
      "\u001b[1;31mNameError\u001b[0m                                 Traceback (most recent call last)",
      "Cell \u001b[1;32mIn[5], line 1\u001b[0m\n\u001b[1;32m----> 1\u001b[0m df2[\u001b[39m'\u001b[39m\u001b[39m제품코드A\u001b[39m\u001b[39m'\u001b[39m]\u001b[39m.\u001b[39mvalue_counts()\n",
      "\u001b[1;31mNameError\u001b[0m: name 'df2' is not defined"
     ]
    }
   ],
   "source": [
    "df2['제품코드A'].value_counts()"
   ]
  },
  {
   "cell_type": "code",
   "execution_count": 37,
   "metadata": {},
   "outputs": [
    {
     "data": {
      "text/plain": [
       "648101510"
      ]
     },
     "execution_count": 37,
     "metadata": {},
     "output_type": "execute_result"
    }
   ],
   "source": [
    "df2['제품코드A'].iloc[0]"
   ]
  },
  {
   "cell_type": "code",
   "execution_count": 39,
   "metadata": {},
   "outputs": [
    {
     "data": {
      "text/html": [
       "<div>\n",
       "<style scoped>\n",
       "    .dataframe tbody tr th:only-of-type {\n",
       "        vertical-align: middle;\n",
       "    }\n",
       "\n",
       "    .dataframe tbody tr th {\n",
       "        vertical-align: top;\n",
       "    }\n",
       "\n",
       "    .dataframe thead th {\n",
       "        text-align: right;\n",
       "    }\n",
       "</style>\n",
       "<table border=\"1\" class=\"dataframe\">\n",
       "  <thead>\n",
       "    <tr style=\"text-align: right;\">\n",
       "      <th></th>\n",
       "      <th>Unnamed: 0</th>\n",
       "      <th>제품코드A</th>\n",
       "      <th>제품코드B</th>\n",
       "      <th>상세정보</th>\n",
       "      <th>code조합</th>\n",
       "    </tr>\n",
       "  </thead>\n",
       "  <tbody>\n",
       "    <tr>\n",
       "      <th>0</th>\n",
       "      <td>0</td>\n",
       "      <td>648101510</td>\n",
       "      <td>646002281</td>\n",
       "      <td>중증의 위장관계 이상반응</td>\n",
       "      <td>['648101510', '646002281']</td>\n",
       "    </tr>\n",
       "    <tr>\n",
       "      <th>1</th>\n",
       "      <td>1</td>\n",
       "      <td>648101510</td>\n",
       "      <td>647804481</td>\n",
       "      <td>중증의 위장관계 이상반응</td>\n",
       "      <td>['648101510', '647804481']</td>\n",
       "    </tr>\n",
       "    <tr>\n",
       "      <th>2</th>\n",
       "      <td>2</td>\n",
       "      <td>648101510</td>\n",
       "      <td>642305011</td>\n",
       "      <td>중증의 위장관계 이상반응</td>\n",
       "      <td>['648101510', '642305011']</td>\n",
       "    </tr>\n",
       "    <tr>\n",
       "      <th>3</th>\n",
       "      <td>3</td>\n",
       "      <td>648101510</td>\n",
       "      <td>59000681</td>\n",
       "      <td>중증의 위장관계 이상반응</td>\n",
       "      <td>['648101510', '59000681']</td>\n",
       "    </tr>\n",
       "    <tr>\n",
       "      <th>4</th>\n",
       "      <td>4</td>\n",
       "      <td>648101510</td>\n",
       "      <td>653400910</td>\n",
       "      <td>중증의 위장관계 이상반응</td>\n",
       "      <td>['648101510', '653400910']</td>\n",
       "    </tr>\n",
       "    <tr>\n",
       "      <th>...</th>\n",
       "      <td>...</td>\n",
       "      <td>...</td>\n",
       "      <td>...</td>\n",
       "      <td>...</td>\n",
       "      <td>...</td>\n",
       "    </tr>\n",
       "    <tr>\n",
       "      <th>1564057</th>\n",
       "      <td>1564057</td>\n",
       "      <td>653403230</td>\n",
       "      <td>641105840</td>\n",
       "      <td>Guanylate cyclase 자극제의 혈압강하작용 증가</td>\n",
       "      <td>['653403230', '641105840']</td>\n",
       "    </tr>\n",
       "    <tr>\n",
       "      <th>1564058</th>\n",
       "      <td>1564058</td>\n",
       "      <td>654004590</td>\n",
       "      <td>641105840</td>\n",
       "      <td>Guanylate cyclase 자극제의 혈압강하작용 증가</td>\n",
       "      <td>['654004590', '641105840']</td>\n",
       "    </tr>\n",
       "    <tr>\n",
       "      <th>1564059</th>\n",
       "      <td>1564059</td>\n",
       "      <td>655403650</td>\n",
       "      <td>641105840</td>\n",
       "      <td>Guanylate cyclase 자극제의 혈압강하작용 증가</td>\n",
       "      <td>['655403650', '641105840']</td>\n",
       "    </tr>\n",
       "    <tr>\n",
       "      <th>1564060</th>\n",
       "      <td>1564060</td>\n",
       "      <td>655604700</td>\n",
       "      <td>641105840</td>\n",
       "      <td>Guanylate cyclase 자극제의 혈압강하작용 증가</td>\n",
       "      <td>['655604700', '641105840']</td>\n",
       "    </tr>\n",
       "    <tr>\n",
       "      <th>1564061</th>\n",
       "      <td>1564061</td>\n",
       "      <td>656003820</td>\n",
       "      <td>641105840</td>\n",
       "      <td>Guanylate cyclase 자극제의 혈압강하작용 증가</td>\n",
       "      <td>['656003820', '641105840']</td>\n",
       "    </tr>\n",
       "  </tbody>\n",
       "</table>\n",
       "<p>1564062 rows × 5 columns</p>\n",
       "</div>"
      ],
      "text/plain": [
       "         Unnamed: 0      제품코드A      제품코드B                              상세정보   \n",
       "0                 0  648101510  646002281                     중증의 위장관계 이상반응  \\\n",
       "1                 1  648101510  647804481                     중증의 위장관계 이상반응   \n",
       "2                 2  648101510  642305011                     중증의 위장관계 이상반응   \n",
       "3                 3  648101510   59000681                     중증의 위장관계 이상반응   \n",
       "4                 4  648101510  653400910                     중증의 위장관계 이상반응   \n",
       "...             ...        ...        ...                               ...   \n",
       "1564057     1564057  653403230  641105840  Guanylate cyclase 자극제의 혈압강하작용 증가   \n",
       "1564058     1564058  654004590  641105840  Guanylate cyclase 자극제의 혈압강하작용 증가   \n",
       "1564059     1564059  655403650  641105840  Guanylate cyclase 자극제의 혈압강하작용 증가   \n",
       "1564060     1564060  655604700  641105840  Guanylate cyclase 자극제의 혈압강하작용 증가   \n",
       "1564061     1564061  656003820  641105840  Guanylate cyclase 자극제의 혈압강하작용 증가   \n",
       "\n",
       "                             code조합  \n",
       "0        ['648101510', '646002281']  \n",
       "1        ['648101510', '647804481']  \n",
       "2        ['648101510', '642305011']  \n",
       "3         ['648101510', '59000681']  \n",
       "4        ['648101510', '653400910']  \n",
       "...                             ...  \n",
       "1564057  ['653403230', '641105840']  \n",
       "1564058  ['654004590', '641105840']  \n",
       "1564059  ['655403650', '641105840']  \n",
       "1564060  ['655604700', '641105840']  \n",
       "1564061  ['656003820', '641105840']  \n",
       "\n",
       "[1564062 rows x 5 columns]"
      ]
     },
     "execution_count": 39,
     "metadata": {},
     "output_type": "execute_result"
    }
   ],
   "source": [
    "df2"
   ]
  },
  {
   "cell_type": "code",
   "execution_count": 45,
   "metadata": {},
   "outputs": [
    {
     "data": {
      "text/plain": [
       "<bound method Series.unique of 4159    [중증의 위장관계 이상반응, 중증의 위장관계 이상반응, 중증의 위장관계 이상반응, ...\n",
       "Name: 상세정보, dtype: object>"
      ]
     },
     "execution_count": 45,
     "metadata": {},
     "output_type": "execute_result"
    }
   ],
   "source": [
    "df[df['제품코드A']==648101510]['상세정보'].unique"
   ]
  },
  {
   "cell_type": "code",
   "execution_count": 23,
   "metadata": {},
   "outputs": [
    {
     "data": {
      "text/plain": [
       "779"
      ]
     },
     "execution_count": 23,
     "metadata": {},
     "output_type": "execute_result"
    }
   ],
   "source": [
    "len(df['상세정보'].iloc[50])"
   ]
  }
 ],
 "metadata": {
  "kernelspec": {
   "display_name": ".venv",
   "language": "python",
   "name": "python3"
  },
  "language_info": {
   "codemirror_mode": {
    "name": "ipython",
    "version": 3
   },
   "file_extension": ".py",
   "mimetype": "text/x-python",
   "name": "python",
   "nbconvert_exporter": "python",
   "pygments_lexer": "ipython3",
   "version": "3.10.11"
  },
  "orig_nbformat": 4
 },
 "nbformat": 4,
 "nbformat_minor": 2
}
