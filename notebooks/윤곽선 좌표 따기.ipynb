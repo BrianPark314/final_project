{
 "cells": [
  {
   "attachments": {},
   "cell_type": "markdown",
   "metadata": {},
   "source": [
    "## zip 파일 해당 경로에 풀기"
   ]
  },
  {
   "cell_type": "code",
   "execution_count": 24,
   "metadata": {},
   "outputs": [],
   "source": [
    "import zipfile\n",
    "from glob import glob, iglob\n",
    "import os\n",
    "import json\n",
    "\n",
    "def unzip(path):\n",
    "    path_list = path.rglob('*.zip')\n",
    "    for paths in (path_list):\n",
    "        with zipfile.ZipFile(paths, 'r') as zip_ref:\n",
    "            zip_ref.extractall(str(paths)[:-4])\n",
    "            # os.remove(str(zip_ref))"
   ]
  },
  {
   "cell_type": "code",
   "execution_count": 1,
   "metadata": {},
   "outputs": [],
   "source": [
    "import pathlib\n",
    "path = pathlib.Path('C:/Users/User/Documents/final_project/image data/01.데이터')\n",
    "# unzip(path)"
   ]
  },
  {
   "cell_type": "code",
   "execution_count": 16,
   "metadata": {},
   "outputs": [],
   "source": [
    "unzip('C:/Users/User/Documents/final_project/image data/01.데이터')"
   ]
  },
  {
   "attachments": {},
   "cell_type": "markdown",
   "metadata": {},
   "source": [
    "## 파일"
   ]
  },
  {
   "cell_type": "code",
   "execution_count": 2,
   "metadata": {},
   "outputs": [
    {
     "data": {
      "text/plain": [
       "'c:\\\\Users\\\\User\\\\Documents\\\\final_project'"
      ]
     },
     "execution_count": 2,
     "metadata": {},
     "output_type": "execute_result"
    }
   ],
   "source": [
    "import os\n",
    "path = os.getcwd()\n",
    "path"
   ]
  },
  {
   "cell_type": "code",
   "execution_count": 7,
   "metadata": {},
   "outputs": [
    {
     "data": {
      "text/plain": [
       "'c:\\\\Users\\\\User\\\\Documents\\\\final_project'"
      ]
     },
     "execution_count": 7,
     "metadata": {},
     "output_type": "execute_result"
    }
   ],
   "source": [
    "%pwd"
   ]
  },
  {
   "cell_type": "code",
   "execution_count": 26,
   "metadata": {},
   "outputs": [
    {
     "data": {
      "text/plain": [
       "<generator object Path.rglob at 0x0000022ED0D6DFC0>"
      ]
     },
     "execution_count": 26,
     "metadata": {},
     "output_type": "execute_result"
    }
   ],
   "source": [
    "from pathlib import Path\n",
    "\n",
    "path = Path(os.getcwd())\n",
    "files = path.rglob('*.jpg')\n",
    "files"
   ]
  },
  {
   "cell_type": "code",
   "execution_count": 28,
   "metadata": {},
   "outputs": [
    {
     "data": {
      "text/plain": [
       "WindowsPath('c:/Users/User/Documents/final_project')"
      ]
     },
     "execution_count": 28,
     "metadata": {},
     "output_type": "execute_result"
    }
   ],
   "source": [
    "path"
   ]
  },
  {
   "cell_type": "code",
   "execution_count": 27,
   "metadata": {},
   "outputs": [
    {
     "name": "stdout",
     "output_type": "stream",
     "text": [
      "c:\\Users\\User\\Documents\\final_project\\.venv\\Lib\\site-packages\\IPython\\core\\tests\\2x2.jpg\n",
      "c:\\Users\\User\\Documents\\final_project\\.venv\\Lib\\site-packages\\matplotlib\\mpl-data\\sample_data\\grace_hopper.jpg\n",
      "c:\\Users\\User\\Documents\\final_project\\.venv\\Lib\\site-packages\\pygame\\docs\\generated\\_images\\camera_average.jpg\n",
      "c:\\Users\\User\\Documents\\final_project\\.venv\\Lib\\site-packages\\pygame\\docs\\generated\\_images\\camera_background.jpg\n",
      "c:\\Users\\User\\Documents\\final_project\\.venv\\Lib\\site-packages\\pygame\\docs\\generated\\_images\\camera_green.jpg\n",
      "c:\\Users\\User\\Documents\\final_project\\.venv\\Lib\\site-packages\\pygame\\docs\\generated\\_images\\camera_hsv.jpg\n",
      "c:\\Users\\User\\Documents\\final_project\\.venv\\Lib\\site-packages\\pygame\\docs\\generated\\_images\\camera_mask.jpg\n",
      "c:\\Users\\User\\Documents\\final_project\\.venv\\Lib\\site-packages\\pygame\\docs\\generated\\_images\\camera_rgb.jpg\n",
      "c:\\Users\\User\\Documents\\final_project\\.venv\\Lib\\site-packages\\pygame\\docs\\generated\\_images\\camera_thresh.jpg\n",
      "c:\\Users\\User\\Documents\\final_project\\.venv\\Lib\\site-packages\\pygame\\docs\\generated\\_images\\camera_thresholded.jpg\n",
      "c:\\Users\\User\\Documents\\final_project\\.venv\\Lib\\site-packages\\pygame\\docs\\generated\\_images\\camera_yuv.jpg\n",
      "c:\\Users\\User\\Documents\\final_project\\.venv\\Lib\\site-packages\\pygame\\docs\\generated\\_images\\intro_blade.jpg\n",
      "c:\\Users\\User\\Documents\\final_project\\.venv\\Lib\\site-packages\\pygame\\docs\\generated\\_images\\intro_freedom.jpg\n",
      "c:\\Users\\User\\Documents\\final_project\\.venv\\Lib\\site-packages\\pygame\\examples\\data\\alien1.jpg\n",
      "c:\\Users\\User\\Documents\\final_project\\.venv\\Lib\\site-packages\\pygame\\examples\\data\\red.jpg\n",
      "c:\\Users\\User\\Documents\\final_project\\.venv\\Lib\\site-packages\\sklearn\\datasets\\images\\china.jpg\n",
      "c:\\Users\\User\\Documents\\final_project\\.venv\\Lib\\site-packages\\sklearn\\datasets\\images\\flower.jpg\n"
     ]
    }
   ],
   "source": [
    "for i in files:\n",
    "    print(i)"
   ]
  },
  {
   "cell_type": "code",
   "execution_count": 15,
   "metadata": {},
   "outputs": [],
   "source": [
    "from common.params import args\n",
    "import zipfile\n",
    "from functools import wraps\n",
    "import time\n",
    "from glob import glob\n",
    "from tqdm.auto import tqdm\n",
    "import json\n",
    "import os"
   ]
  },
  {
   "cell_type": "code",
   "execution_count": null,
   "metadata": {},
   "outputs": [],
   "source": [
    "a=[]\n",
    "path_list = path.rglob('라벨링데이터/*/*/*')\n",
    "for paths in path_list:\n",
    "    json_path = paths.glob('*.json')\n",
    "    for j in json_path: #json_path 경로안에 있는 j 하나씩 읽음 \n",
    "        with open(j,encoding='utf-8') as json_file:\n",
    "            data = json.load(json_file)\n",
    "            pill_code = data['images'][0]['drug_N'][0:]\n",
    "            a.append(pill_code) \n",
    "        break"
   ]
  },
  {
   "cell_type": "code",
   "execution_count": null,
   "metadata": {},
   "outputs": [],
   "source": [
    "def create_label_files(path):\n",
    "    label_path = str(path / 'labels')\n",
    "    path_list = path.rglob('*.png')\n",
    "    for paths in path_list:\n",
    "        file_name = str(paths).split('/')[-1].split('.')[0]\n",
    "        with open(label_path+f'/{file_name}.txt', 'w') as f:\n",
    "            f.write('')"
   ]
  },
  {
   "cell_type": "code",
   "execution_count": 5,
   "metadata": {},
   "outputs": [],
   "source": [
    "import cv2 \n",
    "def contour(file_list_png):\n",
    "    bounding_rects =[] # 좌표 담는 리스트 \n",
    "    # square_rects = []\n",
    "    result = []  # 종류 + 좌표 담는 리스트 \n",
    "    name_lst = [name[:8] for name in file_list_png] # 종류 이름출력\n",
    "    \n",
    "    for img in file_list_png: # file_list_png는 png데이터가 있는 파일 \n",
    "        image = cv2.imread(img) # 읽기\n",
    "        gray = cv2.cvtColor(image, cv2.COLOR_BGR2GRAY) #gray\n",
    "        blurred_img = cv2.GaussianBlur(gray, (5, 5),0) # blur처리\n",
    "        ret, otsu = cv2.threshold(blurred_img,-1,255,cv2.THRESH_BINARY | cv2.THRESH_OTSU) #otsu최적화 \n",
    "        contours , hierarchy = cv2.findContours(otsu,cv2.RETR_LIST,cv2.CHAIN_APPROX_NONE) #윤곽추출\n",
    "\n",
    "        \n",
    "        x, y, w, h = cv2.boundingRect(contour) # 딱 맞는 사각형 좌표 \n",
    "        bounding_rects.append((x/1280, y/976, (x+w)/1280, (y+h)/976)) # 사각형 그릴떄 쓰는 좌표 \n",
    "        #square_rects.append(((x,y),(x+w,y),(x,y+h),(x+w,y+h))) # 4개 꼭지점 좌표 \n",
    "        for i in range(len(bounding_rects)): \n",
    "            result.append((name_lst[i],) + bounding_rects[i] )\n",
    "                \n",
    "            \n",
    "    return result\n",
    "\n",
    "# cv2.rectangle(image,(x,y),(x+w,y+h),color,2) # 사각형 그림 \n",
    "# cv2.drawContours(image,contours,-1,(0,200,0)) \n",
    "# cv2.imshow('contour',image)\n",
    "# cv2.waitKey(0)\n",
    "# cv2.destroyAllWindows()\n",
    "# print(result) \n",
    "# print(square_rects)"
   ]
  },
  {
   "cell_type": "code",
   "execution_count": null,
   "metadata": {},
   "outputs": [],
   "source": [
    "contour(file_list_png) # png 파일 리스트를 넣으면 좌표 뽑아줌 "
   ]
  },
  {
   "attachments": {},
   "cell_type": "markdown",
   "metadata": {},
   "source": [
    "## 여기서 부턴 시도"
   ]
  },
  {
   "attachments": {},
   "cell_type": "markdown",
   "metadata": {},
   "source": [
    "## json 형식 불러와서 dict 만들기"
   ]
  },
  {
   "cell_type": "code",
   "execution_count": null,
   "metadata": {},
   "outputs": [],
   "source": [
    "a=[]\n",
    "path_list = path.rglob('라벨링데이터/*/*/*')\n",
    "for paths in path_list:\n",
    "    json_path = paths.glob('*.json')\n",
    "    for j in json_path: #json_path 경로안에 있는 j 하나씩 읽음 \n",
    "        with open(j,encoding='utf-8') as json_file:\n",
    "            data = json.load(json_file)\n",
    "            pill_code = data['images'][0]['drug_N'][0:]\n",
    "            a.append(pill_code) \n",
    "        break"
   ]
  },
  {
   "cell_type": "code",
   "execution_count": null,
   "metadata": {},
   "outputs": [],
   "source": [
    "values = [i for i in range(1,25)]\n",
    "zip_dict = dict(zip(a, values))\n",
    "zip_dict"
   ]
  },
  {
   "attachments": {},
   "cell_type": "markdown",
   "metadata": {},
   "source": [
    "## 텍스트 파일로 저장"
   ]
  },
  {
   "cell_type": "code",
   "execution_count": 182,
   "metadata": {},
   "outputs": [],
   "source": [
    "def save_list_to_txt(lst, filename):\n",
    "    with open(filename, 'w') as file:\n",
    "        for item in lst:\n",
    "            file.write(str(item) + '\\n')\n",
    "            # file.extractall(str(paths)[:-4])"
   ]
  },
  {
   "cell_type": "code",
   "execution_count": 186,
   "metadata": {},
   "outputs": [],
   "source": [
    "save_list_to_txt(contour(file_list_png),'test2.txt')"
   ]
  },
  {
   "cell_type": "code",
   "execution_count": null,
   "metadata": {},
   "outputs": [],
   "source": [
    "def create_label_files(path):\n",
    "    label_path = str(path / 'labels')\n",
    "    path_list = path.rglob('*.png')\n",
    "    for paths in path_list:\n",
    "        file_name = str(paths).split('/')[-1].split('.')[0]\n",
    "        with open(label_path+f'/{file_name}.txt', 'w') as f:\n",
    "            f.write('')"
   ]
  }
 ],
 "metadata": {
  "kernelspec": {
   "display_name": ".venv",
   "language": "python",
   "name": "python3"
  },
  "language_info": {
   "codemirror_mode": {
    "name": "ipython",
    "version": 3
   },
   "file_extension": ".py",
   "mimetype": "text/x-python",
   "name": "python",
   "nbconvert_exporter": "python",
   "pygments_lexer": "ipython3",
   "version": "3.10.11"
  },
  "orig_nbformat": 4
 },
 "nbformat": 4,
 "nbformat_minor": 2
}
