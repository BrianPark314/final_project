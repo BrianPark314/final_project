{
 "cells": [
  {
   "cell_type": "code",
   "execution_count": 1,
   "metadata": {},
   "outputs": [],
   "source": [
    "import pandas as pd\n",
    "import numpy as np\n",
    "pd.set_option('display.max_columns', None)"
   ]
  },
  {
   "cell_type": "code",
   "execution_count": 2,
   "metadata": {},
   "outputs": [
    {
     "name": "stdout",
     "output_type": "stream",
     "text": [
      "c:\\Users\\User\\OneDrive - jbnu.ac.kr\\문서\\boot camp - study\\github\\hojeong-project\\data\n"
     ]
    }
   ],
   "source": [
    "%cd data"
   ]
  },
  {
   "cell_type": "code",
   "execution_count": 17,
   "metadata": {},
   "outputs": [],
   "source": [
    "df = pd.read_csv('data1.csv',encoding='cp949')"
   ]
  },
  {
   "cell_type": "code",
   "execution_count": 5,
   "metadata": {},
   "outputs": [
    {
     "data": {
      "text/html": [
       "<div>\n",
       "<style scoped>\n",
       "    .dataframe tbody tr th:only-of-type {\n",
       "        vertical-align: middle;\n",
       "    }\n",
       "\n",
       "    .dataframe tbody tr th {\n",
       "        vertical-align: top;\n",
       "    }\n",
       "\n",
       "    .dataframe thead th {\n",
       "        text-align: right;\n",
       "    }\n",
       "</style>\n",
       "<table border=\"1\" class=\"dataframe\">\n",
       "  <thead>\n",
       "    <tr style=\"text-align: right;\">\n",
       "      <th></th>\n",
       "      <th>기준년도</th>\n",
       "      <th>가입자 일련번호</th>\n",
       "      <th>처방내역일련번호</th>\n",
       "      <th>일련번호</th>\n",
       "      <th>성별코드</th>\n",
       "      <th>연령대코드(5세단위)</th>\n",
       "      <th>시도코드</th>\n",
       "      <th>요양개시일자</th>\n",
       "      <th>약품일반성분명코드</th>\n",
       "      <th>1회 투약량</th>\n",
       "      <th>1일투약량</th>\n",
       "      <th>총투여일수</th>\n",
       "      <th>단가</th>\n",
       "      <th>금액</th>\n",
       "      <th>데이터 공개일자</th>\n",
       "    </tr>\n",
       "  </thead>\n",
       "  <tbody>\n",
       "    <tr>\n",
       "      <th>0</th>\n",
       "      <td>2020</td>\n",
       "      <td>666668</td>\n",
       "      <td>5260626</td>\n",
       "      <td>2</td>\n",
       "      <td>1</td>\n",
       "      <td>11</td>\n",
       "      <td>43</td>\n",
       "      <td>2020-04-15</td>\n",
       "      <td>134103ATB</td>\n",
       "      <td>2.00</td>\n",
       "      <td>2</td>\n",
       "      <td>4</td>\n",
       "      <td>476.0</td>\n",
       "      <td>7616</td>\n",
       "      <td>2021-12-29</td>\n",
       "    </tr>\n",
       "    <tr>\n",
       "      <th>1</th>\n",
       "      <td>2020</td>\n",
       "      <td>666668</td>\n",
       "      <td>6859861</td>\n",
       "      <td>1</td>\n",
       "      <td>1</td>\n",
       "      <td>11</td>\n",
       "      <td>43</td>\n",
       "      <td>2020-04-03</td>\n",
       "      <td>146432ASS</td>\n",
       "      <td>20.00</td>\n",
       "      <td>2</td>\n",
       "      <td>3</td>\n",
       "      <td>14.0</td>\n",
       "      <td>1680</td>\n",
       "      <td>2021-12-29</td>\n",
       "    </tr>\n",
       "    <tr>\n",
       "      <th>2</th>\n",
       "      <td>2020</td>\n",
       "      <td>666668</td>\n",
       "      <td>769595</td>\n",
       "      <td>1</td>\n",
       "      <td>1</td>\n",
       "      <td>11</td>\n",
       "      <td>43</td>\n",
       "      <td>2020-11-25</td>\n",
       "      <td>451302ATB</td>\n",
       "      <td>0.25</td>\n",
       "      <td>2</td>\n",
       "      <td>7</td>\n",
       "      <td>53.0</td>\n",
       "      <td>186</td>\n",
       "      <td>2021-12-29</td>\n",
       "    </tr>\n",
       "    <tr>\n",
       "      <th>3</th>\n",
       "      <td>2020</td>\n",
       "      <td>666668</td>\n",
       "      <td>6859861</td>\n",
       "      <td>4</td>\n",
       "      <td>1</td>\n",
       "      <td>11</td>\n",
       "      <td>43</td>\n",
       "      <td>2020-04-03</td>\n",
       "      <td>185102ACH</td>\n",
       "      <td>1.00</td>\n",
       "      <td>1</td>\n",
       "      <td>3</td>\n",
       "      <td>30.0</td>\n",
       "      <td>90</td>\n",
       "      <td>2021-12-29</td>\n",
       "    </tr>\n",
       "    <tr>\n",
       "      <th>4</th>\n",
       "      <td>2020</td>\n",
       "      <td>666668</td>\n",
       "      <td>9307313</td>\n",
       "      <td>2</td>\n",
       "      <td>1</td>\n",
       "      <td>11</td>\n",
       "      <td>43</td>\n",
       "      <td>2020-01-30</td>\n",
       "      <td>260100ACR</td>\n",
       "      <td>1.00</td>\n",
       "      <td>1</td>\n",
       "      <td>3</td>\n",
       "      <td>302.0</td>\n",
       "      <td>906</td>\n",
       "      <td>2021-12-29</td>\n",
       "    </tr>\n",
       "  </tbody>\n",
       "</table>\n",
       "</div>"
      ],
      "text/plain": [
       "   기준년도  가입자 일련번호  처방내역일련번호  일련번호  성별코드  연령대코드(5세단위)  시도코드      요양개시일자   \n",
       "0  2020    666668   5260626     2     1           11    43  2020-04-15  \\\n",
       "1  2020    666668   6859861     1     1           11    43  2020-04-03   \n",
       "2  2020    666668    769595     1     1           11    43  2020-11-25   \n",
       "3  2020    666668   6859861     4     1           11    43  2020-04-03   \n",
       "4  2020    666668   9307313     2     1           11    43  2020-01-30   \n",
       "\n",
       "   약품일반성분명코드  1회 투약량  1일투약량  총투여일수     단가    금액    데이터 공개일자  \n",
       "0  134103ATB    2.00      2      4  476.0  7616  2021-12-29  \n",
       "1  146432ASS   20.00      2      3   14.0  1680  2021-12-29  \n",
       "2  451302ATB    0.25      2      7   53.0   186  2021-12-29  \n",
       "3  185102ACH    1.00      1      3   30.0    90  2021-12-29  \n",
       "4  260100ACR    1.00      1      3  302.0   906  2021-12-29  "
      ]
     },
     "execution_count": 5,
     "metadata": {},
     "output_type": "execute_result"
    }
   ],
   "source": [
    "df.head()"
   ]
  },
  {
   "cell_type": "code",
   "execution_count": 7,
   "metadata": {},
   "outputs": [],
   "source": [
    "df2 = pd.read_csv('data2.csv',encoding='cp949')"
   ]
  },
  {
   "cell_type": "code",
   "execution_count": 8,
   "metadata": {},
   "outputs": [
    {
     "data": {
      "text/html": [
       "<div>\n",
       "<style scoped>\n",
       "    .dataframe tbody tr th:only-of-type {\n",
       "        vertical-align: middle;\n",
       "    }\n",
       "\n",
       "    .dataframe tbody tr th {\n",
       "        vertical-align: top;\n",
       "    }\n",
       "\n",
       "    .dataframe thead th {\n",
       "        text-align: right;\n",
       "    }\n",
       "</style>\n",
       "<table border=\"1\" class=\"dataframe\">\n",
       "  <thead>\n",
       "    <tr style=\"text-align: right;\">\n",
       "      <th></th>\n",
       "      <th>일반명코드</th>\n",
       "      <th>제형구분코드</th>\n",
       "      <th>제형</th>\n",
       "      <th>일반명</th>\n",
       "      <th>분류번호</th>\n",
       "      <th>투여</th>\n",
       "      <th>함량</th>\n",
       "      <th>단위</th>\n",
       "    </tr>\n",
       "  </thead>\n",
       "  <tbody>\n",
       "    <tr>\n",
       "      <th>0</th>\n",
       "      <td>100101AGN</td>\n",
       "      <td>GN</td>\n",
       "      <td>과립제,세립</td>\n",
       "      <td>상황균사체엑스</td>\n",
       "      <td>421</td>\n",
       "      <td>내복</td>\n",
       "      <td>1.1</td>\n",
       "      <td>g</td>\n",
       "    </tr>\n",
       "    <tr>\n",
       "      <th>1</th>\n",
       "      <td>100101ALQ</td>\n",
       "      <td>LQ</td>\n",
       "      <td>액제</td>\n",
       "      <td>상황균사체엑스</td>\n",
       "      <td>421</td>\n",
       "      <td>내복</td>\n",
       "      <td>1.1</td>\n",
       "      <td>g</td>\n",
       "    </tr>\n",
       "    <tr>\n",
       "      <th>2</th>\n",
       "      <td>100101APD</td>\n",
       "      <td>PD</td>\n",
       "      <td>산제</td>\n",
       "      <td>phellinus linteus mycelliun ext.</td>\n",
       "      <td>421</td>\n",
       "      <td>내복</td>\n",
       "      <td>1.1</td>\n",
       "      <td>g</td>\n",
       "    </tr>\n",
       "    <tr>\n",
       "      <th>3</th>\n",
       "      <td>100102ACH</td>\n",
       "      <td>CH</td>\n",
       "      <td>경질캡슐제</td>\n",
       "      <td>phellinus linteus mycelliun ext.</td>\n",
       "      <td>421</td>\n",
       "      <td>내복</td>\n",
       "      <td>0.55</td>\n",
       "      <td>g</td>\n",
       "    </tr>\n",
       "    <tr>\n",
       "      <th>4</th>\n",
       "      <td>100102ALQ</td>\n",
       "      <td>LQ</td>\n",
       "      <td>액제</td>\n",
       "      <td>phellinus linteus mycelliun ext.</td>\n",
       "      <td>421</td>\n",
       "      <td>내복</td>\n",
       "      <td>1.1</td>\n",
       "      <td>g(55mg/mL)</td>\n",
       "    </tr>\n",
       "  </tbody>\n",
       "</table>\n",
       "</div>"
      ],
      "text/plain": [
       "       일반명코드 제형구분코드       제형                               일반명  분류번호   투여   \n",
       "0  100101AGN     GN  과립제,세립                            상황균사체엑스   421  내복   \\\n",
       "1  100101ALQ     LQ      액제                            상황균사체엑스   421  내복    \n",
       "2  100101APD     PD      산제   phellinus linteus mycelliun ext.   421  내복    \n",
       "3  100102ACH     CH   경질캡슐제   phellinus linteus mycelliun ext.   421  내복    \n",
       "4  100102ALQ     LQ      액제   phellinus linteus mycelliun ext.   421  내복    \n",
       "\n",
       "     함량          단위  \n",
       "0   1.1           g  \n",
       "1   1.1           g  \n",
       "2   1.1           g  \n",
       "3  0.55           g  \n",
       "4   1.1  g(55mg/mL)  "
      ]
     },
     "execution_count": 8,
     "metadata": {},
     "output_type": "execute_result"
    }
   ],
   "source": [
    "df2.head()"
   ]
  },
  {
   "cell_type": "code",
   "execution_count": 15,
   "metadata": {},
   "outputs": [],
   "source": [
    "df3 = pd.read_csv('data3.csv',encoding='cp949')"
   ]
  },
  {
   "cell_type": "code",
   "execution_count": 11,
   "metadata": {},
   "outputs": [
    {
     "data": {
      "text/html": [
       "<div>\n",
       "<style scoped>\n",
       "    .dataframe tbody tr th:only-of-type {\n",
       "        vertical-align: middle;\n",
       "    }\n",
       "\n",
       "    .dataframe tbody tr th {\n",
       "        vertical-align: top;\n",
       "    }\n",
       "\n",
       "    .dataframe thead th {\n",
       "        text-align: right;\n",
       "    }\n",
       "</style>\n",
       "<table border=\"1\" class=\"dataframe\">\n",
       "  <thead>\n",
       "    <tr style=\"text-align: right;\">\n",
       "      <th></th>\n",
       "      <th>기준년도</th>\n",
       "      <th>가입자 일련번호</th>\n",
       "      <th>진료내역일련번호</th>\n",
       "      <th>성별코드</th>\n",
       "      <th>연령대코드</th>\n",
       "      <th>시도코드</th>\n",
       "      <th>요양개시일자</th>\n",
       "      <th>서식코드</th>\n",
       "      <th>진료과목코드</th>\n",
       "      <th>주상병코드</th>\n",
       "      <th>부상병코드</th>\n",
       "      <th>요양일수</th>\n",
       "      <th>입내원일수</th>\n",
       "      <th>심결가산율</th>\n",
       "      <th>심결요양급여비용총액</th>\n",
       "      <th>심결본인부담금</th>\n",
       "      <th>심결보험자부담금</th>\n",
       "      <th>총처방일수</th>\n",
       "      <th>데이터 기준일자</th>\n",
       "    </tr>\n",
       "  </thead>\n",
       "  <tbody>\n",
       "    <tr>\n",
       "      <th>0</th>\n",
       "      <td>2020</td>\n",
       "      <td>666847</td>\n",
       "      <td>3243108</td>\n",
       "      <td>1</td>\n",
       "      <td>14</td>\n",
       "      <td>41</td>\n",
       "      <td>2020-12-21</td>\n",
       "      <td>3</td>\n",
       "      <td>1</td>\n",
       "      <td>I109</td>\n",
       "      <td>E1150</td>\n",
       "      <td>1</td>\n",
       "      <td>1</td>\n",
       "      <td>0.15</td>\n",
       "      <td>11540</td>\n",
       "      <td>1500</td>\n",
       "      <td>10040</td>\n",
       "      <td>30</td>\n",
       "      <td>2021-12-28</td>\n",
       "    </tr>\n",
       "    <tr>\n",
       "      <th>1</th>\n",
       "      <td>2020</td>\n",
       "      <td>666847</td>\n",
       "      <td>5512427</td>\n",
       "      <td>1</td>\n",
       "      <td>14</td>\n",
       "      <td>41</td>\n",
       "      <td>2020-10-20</td>\n",
       "      <td>3</td>\n",
       "      <td>1</td>\n",
       "      <td>I109</td>\n",
       "      <td>E1150</td>\n",
       "      <td>1</td>\n",
       "      <td>1</td>\n",
       "      <td>0.15</td>\n",
       "      <td>11540</td>\n",
       "      <td>1500</td>\n",
       "      <td>10040</td>\n",
       "      <td>30</td>\n",
       "      <td>2021-12-28</td>\n",
       "    </tr>\n",
       "    <tr>\n",
       "      <th>2</th>\n",
       "      <td>2020</td>\n",
       "      <td>666847</td>\n",
       "      <td>4023485</td>\n",
       "      <td>1</td>\n",
       "      <td>14</td>\n",
       "      <td>41</td>\n",
       "      <td>2020-11-18</td>\n",
       "      <td>3</td>\n",
       "      <td>1</td>\n",
       "      <td>I109</td>\n",
       "      <td>E1150</td>\n",
       "      <td>1</td>\n",
       "      <td>1</td>\n",
       "      <td>0.15</td>\n",
       "      <td>11540</td>\n",
       "      <td>1500</td>\n",
       "      <td>10040</td>\n",
       "      <td>30</td>\n",
       "      <td>2021-12-28</td>\n",
       "    </tr>\n",
       "  </tbody>\n",
       "</table>\n",
       "</div>"
      ],
      "text/plain": [
       "   기준년도  가입자 일련번호  진료내역일련번호  성별코드  연령대코드  시도코드      요양개시일자  서식코드  진료과목코드   \n",
       "0  2020    666847   3243108     1     14    41  2020-12-21     3       1  \\\n",
       "1  2020    666847   5512427     1     14    41  2020-10-20     3       1   \n",
       "2  2020    666847   4023485     1     14    41  2020-11-18     3       1   \n",
       "\n",
       "  주상병코드  부상병코드  요양일수  입내원일수  심결가산율  심결요양급여비용총액  심결본인부담금  심결보험자부담금  총처방일수   \n",
       "0  I109  E1150     1      1   0.15       11540     1500     10040     30  \\\n",
       "1  I109  E1150     1      1   0.15       11540     1500     10040     30   \n",
       "2  I109  E1150     1      1   0.15       11540     1500     10040     30   \n",
       "\n",
       "     데이터 기준일자  \n",
       "0  2021-12-28  \n",
       "1  2021-12-28  \n",
       "2  2021-12-28  "
      ]
     },
     "execution_count": 11,
     "metadata": {},
     "output_type": "execute_result"
    }
   ],
   "source": [
    "df3.head(3)"
   ]
  },
  {
   "cell_type": "code",
   "execution_count": 21,
   "metadata": {},
   "outputs": [],
   "source": [
    "df4 = pd.read_csv('data4.csv',encoding='cp949')"
   ]
  },
  {
   "cell_type": "code",
   "execution_count": 30,
   "metadata": {},
   "outputs": [
    {
     "data": {
      "text/html": [
       "<div>\n",
       "<style scoped>\n",
       "    .dataframe tbody tr th:only-of-type {\n",
       "        vertical-align: middle;\n",
       "    }\n",
       "\n",
       "    .dataframe tbody tr th {\n",
       "        vertical-align: top;\n",
       "    }\n",
       "\n",
       "    .dataframe thead th {\n",
       "        text-align: right;\n",
       "    }\n",
       "</style>\n",
       "<table border=\"1\" class=\"dataframe\">\n",
       "  <thead>\n",
       "    <tr style=\"text-align: right;\">\n",
       "      <th></th>\n",
       "      <th>상병기호</th>\n",
       "      <th>한글명</th>\n",
       "      <th>영문영</th>\n",
       "    </tr>\n",
       "  </thead>\n",
       "  <tbody>\n",
       "    <tr>\n",
       "      <th>0</th>\n",
       "      <td>A00</td>\n",
       "      <td>콜레라</td>\n",
       "      <td>Cholera</td>\n",
       "    </tr>\n",
       "    <tr>\n",
       "      <th>1</th>\n",
       "      <td>A000</td>\n",
       "      <td>비브리오 콜레라 01 콜레라형균에 의한 콜레라</td>\n",
       "      <td>Cholera due to Vibrio cholerae 01_ biovar chol...</td>\n",
       "    </tr>\n",
       "    <tr>\n",
       "      <th>2</th>\n",
       "      <td>A000</td>\n",
       "      <td>고전적 콜레라</td>\n",
       "      <td>Classical cholera</td>\n",
       "    </tr>\n",
       "    <tr>\n",
       "      <th>3</th>\n",
       "      <td>A001</td>\n",
       "      <td>비브리오 콜레라 01 엘토르형균에 의한 콜레라</td>\n",
       "      <td>Cholera due to Vibrio cholerae 01_ biovar eltor</td>\n",
       "    </tr>\n",
       "    <tr>\n",
       "      <th>4</th>\n",
       "      <td>A001</td>\n",
       "      <td>엘토르 콜레라</td>\n",
       "      <td>Cholera eltor</td>\n",
       "    </tr>\n",
       "    <tr>\n",
       "      <th>...</th>\n",
       "      <td>...</td>\n",
       "      <td>...</td>\n",
       "      <td>...</td>\n",
       "    </tr>\n",
       "    <tr>\n",
       "      <th>47793</th>\n",
       "      <td>Z992</td>\n",
       "      <td>신장투석상태</td>\n",
       "      <td>Renal dialysis status</td>\n",
       "    </tr>\n",
       "    <tr>\n",
       "      <th>47794</th>\n",
       "      <td>Z993</td>\n",
       "      <td>휠체어에 의존</td>\n",
       "      <td>Dependence on wheelchair</td>\n",
       "    </tr>\n",
       "    <tr>\n",
       "      <th>47795</th>\n",
       "      <td>Z994</td>\n",
       "      <td>인공심장에 의존</td>\n",
       "      <td>Dependence on artificial heart</td>\n",
       "    </tr>\n",
       "    <tr>\n",
       "      <th>47796</th>\n",
       "      <td>Z998</td>\n",
       "      <td>기타 기능성 기계 및 장치에 의존</td>\n",
       "      <td>Dependence on other enabling machines and devices</td>\n",
       "    </tr>\n",
       "    <tr>\n",
       "      <th>47797</th>\n",
       "      <td>Z999</td>\n",
       "      <td>상세불명의 기능성 기계 및 장치에 의존</td>\n",
       "      <td>Dependence on unspecified enabling machine and...</td>\n",
       "    </tr>\n",
       "  </tbody>\n",
       "</table>\n",
       "<p>47798 rows × 3 columns</p>\n",
       "</div>"
      ],
      "text/plain": [
       "       상병기호                        한글명   \n",
       "0       A00                        콜레라  \\\n",
       "1      A000  비브리오 콜레라 01 콜레라형균에 의한 콜레라   \n",
       "2      A000                    고전적 콜레라   \n",
       "3      A001  비브리오 콜레라 01 엘토르형균에 의한 콜레라   \n",
       "4      A001                    엘토르 콜레라   \n",
       "...     ...                        ...   \n",
       "47793  Z992                     신장투석상태   \n",
       "47794  Z993                    휠체어에 의존   \n",
       "47795  Z994                   인공심장에 의존   \n",
       "47796  Z998         기타 기능성 기계 및 장치에 의존   \n",
       "47797  Z999      상세불명의 기능성 기계 및 장치에 의존   \n",
       "\n",
       "                                                     영문영  \n",
       "0                                                Cholera  \n",
       "1      Cholera due to Vibrio cholerae 01_ biovar chol...  \n",
       "2                                      Classical cholera  \n",
       "3        Cholera due to Vibrio cholerae 01_ biovar eltor  \n",
       "4                                          Cholera eltor  \n",
       "...                                                  ...  \n",
       "47793                              Renal dialysis status  \n",
       "47794                           Dependence on wheelchair  \n",
       "47795                     Dependence on artificial heart  \n",
       "47796  Dependence on other enabling machines and devices  \n",
       "47797  Dependence on unspecified enabling machine and...  \n",
       "\n",
       "[47798 rows x 3 columns]"
      ]
     },
     "execution_count": 30,
     "metadata": {},
     "output_type": "execute_result"
    }
   ],
   "source": [
    "df4 = df4[['상병기호','한글명','영문영']]\n",
    "df4"
   ]
  },
  {
   "cell_type": "code",
   "execution_count": null,
   "metadata": {},
   "outputs": [],
   "source": [
    "df5"
   ]
  },
  {
   "cell_type": "code",
   "execution_count": null,
   "metadata": {},
   "outputs": [],
   "source": []
  },
  {
   "cell_type": "code",
   "execution_count": null,
   "metadata": {},
   "outputs": [],
   "source": []
  },
  {
   "cell_type": "code",
   "execution_count": null,
   "metadata": {},
   "outputs": [],
   "source": [
    "df_new = pd.merge(df, df2, left_on = '약품일반성분명코드', right_on ='일반명코드', how = 'left')\n",
    "df_new.head()"
   ]
  },
  {
   "cell_type": "code",
   "execution_count": 14,
   "metadata": {},
   "outputs": [],
   "source": [
    "df = df[['가입자 일련번호', '처방내역일련번호', '일련번호', '성별코드', '연령대코드(5세단위)', '시도코드','약품일반성분명코드', '총투여일수', '단가', '금액']]"
   ]
  },
  {
   "cell_type": "code",
   "execution_count": 16,
   "metadata": {},
   "outputs": [
    {
     "data": {
      "text/plain": [
       "0              충청북도\n",
       "1              충청북도\n",
       "2              충청북도\n",
       "3              충청북도\n",
       "4              충청북도\n",
       "             ...   \n",
       "10923220    세종특별자치시\n",
       "10923221    세종특별자치시\n",
       "10923222    세종특별자치시\n",
       "10923223    세종특별자치시\n",
       "10923224    세종특별자치시\n",
       "Name: 시도명, Length: 10923225, dtype: object"
      ]
     },
     "execution_count": 16,
     "metadata": {},
     "output_type": "execute_result"
    }
   ],
   "source": [
    "province_codes = {\n",
    "    11: '서울특별시',\n",
    "    26: '부산광역시',\n",
    "    27: '대구광역시',\n",
    "    28: '인천광역시',\n",
    "    29: '광주광역시',\n",
    "    30: '대전광역시',\n",
    "    31: '울산광역시',\n",
    "    36: '세종특별자치시',\n",
    "    41: '경기도',\n",
    "    42: '강원도',\n",
    "    43: '충청북도',\n",
    "    44: '충청남도',\n",
    "    45: '전라북도',\n",
    "    46: '전라남도',\n",
    "    47: '경상북도',\n",
    "    48: '경상남도',\n",
    "    49: '제주특별자치도'\n",
    "}\n",
    "\n",
    "df['시도명'] = df['시도코드'].map(province_codes)\n",
    "df['시도명']"
   ]
  },
  {
   "cell_type": "code",
   "execution_count": 54,
   "metadata": {},
   "outputs": [
    {
     "data": {
      "text/plain": [
       "2840"
      ]
     },
     "execution_count": 54,
     "metadata": {},
     "output_type": "execute_result"
    }
   ],
   "source": [
    "len(df['약품일반성분명코드'].unique())"
   ]
  },
  {
   "cell_type": "code",
   "execution_count": 56,
   "metadata": {},
   "outputs": [
    {
     "data": {
      "text/plain": [
       "일반명\n",
       "nicotinamide                                     1152\n",
       "ascorbic acid                                    1101\n",
       "tocopherol acetate                               1094\n",
       "riboflavin                                       1046\n",
       "cyanocobalamin                                   1000\n",
       "                                                 ... \n",
       "egualen sodium                                      1\n",
       "acyclovir(바이알)                                      1\n",
       "chondroitin sulfate-iron complex (as Fe 30mg)       1\n",
       "Levocetirizine HCl                                  1\n",
       "centella titrated extract                           1\n",
       "Name: count, Length: 7375, dtype: int64"
      ]
     },
     "execution_count": 56,
     "metadata": {},
     "output_type": "execute_result"
    }
   ],
   "source": [
    "df2['일반명'].unique"
   ]
  },
  {
   "cell_type": "code",
   "execution_count": 92,
   "metadata": {},
   "outputs": [
    {
     "data": {
      "text/plain": [
       "array(['과립제,세립 ', '액제 ', '산제 ', '경질캡슐제 ', '주사제 ', '정제,저작정 ', '장용정제 ',\n",
       "       '서방형정제 ', '연질캡슐제 ', '엘릭서제 ', '연고제 ', '좌제 ', '현탁액제,현탁액용정제,현탁액용산제 ',\n",
       "       '시럽제,건조시럽 ', '점안제', '크림제,겔제,젤리 ', '안연고제,점안겔제 ', '구강정 ', '로션제 ',\n",
       "       '서방캡슐제 ', '분무제 및 흡입제 ', '트로키제 ', '확산정, 속붕정, 구강붕해정 ', '장용캡슐제 ',\n",
       "       '에어로솔제 ', '기타제형 ', '패취제 ', '이식제 및 체내장치 ', '경고제,첩부제 ', '스폰지 및 드레싱 ',\n",
       "       nan, '설하정 ', '카타플라스마제 ', '관류액 등 ', '포말 ', '틴크제 ', '서방형과립제 ',\n",
       "       '페이스트제 ', '유제 ', '리니멘트제 ', '검사용', '환제 ', '연조엑스제 '], dtype=object)"
      ]
     },
     "execution_count": 92,
     "metadata": {},
     "output_type": "execute_result"
    }
   ],
   "source": [
    "df2['제형'].unique()"
   ]
  },
  {
   "cell_type": "code",
   "execution_count": 95,
   "metadata": {},
   "outputs": [
    {
     "data": {
      "text/plain": [
       "일반명\n",
       "tocopherol acetate                     460\n",
       "ascorbic acid                          385\n",
       "nicotinamide                           366\n",
       "cyanocobalamin                         343\n",
       "pyridoxine hydrochloride               288\n",
       "                                      ... \n",
       "cholecalciferol gr.                      1\n",
       "cacium hydrogen phosphate dihydrate      1\n",
       "caraway oil                              1\n",
       "curcuma zanthorrhiza ext.                1\n",
       "gamma-oryzanol                           1\n",
       "Name: count, Length: 732, dtype: int64"
      ]
     },
     "execution_count": 95,
     "metadata": {},
     "output_type": "execute_result"
    }
   ],
   "source": [
    "# dfk = df2[df2['제형'].isin(['정제,저작정','연질캡슐제 ','경질캡슐제','과립제,세립','장용캡슐제 ','분무제 및 흡입제','기타제형 ','설하정'])]\n",
    "# dfk['일반명'].value_counts()\n",
    "# df2[df2['일반명코드']=='146432ASS']"
   ]
  },
  {
   "cell_type": "code",
   "execution_count": 9,
   "metadata": {},
   "outputs": [
    {
     "data": {
      "text/html": [
       "<div>\n",
       "<style scoped>\n",
       "    .dataframe tbody tr th:only-of-type {\n",
       "        vertical-align: middle;\n",
       "    }\n",
       "\n",
       "    .dataframe tbody tr th {\n",
       "        vertical-align: top;\n",
       "    }\n",
       "\n",
       "    .dataframe thead th {\n",
       "        text-align: right;\n",
       "    }\n",
       "</style>\n",
       "<table border=\"1\" class=\"dataframe\">\n",
       "  <thead>\n",
       "    <tr style=\"text-align: right;\">\n",
       "      <th></th>\n",
       "      <th>가입자 일련번호</th>\n",
       "      <th>처방내역일련번호</th>\n",
       "      <th>일련번호</th>\n",
       "      <th>성별코드</th>\n",
       "      <th>연령대코드(5세단위)</th>\n",
       "      <th>시도코드</th>\n",
       "      <th>약품일반성분명코드</th>\n",
       "      <th>총투여일수</th>\n",
       "      <th>단가</th>\n",
       "      <th>금액</th>\n",
       "      <th>시도명</th>\n",
       "      <th>일반명코드</th>\n",
       "      <th>제형구분코드</th>\n",
       "      <th>제형</th>\n",
       "      <th>일반명</th>\n",
       "      <th>분류번호</th>\n",
       "      <th>투여</th>\n",
       "      <th>함량</th>\n",
       "      <th>단위</th>\n",
       "    </tr>\n",
       "  </thead>\n",
       "  <tbody>\n",
       "    <tr>\n",
       "      <th>0</th>\n",
       "      <td>666668</td>\n",
       "      <td>5260626</td>\n",
       "      <td>2</td>\n",
       "      <td>1</td>\n",
       "      <td>11</td>\n",
       "      <td>43</td>\n",
       "      <td>134103ATB</td>\n",
       "      <td>4</td>\n",
       "      <td>476.0</td>\n",
       "      <td>7616</td>\n",
       "      <td>충청북도</td>\n",
       "      <td>134103ATB</td>\n",
       "      <td>TB</td>\n",
       "      <td>정제,저작정</td>\n",
       "      <td>ciprofloxacin hydrochloride (as ciprofloxacin)</td>\n",
       "      <td>629.0</td>\n",
       "      <td>내복</td>\n",
       "      <td>0.25</td>\n",
       "      <td>g</td>\n",
       "    </tr>\n",
       "    <tr>\n",
       "      <th>1</th>\n",
       "      <td>666668</td>\n",
       "      <td>6859861</td>\n",
       "      <td>1</td>\n",
       "      <td>1</td>\n",
       "      <td>11</td>\n",
       "      <td>43</td>\n",
       "      <td>146432ASS</td>\n",
       "      <td>3</td>\n",
       "      <td>14.0</td>\n",
       "      <td>1680</td>\n",
       "      <td>충청북도</td>\n",
       "      <td>146432ASS</td>\n",
       "      <td>SS</td>\n",
       "      <td>현탁액제,현탁액용정제,현탁액용산제</td>\n",
       "      <td>dioctahedral smectite</td>\n",
       "      <td>237.0</td>\n",
       "      <td>내복</td>\n",
       "      <td>75</td>\n",
       "      <td>g(0.15g/mL)</td>\n",
       "    </tr>\n",
       "    <tr>\n",
       "      <th>2</th>\n",
       "      <td>666668</td>\n",
       "      <td>769595</td>\n",
       "      <td>1</td>\n",
       "      <td>1</td>\n",
       "      <td>11</td>\n",
       "      <td>43</td>\n",
       "      <td>451302ATB</td>\n",
       "      <td>7</td>\n",
       "      <td>53.0</td>\n",
       "      <td>186</td>\n",
       "      <td>충청북도</td>\n",
       "      <td>451302ATB</td>\n",
       "      <td>TB</td>\n",
       "      <td>정제,저작정</td>\n",
       "      <td>chlorthalidone</td>\n",
       "      <td>213.0</td>\n",
       "      <td>내복</td>\n",
       "      <td>25</td>\n",
       "      <td>mg</td>\n",
       "    </tr>\n",
       "    <tr>\n",
       "      <th>3</th>\n",
       "      <td>666668</td>\n",
       "      <td>6859861</td>\n",
       "      <td>4</td>\n",
       "      <td>1</td>\n",
       "      <td>11</td>\n",
       "      <td>43</td>\n",
       "      <td>185102ACH</td>\n",
       "      <td>3</td>\n",
       "      <td>30.0</td>\n",
       "      <td>90</td>\n",
       "      <td>충청북도</td>\n",
       "      <td>185102ACH</td>\n",
       "      <td>CH</td>\n",
       "      <td>경질캡슐제</td>\n",
       "      <td>loperamide hydrochloride</td>\n",
       "      <td>237.0</td>\n",
       "      <td>내복</td>\n",
       "      <td>2</td>\n",
       "      <td>mg</td>\n",
       "    </tr>\n",
       "    <tr>\n",
       "      <th>4</th>\n",
       "      <td>666668</td>\n",
       "      <td>9307313</td>\n",
       "      <td>2</td>\n",
       "      <td>1</td>\n",
       "      <td>11</td>\n",
       "      <td>43</td>\n",
       "      <td>260100ACR</td>\n",
       "      <td>3</td>\n",
       "      <td>302.0</td>\n",
       "      <td>906</td>\n",
       "      <td>충청북도</td>\n",
       "      <td>260100ACR</td>\n",
       "      <td>CR</td>\n",
       "      <td>서방캡슐제</td>\n",
       "      <td>ebastine</td>\n",
       "      <td>141.0</td>\n",
       "      <td>내복</td>\n",
       "      <td>10</td>\n",
       "      <td>mg</td>\n",
       "    </tr>\n",
       "  </tbody>\n",
       "</table>\n",
       "</div>"
      ],
      "text/plain": [
       "   가입자 일련번호  처방내역일련번호  일련번호  성별코드  연령대코드(5세단위)  시도코드  약품일반성분명코드  총투여일수     단가   \n",
       "0    666668   5260626     2     1           11    43  134103ATB      4  476.0  \\\n",
       "1    666668   6859861     1     1           11    43  146432ASS      3   14.0   \n",
       "2    666668    769595     1     1           11    43  451302ATB      7   53.0   \n",
       "3    666668   6859861     4     1           11    43  185102ACH      3   30.0   \n",
       "4    666668   9307313     2     1           11    43  260100ACR      3  302.0   \n",
       "\n",
       "     금액   시도명      일반명코드 제형구분코드                   제형   \n",
       "0  7616  충청북도  134103ATB     TB              정제,저작정   \\\n",
       "1  1680  충청북도  146432ASS     SS  현탁액제,현탁액용정제,현탁액용산제    \n",
       "2   186  충청북도  451302ATB     TB              정제,저작정    \n",
       "3    90  충청북도  185102ACH     CH               경질캡슐제    \n",
       "4   906  충청북도  260100ACR     CR               서방캡슐제    \n",
       "\n",
       "                                              일반명   분류번호   투여    함량   \n",
       "0  ciprofloxacin hydrochloride (as ciprofloxacin)  629.0  내복   0.25  \\\n",
       "1                           dioctahedral smectite  237.0  내복     75   \n",
       "2                                  chlorthalidone  213.0  내복     25   \n",
       "3                        loperamide hydrochloride  237.0  내복      2   \n",
       "4                                        ebastine  141.0  내복     10   \n",
       "\n",
       "            단위  \n",
       "0            g  \n",
       "1  g(0.15g/mL)  \n",
       "2           mg  \n",
       "3           mg  \n",
       "4           mg  "
      ]
     },
     "execution_count": 9,
     "metadata": {},
     "output_type": "execute_result"
    }
   ],
   "source": [
    "df_new = pd.merge(df, df2, left_on = '약품일반성분명코드', right_on ='일반명코드', how = 'left')\n",
    "df_new.head()"
   ]
  },
  {
   "cell_type": "code",
   "execution_count": 10,
   "metadata": {},
   "outputs": [],
   "source": [
    "df_new.isnull().sum()\n",
    "df_new.dropna(inplace=True)"
   ]
  },
  {
   "cell_type": "code",
   "execution_count": 108,
   "metadata": {},
   "outputs": [
    {
     "data": {
      "text/plain": [
       "333333"
      ]
     },
     "execution_count": 108,
     "metadata": {},
     "output_type": "execute_result"
    }
   ],
   "source": [
    "len(df_new['가입자 일련번호'].unique())"
   ]
  },
  {
   "cell_type": "code",
   "execution_count": 110,
   "metadata": {},
   "outputs": [
    {
     "data": {
      "text/plain": [
       "연령대코드(5세단위)\n",
       "13    1320402\n",
       "14    1228442\n",
       "12    1127647\n",
       "15    1088838\n",
       "11     961893\n",
       "16     958801\n",
       "10     788530\n",
       "1      753929\n",
       "17     690245\n",
       "9      640621\n",
       "8      578524\n",
       "2      531473\n",
       "7      440251\n",
       "6      431377\n",
       "18     418208\n",
       "5      341429\n",
       "4      265048\n",
       "3      241278\n",
       "Name: count, dtype: int64"
      ]
     },
     "execution_count": 110,
     "metadata": {},
     "output_type": "execute_result"
    }
   ],
   "source": [
    "df_new['연령대코드(5세단위)'].value_counts()"
   ]
  },
  {
   "cell_type": "code",
   "execution_count": 11,
   "metadata": {},
   "outputs": [
    {
     "data": {
      "text/plain": [
       "연령대\n",
       "60대     2548844\n",
       "50대     2089540\n",
       "70대     2047639\n",
       "40대     1429151\n",
       "9세미만    1285402\n",
       "80대     1108453\n",
       "30대     1018775\n",
       "20대      772806\n",
       "10대      506326\n",
       "Name: count, dtype: int64"
      ]
     },
     "execution_count": 11,
     "metadata": {},
     "output_type": "execute_result"
    }
   ],
   "source": [
    "def age_level(age):\n",
    "    if age == 1 or age == 2:\n",
    "        result = '9세미만'\n",
    "    elif age == 3 or age == 4:\n",
    "        result = '10대'\n",
    "    elif age == 5 or age == 6:\n",
    "        result = '20대'\n",
    "    elif age == 7 or age == 8:\n",
    "        result = '30대'\n",
    "    elif age == 9 or age == 10:\n",
    "        result = '40대'\n",
    "    elif age == 11 or age == 12:\n",
    "        result = '50대'\n",
    "    elif age == 13 or age == 14:\n",
    "        result = '60대'\n",
    "    elif age == 15 or age == 16:\n",
    "        result = '70대'\n",
    "    else:\n",
    "        result = '80대'\n",
    "    return result\n",
    "        \n",
    "df_new['연령대'] = df_new['연령대코드(5세단위)'].map(lambda x: age_level(x))\n",
    "df_new['연령대'].value_counts()"
   ]
  },
  {
   "cell_type": "code",
   "execution_count": 117,
   "metadata": {},
   "outputs": [
    {
     "data": {
      "text/plain": [
       "0           내복 \n",
       "1           내복 \n",
       "2           내복 \n",
       "3           내복 \n",
       "4           내복 \n",
       "           ... \n",
       "12807768    내복 \n",
       "12807769    내복 \n",
       "12807770    내복 \n",
       "12807771    내복 \n",
       "12807772    내복 \n",
       "Name: 투여, Length: 12806936, dtype: object"
      ]
     },
     "execution_count": 117,
     "metadata": {},
     "output_type": "execute_result"
    }
   ],
   "source": [
    "df_new['투여']"
   ]
  },
  {
   "cell_type": "code",
   "execution_count": 14,
   "metadata": {},
   "outputs": [
    {
     "data": {
      "text/html": [
       "<div>\n",
       "<style scoped>\n",
       "    .dataframe tbody tr th:only-of-type {\n",
       "        vertical-align: middle;\n",
       "    }\n",
       "\n",
       "    .dataframe tbody tr th {\n",
       "        vertical-align: top;\n",
       "    }\n",
       "\n",
       "    .dataframe thead th {\n",
       "        text-align: right;\n",
       "    }\n",
       "</style>\n",
       "<table border=\"1\" class=\"dataframe\">\n",
       "  <thead>\n",
       "    <tr style=\"text-align: right;\">\n",
       "      <th></th>\n",
       "      <th>가입자 일련번호</th>\n",
       "      <th>성별코드</th>\n",
       "      <th>연령대코드(5세단위)</th>\n",
       "      <th>총투여일수</th>\n",
       "      <th>단가</th>\n",
       "      <th>금액</th>\n",
       "      <th>시도명</th>\n",
       "      <th>일반명코드</th>\n",
       "      <th>제형구분코드</th>\n",
       "      <th>제형</th>\n",
       "      <th>일반명</th>\n",
       "      <th>분류번호</th>\n",
       "      <th>함량</th>\n",
       "      <th>단위</th>\n",
       "      <th>연령대</th>\n",
       "    </tr>\n",
       "  </thead>\n",
       "  <tbody>\n",
       "    <tr>\n",
       "      <th>0</th>\n",
       "      <td>666668</td>\n",
       "      <td>1</td>\n",
       "      <td>11</td>\n",
       "      <td>4</td>\n",
       "      <td>476.0</td>\n",
       "      <td>7616</td>\n",
       "      <td>충청북도</td>\n",
       "      <td>134103ATB</td>\n",
       "      <td>TB</td>\n",
       "      <td>정제,저작정</td>\n",
       "      <td>ciprofloxacin hydrochloride (as ciprofloxacin)</td>\n",
       "      <td>629.0</td>\n",
       "      <td>0.25</td>\n",
       "      <td>g</td>\n",
       "      <td>50대</td>\n",
       "    </tr>\n",
       "    <tr>\n",
       "      <th>1</th>\n",
       "      <td>666668</td>\n",
       "      <td>1</td>\n",
       "      <td>11</td>\n",
       "      <td>3</td>\n",
       "      <td>14.0</td>\n",
       "      <td>1680</td>\n",
       "      <td>충청북도</td>\n",
       "      <td>146432ASS</td>\n",
       "      <td>SS</td>\n",
       "      <td>현탁액제,현탁액용정제,현탁액용산제</td>\n",
       "      <td>dioctahedral smectite</td>\n",
       "      <td>237.0</td>\n",
       "      <td>75</td>\n",
       "      <td>g(0.15g/mL)</td>\n",
       "      <td>50대</td>\n",
       "    </tr>\n",
       "  </tbody>\n",
       "</table>\n",
       "</div>"
      ],
      "text/plain": [
       "   가입자 일련번호  성별코드  연령대코드(5세단위)  총투여일수     단가    금액   시도명      일반명코드 제형구분코드   \n",
       "0    666668     1           11      4  476.0  7616  충청북도  134103ATB     TB  \\\n",
       "1    666668     1           11      3   14.0  1680  충청북도  146432ASS     SS   \n",
       "\n",
       "                    제형                                             일반명   분류번호   \n",
       "0              정제,저작정   ciprofloxacin hydrochloride (as ciprofloxacin)  629.0  \\\n",
       "1  현탁액제,현탁액용정제,현탁액용산제                            dioctahedral smectite  237.0   \n",
       "\n",
       "     함량           단위  연령대  \n",
       "0  0.25            g  50대  \n",
       "1    75  g(0.15g/mL)  50대  "
      ]
     },
     "execution_count": 14,
     "metadata": {},
     "output_type": "execute_result"
    }
   ],
   "source": [
    "df_new.head(2)"
   ]
  },
  {
   "cell_type": "code",
   "execution_count": 12,
   "metadata": {},
   "outputs": [
    {
     "data": {
      "text/html": [
       "<div>\n",
       "<style scoped>\n",
       "    .dataframe tbody tr th:only-of-type {\n",
       "        vertical-align: middle;\n",
       "    }\n",
       "\n",
       "    .dataframe tbody tr th {\n",
       "        vertical-align: top;\n",
       "    }\n",
       "\n",
       "    .dataframe thead th {\n",
       "        text-align: right;\n",
       "    }\n",
       "</style>\n",
       "<table border=\"1\" class=\"dataframe\">\n",
       "  <thead>\n",
       "    <tr style=\"text-align: right;\">\n",
       "      <th></th>\n",
       "      <th>가입자 일련번호</th>\n",
       "      <th>처방내역일련번호</th>\n",
       "      <th>일련번호</th>\n",
       "      <th>성별코드</th>\n",
       "      <th>연령대코드(5세단위)</th>\n",
       "      <th>시도코드</th>\n",
       "      <th>약품일반성분명코드</th>\n",
       "      <th>총투여일수</th>\n",
       "      <th>단가</th>\n",
       "      <th>금액</th>\n",
       "      <th>시도명</th>\n",
       "      <th>일반명코드</th>\n",
       "      <th>제형구분코드</th>\n",
       "      <th>제형</th>\n",
       "      <th>일반명</th>\n",
       "      <th>분류번호</th>\n",
       "      <th>투여</th>\n",
       "      <th>함량</th>\n",
       "      <th>단위</th>\n",
       "      <th>연령대</th>\n",
       "    </tr>\n",
       "  </thead>\n",
       "  <tbody>\n",
       "    <tr>\n",
       "      <th>0</th>\n",
       "      <td>666668</td>\n",
       "      <td>5260626</td>\n",
       "      <td>2</td>\n",
       "      <td>1</td>\n",
       "      <td>11</td>\n",
       "      <td>43</td>\n",
       "      <td>134103ATB</td>\n",
       "      <td>4</td>\n",
       "      <td>476.0</td>\n",
       "      <td>7616</td>\n",
       "      <td>충청북도</td>\n",
       "      <td>134103ATB</td>\n",
       "      <td>TB</td>\n",
       "      <td>정제,저작정</td>\n",
       "      <td>ciprofloxacin hydrochloride (as ciprofloxacin)</td>\n",
       "      <td>629</td>\n",
       "      <td>내복</td>\n",
       "      <td>0.25</td>\n",
       "      <td>g</td>\n",
       "      <td>50대</td>\n",
       "    </tr>\n",
       "    <tr>\n",
       "      <th>1</th>\n",
       "      <td>666668</td>\n",
       "      <td>6859861</td>\n",
       "      <td>1</td>\n",
       "      <td>1</td>\n",
       "      <td>11</td>\n",
       "      <td>43</td>\n",
       "      <td>146432ASS</td>\n",
       "      <td>3</td>\n",
       "      <td>14.0</td>\n",
       "      <td>1680</td>\n",
       "      <td>충청북도</td>\n",
       "      <td>146432ASS</td>\n",
       "      <td>SS</td>\n",
       "      <td>현탁액제,현탁액용정제,현탁액용산제</td>\n",
       "      <td>dioctahedral smectite</td>\n",
       "      <td>237</td>\n",
       "      <td>내복</td>\n",
       "      <td>75</td>\n",
       "      <td>g(0.15g/mL)</td>\n",
       "      <td>50대</td>\n",
       "    </tr>\n",
       "    <tr>\n",
       "      <th>2</th>\n",
       "      <td>666668</td>\n",
       "      <td>769595</td>\n",
       "      <td>1</td>\n",
       "      <td>1</td>\n",
       "      <td>11</td>\n",
       "      <td>43</td>\n",
       "      <td>451302ATB</td>\n",
       "      <td>7</td>\n",
       "      <td>53.0</td>\n",
       "      <td>186</td>\n",
       "      <td>충청북도</td>\n",
       "      <td>451302ATB</td>\n",
       "      <td>TB</td>\n",
       "      <td>정제,저작정</td>\n",
       "      <td>chlorthalidone</td>\n",
       "      <td>213</td>\n",
       "      <td>내복</td>\n",
       "      <td>25</td>\n",
       "      <td>mg</td>\n",
       "      <td>50대</td>\n",
       "    </tr>\n",
       "  </tbody>\n",
       "</table>\n",
       "</div>"
      ],
      "text/plain": [
       "   가입자 일련번호  처방내역일련번호  일련번호  성별코드  연령대코드(5세단위)  시도코드  약품일반성분명코드  총투여일수     단가   \n",
       "0    666668   5260626     2     1           11    43  134103ATB      4  476.0  \\\n",
       "1    666668   6859861     1     1           11    43  146432ASS      3   14.0   \n",
       "2    666668    769595     1     1           11    43  451302ATB      7   53.0   \n",
       "\n",
       "     금액   시도명      일반명코드 제형구분코드                   제형   \n",
       "0  7616  충청북도  134103ATB     TB              정제,저작정   \\\n",
       "1  1680  충청북도  146432ASS     SS  현탁액제,현탁액용정제,현탁액용산제    \n",
       "2   186  충청북도  451302ATB     TB              정제,저작정    \n",
       "\n",
       "                                              일반명  분류번호   투여    함량   \n",
       "0  ciprofloxacin hydrochloride (as ciprofloxacin)   629  내복   0.25  \\\n",
       "1                           dioctahedral smectite   237  내복     75   \n",
       "2                                  chlorthalidone   213  내복     25   \n",
       "\n",
       "            단위  연령대  \n",
       "0            g  50대  \n",
       "1  g(0.15g/mL)  50대  \n",
       "2           mg  50대  "
      ]
     },
     "execution_count": 12,
     "metadata": {},
     "output_type": "execute_result"
    }
   ],
   "source": [
    "df_new = df_new[df_new['투여']=='내복 ']\n",
    "df_new['분류번호'] = df_new['분류번호'].astype(int)\n",
    "df_new.head(3)"
   ]
  },
  {
   "cell_type": "code",
   "execution_count": 13,
   "metadata": {},
   "outputs": [
    {
     "data": {
      "text/plain": [
       "Index(['가입자 일련번호', '처방내역일련번호', '일련번호', '성별코드', '연령대코드(5세단위)', '시도코드',\n",
       "       '약품일반성분명코드', '총투여일수', '단가', '금액', '시도명', '일반명코드', '제형구분코드', '제형', '일반명',\n",
       "       '분류번호', '투여', '함량', '단위', '연령대'],\n",
       "      dtype='object')"
      ]
     },
     "execution_count": 13,
     "metadata": {},
     "output_type": "execute_result"
    }
   ],
   "source": [
    "df_new.columns"
   ]
  },
  {
   "cell_type": "code",
   "execution_count": 14,
   "metadata": {},
   "outputs": [],
   "source": [
    "df_new.drop(['처방내역일련번호','일련번호','시도코드','약품일반성분명코드','제형구분코드','투여'],axis=1,inplace=True)"
   ]
  },
  {
   "cell_type": "code",
   "execution_count": 15,
   "metadata": {},
   "outputs": [
    {
     "data": {
      "text/plain": [
       "분류번호\n",
       "222    1629263\n",
       "114    1607869\n",
       "232    1306241\n",
       "141     803359\n",
       "239     727613\n",
       "        ...   \n",
       "642         59\n",
       "623         43\n",
       "231         17\n",
       "244         13\n",
       "129          1\n",
       "Name: count, Length: 80, dtype: int64"
      ]
     },
     "execution_count": 15,
     "metadata": {},
     "output_type": "execute_result"
    }
   ],
   "source": [
    "df_new['분류번호'].value_counts()"
   ]
  },
  {
   "cell_type": "code",
   "execution_count": 33,
   "metadata": {},
   "outputs": [
    {
     "data": {
      "text/plain": [
       "연령대\n",
       "60대     2375070\n",
       "50대     1942048\n",
       "70대     1901111\n",
       "40대     1323628\n",
       "9세미만    1203357\n",
       "80대     1037986\n",
       "30대      935361\n",
       "20대      696671\n",
       "10대      460472\n",
       "Name: count, dtype: int64"
      ]
     },
     "execution_count": 33,
     "metadata": {},
     "output_type": "execute_result"
    }
   ],
   "source": [
    "df_new['연령대'].value_counts() # 60 50 70 40 많음 "
   ]
  },
  {
   "cell_type": "code",
   "execution_count": 16,
   "metadata": {},
   "outputs": [
    {
     "data": {
      "text/plain": [
       "일반명                                     연령대\n",
       "1% misoprostol powder (as misoprostol)  60대    469\n",
       "                                        50대    457\n",
       "                                        70대    408\n",
       "                                        40대    279\n",
       "                                        80대    241\n",
       "                                              ... \n",
       "자오가·우슬·방풍·두충·구척·흑두 dried ext.(20→1)     80대    753\n",
       "                                        40대    607\n",
       "                                        30대    284\n",
       "                                        20대    129\n",
       "                                        10대     29\n",
       "Name: count, Length: 6915, dtype: int64"
      ]
     },
     "execution_count": 16,
     "metadata": {},
     "output_type": "execute_result"
    }
   ],
   "source": [
    "df_new.groupby('일반명')['연령대'].value_counts() # 약품 종류가 6915개 / 연령대별로 어떻게 많이 먹는지 확인"
   ]
  },
  {
   "cell_type": "code",
   "execution_count": 81,
   "metadata": {},
   "outputs": [
    {
     "data": {
      "text/plain": [
       "<pandas.core.groupby.generic.SeriesGroupBy object at 0x000002BA5DE49390>"
      ]
     },
     "execution_count": 81,
     "metadata": {},
     "output_type": "execute_result"
    }
   ],
   "source": [
    "series_10 = df_new[df_new['연령대']=='10대'].groupby('분류번호')['일반명']\n",
    "series_10"
   ]
  },
  {
   "cell_type": "code",
   "execution_count": 18,
   "metadata": {},
   "outputs": [],
   "source": [
    "agelevel_name = df_new.groupby(['연령대','분류번호'])['일반명']"
   ]
  },
  {
   "cell_type": "code",
   "execution_count": 19,
   "metadata": {},
   "outputs": [
    {
     "data": {
      "text/plain": [
       "연령대   분류번호        \n",
       "10대   112   28866             triazolam\n",
       "            109888    zolpidem tartrate\n",
       "            374579        flunitrazepam\n",
       "      113   24888         carbamazepine\n",
       "            374561           clonazepam\n",
       "                            ...        \n",
       "9세미만  631   530822       oseltamivir   \n",
       "            540156       oseltamivir   \n",
       "      641   338925        metronidazole\n",
       "            598842        metronidazole\n",
       "            598859        metronidazole\n",
       "Name: 일반명, Length: 1982, dtype: object"
      ]
     },
     "execution_count": 19,
     "metadata": {},
     "output_type": "execute_result"
    }
   ],
   "source": [
    "extracted_data= agelevel_name.apply(lambda x: x.head(3)) # 연령대별로 약별로 가장 많이 처방많이 받은약 3개씩 추출\n",
    "extracted_data"
   ]
  },
  {
   "cell_type": "code",
   "execution_count": 34,
   "metadata": {},
   "outputs": [
    {
     "data": {
      "text/plain": [
       "가입자 일련번호\n",
       "791711    2171\n",
       "924007    1836\n",
       "841511    1540\n",
       "952857    1413\n",
       "839342    1311\n",
       "          ... \n",
       "796929       1\n",
       "773468       1\n",
       "910502       1\n",
       "863386       1\n",
       "788125       1\n",
       "Name: count, Length: 326444, dtype: int64"
      ]
     },
     "execution_count": 34,
     "metadata": {},
     "output_type": "execute_result"
    }
   ],
   "source": [
    "df_new['가입자 일련번호'].value_counts() # 326444명"
   ]
  },
  {
   "cell_type": "code",
   "execution_count": 105,
   "metadata": {},
   "outputs": [
    {
     "data": {
      "text/html": [
       "<div>\n",
       "<style scoped>\n",
       "    .dataframe tbody tr th:only-of-type {\n",
       "        vertical-align: middle;\n",
       "    }\n",
       "\n",
       "    .dataframe tbody tr th {\n",
       "        vertical-align: top;\n",
       "    }\n",
       "\n",
       "    .dataframe thead th {\n",
       "        text-align: right;\n",
       "    }\n",
       "</style>\n",
       "<table border=\"1\" class=\"dataframe\">\n",
       "  <thead>\n",
       "    <tr style=\"text-align: right;\">\n",
       "      <th></th>\n",
       "      <th>기준년도</th>\n",
       "      <th>가입자 일련번호</th>\n",
       "      <th>진료내역일련번호</th>\n",
       "      <th>성별코드</th>\n",
       "      <th>연령대코드</th>\n",
       "      <th>시도코드</th>\n",
       "      <th>요양개시일자</th>\n",
       "      <th>서식코드</th>\n",
       "      <th>진료과목코드</th>\n",
       "      <th>주상병코드</th>\n",
       "      <th>부상병코드</th>\n",
       "      <th>요양일수</th>\n",
       "      <th>입내원일수</th>\n",
       "      <th>심결가산율</th>\n",
       "      <th>심결요양급여비용총액</th>\n",
       "      <th>심결본인부담금</th>\n",
       "      <th>심결보험자부담금</th>\n",
       "      <th>총처방일수</th>\n",
       "      <th>데이터 기준일자</th>\n",
       "    </tr>\n",
       "  </thead>\n",
       "  <tbody>\n",
       "    <tr>\n",
       "      <th>0</th>\n",
       "      <td>2020</td>\n",
       "      <td>666847</td>\n",
       "      <td>3243108</td>\n",
       "      <td>1</td>\n",
       "      <td>14</td>\n",
       "      <td>41</td>\n",
       "      <td>2020-12-21</td>\n",
       "      <td>3</td>\n",
       "      <td>1</td>\n",
       "      <td>I109</td>\n",
       "      <td>E1150</td>\n",
       "      <td>1</td>\n",
       "      <td>1</td>\n",
       "      <td>0.15</td>\n",
       "      <td>11540</td>\n",
       "      <td>1500</td>\n",
       "      <td>10040</td>\n",
       "      <td>30</td>\n",
       "      <td>2021-12-28</td>\n",
       "    </tr>\n",
       "    <tr>\n",
       "      <th>1</th>\n",
       "      <td>2020</td>\n",
       "      <td>666847</td>\n",
       "      <td>5512427</td>\n",
       "      <td>1</td>\n",
       "      <td>14</td>\n",
       "      <td>41</td>\n",
       "      <td>2020-10-20</td>\n",
       "      <td>3</td>\n",
       "      <td>1</td>\n",
       "      <td>I109</td>\n",
       "      <td>E1150</td>\n",
       "      <td>1</td>\n",
       "      <td>1</td>\n",
       "      <td>0.15</td>\n",
       "      <td>11540</td>\n",
       "      <td>1500</td>\n",
       "      <td>10040</td>\n",
       "      <td>30</td>\n",
       "      <td>2021-12-28</td>\n",
       "    </tr>\n",
       "    <tr>\n",
       "      <th>2</th>\n",
       "      <td>2020</td>\n",
       "      <td>666847</td>\n",
       "      <td>4023485</td>\n",
       "      <td>1</td>\n",
       "      <td>14</td>\n",
       "      <td>41</td>\n",
       "      <td>2020-11-18</td>\n",
       "      <td>3</td>\n",
       "      <td>1</td>\n",
       "      <td>I109</td>\n",
       "      <td>E1150</td>\n",
       "      <td>1</td>\n",
       "      <td>1</td>\n",
       "      <td>0.15</td>\n",
       "      <td>11540</td>\n",
       "      <td>1500</td>\n",
       "      <td>10040</td>\n",
       "      <td>30</td>\n",
       "      <td>2021-12-28</td>\n",
       "    </tr>\n",
       "    <tr>\n",
       "      <th>3</th>\n",
       "      <td>2020</td>\n",
       "      <td>666890</td>\n",
       "      <td>4506728</td>\n",
       "      <td>2</td>\n",
       "      <td>16</td>\n",
       "      <td>41</td>\n",
       "      <td>2020-11-30</td>\n",
       "      <td>3</td>\n",
       "      <td>1</td>\n",
       "      <td>I109</td>\n",
       "      <td>E785</td>\n",
       "      <td>1</td>\n",
       "      <td>1</td>\n",
       "      <td>0.15</td>\n",
       "      <td>11540</td>\n",
       "      <td>1500</td>\n",
       "      <td>10040</td>\n",
       "      <td>90</td>\n",
       "      <td>2021-12-28</td>\n",
       "    </tr>\n",
       "    <tr>\n",
       "      <th>4</th>\n",
       "      <td>2020</td>\n",
       "      <td>666890</td>\n",
       "      <td>4498242</td>\n",
       "      <td>2</td>\n",
       "      <td>16</td>\n",
       "      <td>41</td>\n",
       "      <td>2020-11-09</td>\n",
       "      <td>3</td>\n",
       "      <td>1</td>\n",
       "      <td>I109</td>\n",
       "      <td>E785</td>\n",
       "      <td>1</td>\n",
       "      <td>1</td>\n",
       "      <td>0.15</td>\n",
       "      <td>11540</td>\n",
       "      <td>1500</td>\n",
       "      <td>10040</td>\n",
       "      <td>56</td>\n",
       "      <td>2021-12-28</td>\n",
       "    </tr>\n",
       "  </tbody>\n",
       "</table>\n",
       "</div>"
      ],
      "text/plain": [
       "   기준년도  가입자 일련번호  진료내역일련번호  성별코드  연령대코드  시도코드      요양개시일자  서식코드  진료과목코드   \n",
       "0  2020    666847   3243108     1     14    41  2020-12-21     3       1  \\\n",
       "1  2020    666847   5512427     1     14    41  2020-10-20     3       1   \n",
       "2  2020    666847   4023485     1     14    41  2020-11-18     3       1   \n",
       "3  2020    666890   4506728     2     16    41  2020-11-30     3       1   \n",
       "4  2020    666890   4498242     2     16    41  2020-11-09     3       1   \n",
       "\n",
       "  주상병코드  부상병코드  요양일수  입내원일수  심결가산율  심결요양급여비용총액  심결본인부담금  심결보험자부담금  총처방일수   \n",
       "0  I109  E1150     1      1   0.15       11540     1500     10040     30  \\\n",
       "1  I109  E1150     1      1   0.15       11540     1500     10040     30   \n",
       "2  I109  E1150     1      1   0.15       11540     1500     10040     30   \n",
       "3  I109   E785     1      1   0.15       11540     1500     10040     90   \n",
       "4  I109   E785     1      1   0.15       11540     1500     10040     56   \n",
       "\n",
       "     데이터 기준일자  \n",
       "0  2021-12-28  \n",
       "1  2021-12-28  \n",
       "2  2021-12-28  \n",
       "3  2021-12-28  \n",
       "4  2021-12-28  "
      ]
     },
     "execution_count": 105,
     "metadata": {},
     "output_type": "execute_result"
    }
   ],
   "source": [
    "df3.head()"
   ]
  },
  {
   "cell_type": "code",
   "execution_count": 94,
   "metadata": {},
   "outputs": [
    {
     "name": "stderr",
     "output_type": "stream",
     "text": [
      "C:\\Users\\User\\AppData\\Local\\Temp\\ipykernel_22360\\1233360513.py:1: DtypeWarning: Columns (28,29,33,37,39,40,41,44,45,46,47) have mixed types. Specify dtype option on import or set low_memory=False.\n",
      "  data = pd.read_csv('TL.csv')\n"
     ]
    }
   ],
   "source": [
    "data = pd.read_csv('TL.csv')"
   ]
  },
  {
   "cell_type": "code",
   "execution_count": 115,
   "metadata": {},
   "outputs": [
    {
     "data": {
      "text/plain": [
       "0         196400046\n",
       "1         196400046\n",
       "2         196400046\n",
       "3         196400046\n",
       "4         196400046\n",
       "            ...    \n",
       "971131    201405122\n",
       "971132    201405122\n",
       "971133    201405122\n",
       "971134    201405122\n",
       "971135    201405122\n",
       "Name: item_seq, Length: 971136, dtype: int64"
      ]
     },
     "execution_count": 115,
     "metadata": {},
     "output_type": "execute_result"
    }
   ],
   "source": [
    "data['item_seq']"
   ]
  },
  {
   "cell_type": "code",
   "execution_count": 95,
   "metadata": {},
   "outputs": [
    {
     "data": {
      "text/plain": [
       "Index(['Unnamed: 0', 'file_name', 'width', 'height', 'imgfile', 'drug_N',\n",
       "       'drug_S', 'back_color', 'drug_dir', 'light_color', 'camera_la',\n",
       "       'camera_lo', 'size', 'item_seq', 'leng_long', 'leng_short', 'thick',\n",
       "       'id', 'dl_idx', 'dl_mapping_code', 'dl_name', 'dl_name_en', 'img_key',\n",
       "       'dl_material', 'dl_material_en', 'dl_custom_shape', 'dl_company',\n",
       "       'dl_company_en', 'di_company_mf', 'di_company_mf_en',\n",
       "       'di_item_permit_date', 'di_class_no', 'di_etc_otc_code', 'di_edi_code',\n",
       "       'chart', 'drug_shape', 'print_front', 'print_back', 'color_class1',\n",
       "       'color_class2', 'line_front', 'line_back', 'img_regist_ts',\n",
       "       'form_code_name', 'mark_code_front_anal', 'mark_code_back_anal',\n",
       "       'mark_code_front_img', 'mark_code_back_img', 'mark_code_front',\n",
       "       'mark_code_back', 'change_date'],\n",
       "      dtype='object')"
      ]
     },
     "execution_count": 95,
     "metadata": {},
     "output_type": "execute_result"
    }
   ],
   "source": [
    "data.columns"
   ]
  },
  {
   "cell_type": "code",
   "execution_count": 96,
   "metadata": {},
   "outputs": [],
   "source": [
    "data = data[['file_name','drug_N','dl_idx','dl_name','dl_name_en','dl_material','dl_material_en',\n",
    "              'dl_company','dl_company_en','di_class_no','item_seq','di_etc_otc_code','di_edi_code','chart',\n",
    "              'drug_shape','print_front','print_back','color_class1','form_code_name']]"
   ]
  },
  {
   "cell_type": "code",
   "execution_count": 97,
   "metadata": {},
   "outputs": [],
   "source": [
    "keys = ['file_name','drug_N','dl_idx','dl_name','dl_name_en','dl_material','dl_material_en','dl_company','dl_company_en','di_class_no','item_seq','di_etc_otc_code','di_edi_code','chart',\n",
    "'drug_shape','print_front','print_back','color_class1','form_code_name']\n",
    "values = ['파일이름','알약코드','알약 식별자','제품명','제품명(영어)','성분명','성분명(영어)','제조사명','제조사명(영어)','약품 분류','품목기준 코드','전문의약품 여부','EDI코드','제형',\n",
    "'모양','식별문자(앞)','식별문자(뒤)','색상','정제 분류명']\n",
    "my_dict = dict(zip(keys, values))\n",
    "\n"
   ]
  },
  {
   "cell_type": "code",
   "execution_count": 98,
   "metadata": {},
   "outputs": [
    {
     "data": {
      "text/plain": [
       "Index(['파일이름', '알약코드', '알약 식별자', '제품명', '제품명(영어)', '성분명', '성분명(영어)', '제조사명',\n",
       "       '제조사명(영어)', '약품 분류', '품목기준 코드', '전문의약품 여부', 'EDI코드', '제형', '모양',\n",
       "       '식별문자(앞)', '식별문자(뒤)', '색상', '정제 분류명'],\n",
       "      dtype='object')"
      ]
     },
     "execution_count": 98,
     "metadata": {},
     "output_type": "execute_result"
    }
   ],
   "source": [
    "data = data.rename(columns=my_dict)\n",
    "data.columns"
   ]
  },
  {
   "cell_type": "code",
   "execution_count": 68,
   "metadata": {},
   "outputs": [
    {
     "data": {
      "text/plain": [
       "성분명\n",
       "트리메부틴말레산염                          22032\n",
       "세티리진염산염                            21816\n",
       "덱시부프로펜                             14256\n",
       "아세트아미노펜                            12960\n",
       "메트포르민염산염                           10368\n",
       "                                   ...  \n",
       "트리프롤리딘염산염수화물|수도에페드린염산염              1296\n",
       "엔테로코쿠스페슘스트레인세르넬레68균ME               1296\n",
       "염화칼륨                                1296\n",
       "에키나시아푸르푸레아 허바팅크|에키나시아푸르푸레아 뿌리팅크     1080\n",
       "토피라메이트                              1080\n",
       "Name: count, Length: 445, dtype: int64"
      ]
     },
     "execution_count": 68,
     "metadata": {},
     "output_type": "execute_result"
    }
   ],
   "source": [
    "data['성분명'].value_counts() # 445개 성분 "
   ]
  },
  {
   "cell_type": "code",
   "execution_count": 63,
   "metadata": {},
   "outputs": [
    {
     "data": {
      "text/plain": [
       "EDI코드\n",
       "653700060              1296\n",
       "641601050,A04304491    1296\n",
       "662501000              1296\n",
       "659900170,A84950061    1296\n",
       "650000210,E00891241    1296\n",
       "                       ... \n",
       "642003090               768\n",
       "628900220               704\n",
       "628900220               592\n",
       "642003090               528\n",
       "644704260               128\n",
       "Name: count, Length: 737, dtype: int64"
      ]
     },
     "execution_count": 63,
     "metadata": {},
     "output_type": "execute_result"
    }
   ],
   "source": [
    "data['EDI코드'].value_counts()"
   ]
  },
  {
   "cell_type": "code",
   "execution_count": 64,
   "metadata": {},
   "outputs": [
    {
     "data": {
      "text/plain": [
       "품목기준 코드\n",
       "196400046    1296\n",
       "200800691    1296\n",
       "200603850    1296\n",
       "200603879    1296\n",
       "200605253    1296\n",
       "             ... \n",
       "201405122    1296\n",
       "200907385    1080\n",
       "199900925    1080\n",
       "199701900    1080\n",
       "200600543    1080\n",
       "Name: count, Length: 750, dtype: int64"
      ]
     },
     "execution_count": 64,
     "metadata": {},
     "output_type": "execute_result"
    }
   ],
   "source": [
    "data['품목기준 코드'].value_counts()"
   ]
  },
  {
   "cell_type": "code",
   "execution_count": 12,
   "metadata": {},
   "outputs": [
    {
     "ename": "NameError",
     "evalue": "name 'data' is not defined",
     "output_type": "error",
     "traceback": [
      "\u001b[1;31m---------------------------------------------------------------------------\u001b[0m",
      "\u001b[1;31mNameError\u001b[0m                                 Traceback (most recent call last)",
      "Cell \u001b[1;32mIn[12], line 1\u001b[0m\n\u001b[1;32m----> 1\u001b[0m data[\u001b[39m'\u001b[39m\u001b[39mEDI코드\u001b[39m\u001b[39m'\u001b[39m]\u001b[39m.\u001b[39mvalue_counts()\n",
      "\u001b[1;31mNameError\u001b[0m: name 'data' is not defined"
     ]
    }
   ],
   "source": [
    "data['EDI코드'].value_counts()"
   ]
  },
  {
   "cell_type": "code",
   "execution_count": 34,
   "metadata": {},
   "outputs": [
    {
     "data": {
      "text/html": [
       "<div>\n",
       "<style scoped>\n",
       "    .dataframe tbody tr th:only-of-type {\n",
       "        vertical-align: middle;\n",
       "    }\n",
       "\n",
       "    .dataframe tbody tr th {\n",
       "        vertical-align: top;\n",
       "    }\n",
       "\n",
       "    .dataframe thead th {\n",
       "        text-align: right;\n",
       "    }\n",
       "</style>\n",
       "<table border=\"1\" class=\"dataframe\">\n",
       "  <thead>\n",
       "    <tr style=\"text-align: right;\">\n",
       "      <th></th>\n",
       "      <th>가입자 일련번호</th>\n",
       "      <th>성별코드</th>\n",
       "      <th>연령대코드(5세단위)</th>\n",
       "      <th>총투여일수</th>\n",
       "      <th>단가</th>\n",
       "      <th>금액</th>\n",
       "      <th>시도명</th>\n",
       "      <th>일반명코드</th>\n",
       "      <th>제형</th>\n",
       "      <th>일반명</th>\n",
       "      <th>분류번호</th>\n",
       "      <th>함량</th>\n",
       "      <th>단위</th>\n",
       "      <th>연령대</th>\n",
       "    </tr>\n",
       "  </thead>\n",
       "  <tbody>\n",
       "    <tr>\n",
       "      <th>0</th>\n",
       "      <td>666668</td>\n",
       "      <td>1</td>\n",
       "      <td>11</td>\n",
       "      <td>4</td>\n",
       "      <td>476.0</td>\n",
       "      <td>7616</td>\n",
       "      <td>충청북도</td>\n",
       "      <td>134103ATB</td>\n",
       "      <td>정제,저작정</td>\n",
       "      <td>ciprofloxacin hydrochloride (as ciprofloxacin)</td>\n",
       "      <td>629</td>\n",
       "      <td>0.25</td>\n",
       "      <td>g</td>\n",
       "      <td>50대</td>\n",
       "    </tr>\n",
       "    <tr>\n",
       "      <th>1</th>\n",
       "      <td>666668</td>\n",
       "      <td>1</td>\n",
       "      <td>11</td>\n",
       "      <td>3</td>\n",
       "      <td>14.0</td>\n",
       "      <td>1680</td>\n",
       "      <td>충청북도</td>\n",
       "      <td>146432ASS</td>\n",
       "      <td>현탁액제,현탁액용정제,현탁액용산제</td>\n",
       "      <td>dioctahedral smectite</td>\n",
       "      <td>237</td>\n",
       "      <td>75</td>\n",
       "      <td>g(0.15g/mL)</td>\n",
       "      <td>50대</td>\n",
       "    </tr>\n",
       "    <tr>\n",
       "      <th>2</th>\n",
       "      <td>666668</td>\n",
       "      <td>1</td>\n",
       "      <td>11</td>\n",
       "      <td>7</td>\n",
       "      <td>53.0</td>\n",
       "      <td>186</td>\n",
       "      <td>충청북도</td>\n",
       "      <td>451302ATB</td>\n",
       "      <td>정제,저작정</td>\n",
       "      <td>chlorthalidone</td>\n",
       "      <td>213</td>\n",
       "      <td>25</td>\n",
       "      <td>mg</td>\n",
       "      <td>50대</td>\n",
       "    </tr>\n",
       "  </tbody>\n",
       "</table>\n",
       "</div>"
      ],
      "text/plain": [
       "   가입자 일련번호  성별코드  연령대코드(5세단위)  총투여일수     단가    금액   시도명      일반명코드   \n",
       "0    666668     1           11      4  476.0  7616  충청북도  134103ATB  \\\n",
       "1    666668     1           11      3   14.0  1680  충청북도  146432ASS   \n",
       "2    666668     1           11      7   53.0   186  충청북도  451302ATB   \n",
       "\n",
       "                    제형                                             일반명  분류번호   \n",
       "0              정제,저작정   ciprofloxacin hydrochloride (as ciprofloxacin)   629  \\\n",
       "1  현탁액제,현탁액용정제,현탁액용산제                            dioctahedral smectite   237   \n",
       "2              정제,저작정                                   chlorthalidone   213   \n",
       "\n",
       "     함량           단위  연령대  \n",
       "0  0.25            g  50대  \n",
       "1    75  g(0.15g/mL)  50대  \n",
       "2    25           mg  50대  "
      ]
     },
     "execution_count": 34,
     "metadata": {},
     "output_type": "execute_result"
    }
   ],
   "source": [
    "df_new.head(3)"
   ]
  },
  {
   "cell_type": "code",
   "execution_count": null,
   "metadata": {},
   "outputs": [],
   "source": [
    "data['분류코드'] = data['약품 분류'].str[2:5]"
   ]
  },
  {
   "cell_type": "code",
   "execution_count": null,
   "metadata": {},
   "outputs": [
    {
     "data": {
      "text/plain": [
       "분류코드\n",
       "114    182736\n",
       "214     73872\n",
       "396     58104\n",
       "117     50544\n",
       "141     49032\n",
       "        ...  \n",
       "131      1296\n",
       "254      1296\n",
       "331      1296\n",
       "312      1296\n",
       "641      1296\n",
       "Name: count, Length: 73, dtype: int64"
      ]
     },
     "metadata": {},
     "output_type": "display_data"
    }
   ],
   "source": [
    "data['분류코드'].value_counts()"
   ]
  },
  {
   "cell_type": "code",
   "execution_count": 123,
   "metadata": {},
   "outputs": [
    {
     "data": {
      "text/plain": [
       "분류번호  일반명                                       \n",
       "112   zolpidem tartrate                             32132\n",
       "      triazolam                                      6074\n",
       "      flunitrazepam                                  3183\n",
       "      doxepin hydrochloride (as doxepin)             1590\n",
       "      eszopiclone                                     665\n",
       "                                                    ...  \n",
       "821   naloxone hydrochloride                         1246\n",
       "      tapentadol hydrochloride                        542\n",
       "      fentanyl citrate (as fentanyl)                   85\n",
       "      fentanyl citrate(micronized) (as fentanyl)       77\n",
       "      tapentadol hydrochloride (as tapentadol)         75\n",
       "Name: count, Length: 1094, dtype: int64"
      ]
     },
     "execution_count": 123,
     "metadata": {},
     "output_type": "execute_result"
    }
   ],
   "source": [
    "df_new.groupby('분류번호')['일반명'].value_counts()"
   ]
  },
  {
   "cell_type": "code",
   "execution_count": 143,
   "metadata": {},
   "outputs": [
    {
     "data": {
      "text/plain": [
       "0               [02340]제산제\n",
       "1               [02340]제산제\n",
       "2               [02340]제산제\n",
       "3               [02340]제산제\n",
       "4               [02340]제산제\n",
       "                ...       \n",
       "971131    [02190]기타의 순환계용약\n",
       "971132    [02190]기타의 순환계용약\n",
       "971133    [02190]기타의 순환계용약\n",
       "971134    [02190]기타의 순환계용약\n",
       "971135    [02190]기타의 순환계용약\n",
       "Name: 약품 분류, Length: 971136, dtype: object"
      ]
     },
     "execution_count": 143,
     "metadata": {},
     "output_type": "execute_result"
    }
   ],
   "source": [
    "data[]"
   ]
  },
  {
   "cell_type": "code",
   "execution_count": 132,
   "metadata": {},
   "outputs": [
    {
     "data": {
      "text/html": [
       "<div>\n",
       "<style scoped>\n",
       "    .dataframe tbody tr th:only-of-type {\n",
       "        vertical-align: middle;\n",
       "    }\n",
       "\n",
       "    .dataframe tbody tr th {\n",
       "        vertical-align: top;\n",
       "    }\n",
       "\n",
       "    .dataframe thead th {\n",
       "        text-align: right;\n",
       "    }\n",
       "</style>\n",
       "<table border=\"1\" class=\"dataframe\">\n",
       "  <thead>\n",
       "    <tr style=\"text-align: right;\">\n",
       "      <th></th>\n",
       "      <th>가입자 일련번호</th>\n",
       "      <th>성별코드</th>\n",
       "      <th>연령대코드(5세단위)</th>\n",
       "      <th>총투여일수</th>\n",
       "      <th>단가</th>\n",
       "      <th>금액</th>\n",
       "      <th>시도명</th>\n",
       "      <th>일반명코드</th>\n",
       "      <th>제형</th>\n",
       "      <th>일반명</th>\n",
       "      <th>분류번호</th>\n",
       "      <th>함량</th>\n",
       "      <th>단위</th>\n",
       "      <th>연령대</th>\n",
       "    </tr>\n",
       "  </thead>\n",
       "  <tbody>\n",
       "    <tr>\n",
       "      <th>1</th>\n",
       "      <td>666668</td>\n",
       "      <td>1</td>\n",
       "      <td>11</td>\n",
       "      <td>3</td>\n",
       "      <td>14.0</td>\n",
       "      <td>1680</td>\n",
       "      <td>충청북도</td>\n",
       "      <td>146432ASS</td>\n",
       "      <td>현탁액제,현탁액용정제,현탁액용산제</td>\n",
       "      <td>dioctahedral smectite</td>\n",
       "      <td>237</td>\n",
       "      <td>75</td>\n",
       "      <td>g(0.15g/mL)</td>\n",
       "      <td>50대</td>\n",
       "    </tr>\n",
       "    <tr>\n",
       "      <th>1308</th>\n",
       "      <td>666712</td>\n",
       "      <td>2</td>\n",
       "      <td>2</td>\n",
       "      <td>2</td>\n",
       "      <td>14.0</td>\n",
       "      <td>840</td>\n",
       "      <td>경상남도</td>\n",
       "      <td>146432ASS</td>\n",
       "      <td>현탁액제,현탁액용정제,현탁액용산제</td>\n",
       "      <td>dioctahedral smectite</td>\n",
       "      <td>237</td>\n",
       "      <td>75</td>\n",
       "      <td>g(0.15g/mL)</td>\n",
       "      <td>9세미만</td>\n",
       "    </tr>\n",
       "    <tr>\n",
       "      <th>5725</th>\n",
       "      <td>666825</td>\n",
       "      <td>2</td>\n",
       "      <td>9</td>\n",
       "      <td>3</td>\n",
       "      <td>13.0</td>\n",
       "      <td>117</td>\n",
       "      <td>충청남도</td>\n",
       "      <td>146432ASS</td>\n",
       "      <td>현탁액제,현탁액용정제,현탁액용산제</td>\n",
       "      <td>dioctahedral smectite</td>\n",
       "      <td>237</td>\n",
       "      <td>75</td>\n",
       "      <td>g(0.15g/mL)</td>\n",
       "      <td>40대</td>\n",
       "    </tr>\n",
       "    <tr>\n",
       "      <th>5785</th>\n",
       "      <td>666830</td>\n",
       "      <td>1</td>\n",
       "      <td>2</td>\n",
       "      <td>3</td>\n",
       "      <td>13.0</td>\n",
       "      <td>780</td>\n",
       "      <td>경기도</td>\n",
       "      <td>146432ASS</td>\n",
       "      <td>현탁액제,현탁액용정제,현탁액용산제</td>\n",
       "      <td>dioctahedral smectite</td>\n",
       "      <td>237</td>\n",
       "      <td>75</td>\n",
       "      <td>g(0.15g/mL)</td>\n",
       "      <td>9세미만</td>\n",
       "    </tr>\n",
       "    <tr>\n",
       "      <th>9648</th>\n",
       "      <td>666902</td>\n",
       "      <td>2</td>\n",
       "      <td>2</td>\n",
       "      <td>3</td>\n",
       "      <td>14.0</td>\n",
       "      <td>1260</td>\n",
       "      <td>경상북도</td>\n",
       "      <td>146432ASS</td>\n",
       "      <td>현탁액제,현탁액용정제,현탁액용산제</td>\n",
       "      <td>dioctahedral smectite</td>\n",
       "      <td>237</td>\n",
       "      <td>75</td>\n",
       "      <td>g(0.15g/mL)</td>\n",
       "      <td>9세미만</td>\n",
       "    </tr>\n",
       "    <tr>\n",
       "      <th>...</th>\n",
       "      <td>...</td>\n",
       "      <td>...</td>\n",
       "      <td>...</td>\n",
       "      <td>...</td>\n",
       "      <td>...</td>\n",
       "      <td>...</td>\n",
       "      <td>...</td>\n",
       "      <td>...</td>\n",
       "      <td>...</td>\n",
       "      <td>...</td>\n",
       "      <td>...</td>\n",
       "      <td>...</td>\n",
       "      <td>...</td>\n",
       "      <td>...</td>\n",
       "    </tr>\n",
       "    <tr>\n",
       "      <th>12781954</th>\n",
       "      <td>999365</td>\n",
       "      <td>2</td>\n",
       "      <td>2</td>\n",
       "      <td>2</td>\n",
       "      <td>13.0</td>\n",
       "      <td>780</td>\n",
       "      <td>경기도</td>\n",
       "      <td>146432ASS</td>\n",
       "      <td>현탁액제,현탁액용정제,현탁액용산제</td>\n",
       "      <td>dioctahedral smectite</td>\n",
       "      <td>237</td>\n",
       "      <td>75</td>\n",
       "      <td>g(0.15g/mL)</td>\n",
       "      <td>9세미만</td>\n",
       "    </tr>\n",
       "    <tr>\n",
       "      <th>12795862</th>\n",
       "      <td>999702</td>\n",
       "      <td>2</td>\n",
       "      <td>2</td>\n",
       "      <td>3</td>\n",
       "      <td>14.0</td>\n",
       "      <td>1134</td>\n",
       "      <td>충청남도</td>\n",
       "      <td>146432ASS</td>\n",
       "      <td>현탁액제,현탁액용정제,현탁액용산제</td>\n",
       "      <td>dioctahedral smectite</td>\n",
       "      <td>237</td>\n",
       "      <td>75</td>\n",
       "      <td>g(0.15g/mL)</td>\n",
       "      <td>9세미만</td>\n",
       "    </tr>\n",
       "    <tr>\n",
       "      <th>12798202</th>\n",
       "      <td>999769</td>\n",
       "      <td>1</td>\n",
       "      <td>17</td>\n",
       "      <td>3</td>\n",
       "      <td>13.0</td>\n",
       "      <td>117</td>\n",
       "      <td>세종특별자치시</td>\n",
       "      <td>146432ASS</td>\n",
       "      <td>현탁액제,현탁액용정제,현탁액용산제</td>\n",
       "      <td>dioctahedral smectite</td>\n",
       "      <td>237</td>\n",
       "      <td>75</td>\n",
       "      <td>g(0.15g/mL)</td>\n",
       "      <td>80대</td>\n",
       "    </tr>\n",
       "    <tr>\n",
       "      <th>12798212</th>\n",
       "      <td>999769</td>\n",
       "      <td>1</td>\n",
       "      <td>17</td>\n",
       "      <td>3</td>\n",
       "      <td>13.0</td>\n",
       "      <td>117</td>\n",
       "      <td>세종특별자치시</td>\n",
       "      <td>146432ASS</td>\n",
       "      <td>현탁액제,현탁액용정제,현탁액용산제</td>\n",
       "      <td>dioctahedral smectite</td>\n",
       "      <td>237</td>\n",
       "      <td>75</td>\n",
       "      <td>g(0.15g/mL)</td>\n",
       "      <td>80대</td>\n",
       "    </tr>\n",
       "    <tr>\n",
       "      <th>12804118</th>\n",
       "      <td>999914</td>\n",
       "      <td>1</td>\n",
       "      <td>1</td>\n",
       "      <td>2</td>\n",
       "      <td>14.0</td>\n",
       "      <td>336</td>\n",
       "      <td>대전광역시</td>\n",
       "      <td>146432ASS</td>\n",
       "      <td>현탁액제,현탁액용정제,현탁액용산제</td>\n",
       "      <td>dioctahedral smectite</td>\n",
       "      <td>237</td>\n",
       "      <td>75</td>\n",
       "      <td>g(0.15g/mL)</td>\n",
       "      <td>9세미만</td>\n",
       "    </tr>\n",
       "  </tbody>\n",
       "</table>\n",
       "<p>2842 rows × 14 columns</p>\n",
       "</div>"
      ],
      "text/plain": [
       "          가입자 일련번호  성별코드  연령대코드(5세단위)  총투여일수    단가    금액      시도명      일반명코드   \n",
       "1           666668     1           11      3  14.0  1680     충청북도  146432ASS  \\\n",
       "1308        666712     2            2      2  14.0   840     경상남도  146432ASS   \n",
       "5725        666825     2            9      3  13.0   117     충청남도  146432ASS   \n",
       "5785        666830     1            2      3  13.0   780      경기도  146432ASS   \n",
       "9648        666902     2            2      3  14.0  1260     경상북도  146432ASS   \n",
       "...            ...   ...          ...    ...   ...   ...      ...        ...   \n",
       "12781954    999365     2            2      2  13.0   780      경기도  146432ASS   \n",
       "12795862    999702     2            2      3  14.0  1134     충청남도  146432ASS   \n",
       "12798202    999769     1           17      3  13.0   117  세종특별자치시  146432ASS   \n",
       "12798212    999769     1           17      3  13.0   117  세종특별자치시  146432ASS   \n",
       "12804118    999914     1            1      2  14.0   336    대전광역시  146432ASS   \n",
       "\n",
       "                           제형                    일반명  분류번호  함량           단위   \n",
       "1         현탁액제,현탁액용정제,현탁액용산제   dioctahedral smectite   237  75  g(0.15g/mL)  \\\n",
       "1308      현탁액제,현탁액용정제,현탁액용산제   dioctahedral smectite   237  75  g(0.15g/mL)   \n",
       "5725      현탁액제,현탁액용정제,현탁액용산제   dioctahedral smectite   237  75  g(0.15g/mL)   \n",
       "5785      현탁액제,현탁액용정제,현탁액용산제   dioctahedral smectite   237  75  g(0.15g/mL)   \n",
       "9648      현탁액제,현탁액용정제,현탁액용산제   dioctahedral smectite   237  75  g(0.15g/mL)   \n",
       "...                       ...                    ...   ...  ..          ...   \n",
       "12781954  현탁액제,현탁액용정제,현탁액용산제   dioctahedral smectite   237  75  g(0.15g/mL)   \n",
       "12795862  현탁액제,현탁액용정제,현탁액용산제   dioctahedral smectite   237  75  g(0.15g/mL)   \n",
       "12798202  현탁액제,현탁액용정제,현탁액용산제   dioctahedral smectite   237  75  g(0.15g/mL)   \n",
       "12798212  현탁액제,현탁액용정제,현탁액용산제   dioctahedral smectite   237  75  g(0.15g/mL)   \n",
       "12804118  현탁액제,현탁액용정제,현탁액용산제   dioctahedral smectite   237  75  g(0.15g/mL)   \n",
       "\n",
       "           연령대  \n",
       "1          50대  \n",
       "1308      9세미만  \n",
       "5725       40대  \n",
       "5785      9세미만  \n",
       "9648      9세미만  \n",
       "...        ...  \n",
       "12781954  9세미만  \n",
       "12795862  9세미만  \n",
       "12798202   80대  \n",
       "12798212   80대  \n",
       "12804118  9세미만  \n",
       "\n",
       "[2842 rows x 14 columns]"
      ]
     },
     "execution_count": 132,
     "metadata": {},
     "output_type": "execute_result"
    }
   ],
   "source": [
    "df_new[df_new['일반명코드']=='146432ASS']"
   ]
  },
  {
   "cell_type": "code",
   "execution_count": 137,
   "metadata": {},
   "outputs": [],
   "source": [
    "data['제품명(영어)'] = data['제품명(영어)'].str[:-1]"
   ]
  },
  {
   "cell_type": "code",
   "execution_count": 142,
   "metadata": {},
   "outputs": [
    {
     "data": {
      "text/plain": [
       "array(['Gelusam Tab', 'Gelusam Tab', 'Gelusam Tab', ...,\n",
       "       'Duowell Tab. 80/10m', 'Duowell Tab. 80/10m',\n",
       "       'Duowell Tab. 80/10m'], dtype=object)"
      ]
     },
     "execution_count": 142,
     "metadata": {},
     "output_type": "execute_result"
    }
   ],
   "source": [
    "data['제품명(영어)'].values"
   ]
  },
  {
   "cell_type": "code",
   "execution_count": null,
   "metadata": {},
   "outputs": [],
   "source": []
  },
  {
   "cell_type": "code",
   "execution_count": null,
   "metadata": {},
   "outputs": [],
   "source": []
  },
  {
   "cell_type": "code",
   "execution_count": null,
   "metadata": {},
   "outputs": [],
   "source": []
  }
 ],
 "metadata": {
  "kernelspec": {
   "display_name": ".venv",
   "language": "python",
   "name": "python3"
  },
  "language_info": {
   "codemirror_mode": {
    "name": "ipython",
    "version": 3
   },
   "file_extension": ".py",
   "mimetype": "text/x-python",
   "name": "python",
   "nbconvert_exporter": "python",
   "pygments_lexer": "ipython3",
   "version": "3.10.11"
  },
  "orig_nbformat": 4
 },
 "nbformat": 4,
 "nbformat_minor": 2
}
