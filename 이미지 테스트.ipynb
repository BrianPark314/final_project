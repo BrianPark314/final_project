{
 "cells": [
  {
   "cell_type": "code",
   "execution_count": 1,
   "metadata": {},
   "outputs": [],
   "source": [
    "def test(img): ## 이미지 넣기\n",
    "    image = cv2.imread(img)\n",
    "    gray = cv2.cvtColor(image, cv2.COLOR_BGR2GRAY)\n",
    "    blurred_img = cv2.GaussianBlur(gray, (5, 5),0)\n",
    "    ret, otsu = cv2.threshold(blurred_img,-1,255,cv2.THRESH_BINARY | cv2.THRESH_OTSU) \n",
    "    contours , hierarchy = cv2.findContours(otsu,cv2.RETR_LIST,cv2.CHAIN_APPROX_NONE)\n",
    "\n",
    "    for contour in contours:\n",
    "        x, y, w, h = cv2.boundingRect(contour) # 딱 맞는 사각형 좌표 \n",
    "        bounding_rects.append((x/1280, y/976, (x + w)/1280, (y + h)/976)) # 사각형 그릴떄 쓰는 좌표 \n",
    "    \n",
    "    cv2.rectangle(image,(x,y),(x+w,y+h),(0,200,0),2) # 사각형 그림 \n",
    "    cv2.drawContours(image,contours,-1,(0,200,0))\n",
    "    cv2.imshow('contour',image)\n",
    "    cv2.waitKey(0)\n",
    "    cv2.destroyAllWindows()"
   ]
  }
 ],
 "metadata": {
  "kernelspec": {
   "display_name": ".venv",
   "language": "python",
   "name": "python3"
  },
  "language_info": {
   "codemirror_mode": {
    "name": "ipython",
    "version": 3
   },
   "file_extension": ".py",
   "mimetype": "text/x-python",
   "name": "python",
   "nbconvert_exporter": "python",
   "pygments_lexer": "ipython3",
   "version": "3.10.11"
  },
  "orig_nbformat": 4
 },
 "nbformat": 4,
 "nbformat_minor": 2
}
