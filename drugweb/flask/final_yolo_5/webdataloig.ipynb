{
 "cells": [
  {
   "cell_type": "code",
   "execution_count": 6,
   "metadata": {},
   "outputs": [],
   "source": [
    "import torch\n",
    "from PIL import Image, ImageDraw\n",
    "from typing import Tuple\n",
    "import numpy as np\n",
    "import time\n",
    "import cv2\n",
    "import pandas as pd\n"
   ]
  },
  {
   "cell_type": "markdown",
   "metadata": {},
   "source": [
    "## validation 합치기"
   ]
  },
  {
   "cell_type": "markdown",
   "metadata": {},
   "source": [
    "### validation 알집 풀기"
   ]
  },
  {
   "cell_type": "code",
   "execution_count": 2,
   "metadata": {},
   "outputs": [],
   "source": [
    "from pathlib import Path\n",
    "path = Path('C:/Users/User/document/final_project/preprocessing/v_data')"
   ]
  },
  {
   "cell_type": "code",
   "execution_count": 4,
   "metadata": {},
   "outputs": [],
   "source": [
    "import zipfile\n",
    "from pathlib import Path\n",
    "from glob import glob\n",
    "path = Path('C:/Users/User/document/final_project/preprocessing/v_data')\n",
    "def unzip(path):\n",
    "    path_list = path.rglob('*.zip')\n",
    "    for paths in (path_list):\n",
    "        with zipfile.ZipFile(paths, 'r') as zip_ref:\n",
    "            zip_ref.extractall(str(paths)[:-4])\n",
    "            # os.remove(zip_ref)\n",
    "# unzip(path)"
   ]
  },
  {
   "cell_type": "code",
   "execution_count": 7,
   "metadata": {},
   "outputs": [],
   "source": [
    "import json\n",
    "def to_dataframe(path):\n",
    "    path_list = path.glob('*/*')\n",
    "    df_columns =[]\n",
    "\n",
    "    for paths in path_list:\n",
    "        json_path = paths.glob('*.json')\n",
    "        for j in json_path:  # json_path 경로안에 있는 j 하나씩 읽음 \n",
    "            with open(j, encoding = 'utf-8') as json_file:\n",
    "                data = json.load(json_file)['images'][0]\n",
    "                df_columns.append(data)\n",
    "                break\n",
    "    df_vaild = pd.DataFrame(df_columns)\n",
    "    return df_vaild\n",
    "v_df = to_dataframe(path) # validation 데이터 "
   ]
  },
  {
   "cell_type": "code",
   "execution_count": 8,
   "metadata": {},
   "outputs": [
    {
     "data": {
      "text/html": [
       "<div>\n",
       "<style scoped>\n",
       "    .dataframe tbody tr th:only-of-type {\n",
       "        vertical-align: middle;\n",
       "    }\n",
       "\n",
       "    .dataframe tbody tr th {\n",
       "        vertical-align: top;\n",
       "    }\n",
       "\n",
       "    .dataframe thead th {\n",
       "        text-align: right;\n",
       "    }\n",
       "</style>\n",
       "<table border=\"1\" class=\"dataframe\">\n",
       "  <thead>\n",
       "    <tr style=\"text-align: right;\">\n",
       "      <th></th>\n",
       "      <th>file_name</th>\n",
       "      <th>width</th>\n",
       "      <th>height</th>\n",
       "      <th>imgfile</th>\n",
       "      <th>drug_N</th>\n",
       "      <th>drug_S</th>\n",
       "      <th>back_color</th>\n",
       "      <th>drug_dir</th>\n",
       "      <th>light_color</th>\n",
       "      <th>camera_la</th>\n",
       "      <th>...</th>\n",
       "      <th>line_back</th>\n",
       "      <th>img_regist_ts</th>\n",
       "      <th>form_code_name</th>\n",
       "      <th>mark_code_front_anal</th>\n",
       "      <th>mark_code_back_anal</th>\n",
       "      <th>mark_code_front_img</th>\n",
       "      <th>mark_code_back_img</th>\n",
       "      <th>mark_code_front</th>\n",
       "      <th>mark_code_back</th>\n",
       "      <th>change_date</th>\n",
       "    </tr>\n",
       "  </thead>\n",
       "  <tbody>\n",
       "    <tr>\n",
       "      <th>0</th>\n",
       "      <td>K-044727_0_2_0_0_75_000_200.png</td>\n",
       "      <td>976</td>\n",
       "      <td>1280</td>\n",
       "      <td>K-044727_0_2_0_0_75_000_200.png</td>\n",
       "      <td>K-044727</td>\n",
       "      <td>정상알약</td>\n",
       "      <td>연회색 배경</td>\n",
       "      <td>앞면</td>\n",
       "      <td>전구색</td>\n",
       "      <td>75</td>\n",
       "      <td>...</td>\n",
       "      <td></td>\n",
       "      <td>20181228</td>\n",
       "      <td>필름코팅정</td>\n",
       "      <td></td>\n",
       "      <td></td>\n",
       "      <td></td>\n",
       "      <td></td>\n",
       "      <td></td>\n",
       "      <td></td>\n",
       "      <td>None</td>\n",
       "    </tr>\n",
       "    <tr>\n",
       "      <th>1</th>\n",
       "      <td>K-044732_0_2_0_0_70_000_200.png</td>\n",
       "      <td>976</td>\n",
       "      <td>1280</td>\n",
       "      <td>K-044732_0_2_0_0_70_000_200.png</td>\n",
       "      <td>K-044732</td>\n",
       "      <td>정상알약</td>\n",
       "      <td>연회색 배경</td>\n",
       "      <td>앞면</td>\n",
       "      <td>전구색</td>\n",
       "      <td>70</td>\n",
       "      <td>...</td>\n",
       "      <td></td>\n",
       "      <td>20181221</td>\n",
       "      <td>연질캡슐제, 현탁상</td>\n",
       "      <td></td>\n",
       "      <td></td>\n",
       "      <td></td>\n",
       "      <td></td>\n",
       "      <td></td>\n",
       "      <td></td>\n",
       "      <td>20190222</td>\n",
       "    </tr>\n",
       "    <tr>\n",
       "      <th>2</th>\n",
       "      <td>K-044736_0_0_0_0_70_000_200.png</td>\n",
       "      <td>976</td>\n",
       "      <td>1280</td>\n",
       "      <td>K-044736_0_0_0_0_70_000_200.png</td>\n",
       "      <td>K-044736</td>\n",
       "      <td>정상알약</td>\n",
       "      <td>검은색 배경</td>\n",
       "      <td>앞면</td>\n",
       "      <td>전구색</td>\n",
       "      <td>70</td>\n",
       "      <td>...</td>\n",
       "      <td></td>\n",
       "      <td>20181221</td>\n",
       "      <td>경질캡슐제, 산제</td>\n",
       "      <td></td>\n",
       "      <td></td>\n",
       "      <td></td>\n",
       "      <td></td>\n",
       "      <td></td>\n",
       "      <td></td>\n",
       "      <td>20210609</td>\n",
       "    </tr>\n",
       "    <tr>\n",
       "      <th>3</th>\n",
       "      <td>K-044746_0_2_0_0_70_000_200.png</td>\n",
       "      <td>976</td>\n",
       "      <td>1280</td>\n",
       "      <td>K-044746_0_2_0_0_70_000_200.png</td>\n",
       "      <td>K-044746</td>\n",
       "      <td>정상알약</td>\n",
       "      <td>연회색 배경</td>\n",
       "      <td>앞면</td>\n",
       "      <td>전구색</td>\n",
       "      <td>70</td>\n",
       "      <td>...</td>\n",
       "      <td></td>\n",
       "      <td>20190218</td>\n",
       "      <td>연질캡슐제, 현탁상</td>\n",
       "      <td></td>\n",
       "      <td></td>\n",
       "      <td></td>\n",
       "      <td></td>\n",
       "      <td></td>\n",
       "      <td></td>\n",
       "      <td>20190114</td>\n",
       "    </tr>\n",
       "    <tr>\n",
       "      <th>4</th>\n",
       "      <td>K-044754_0_0_0_0_60_000_200.png</td>\n",
       "      <td>976</td>\n",
       "      <td>1280</td>\n",
       "      <td>K-044754_0_0_0_0_60_000_200.png</td>\n",
       "      <td>K-044754</td>\n",
       "      <td>정상알약</td>\n",
       "      <td>검은색 배경</td>\n",
       "      <td>앞면</td>\n",
       "      <td>전구색</td>\n",
       "      <td>60</td>\n",
       "      <td>...</td>\n",
       "      <td>-</td>\n",
       "      <td>20181210</td>\n",
       "      <td>나정</td>\n",
       "      <td></td>\n",
       "      <td></td>\n",
       "      <td></td>\n",
       "      <td></td>\n",
       "      <td></td>\n",
       "      <td></td>\n",
       "      <td>20201221</td>\n",
       "    </tr>\n",
       "  </tbody>\n",
       "</table>\n",
       "<p>5 rows × 50 columns</p>\n",
       "</div>"
      ],
      "text/plain": [
       "                         file_name  width  height   \n",
       "0  K-044727_0_2_0_0_75_000_200.png    976    1280  \\\n",
       "1  K-044732_0_2_0_0_70_000_200.png    976    1280   \n",
       "2  K-044736_0_0_0_0_70_000_200.png    976    1280   \n",
       "3  K-044746_0_2_0_0_70_000_200.png    976    1280   \n",
       "4  K-044754_0_0_0_0_60_000_200.png    976    1280   \n",
       "\n",
       "                           imgfile    drug_N drug_S back_color drug_dir   \n",
       "0  K-044727_0_2_0_0_75_000_200.png  K-044727   정상알약     연회색 배경       앞면  \\\n",
       "1  K-044732_0_2_0_0_70_000_200.png  K-044732   정상알약     연회색 배경       앞면   \n",
       "2  K-044736_0_0_0_0_70_000_200.png  K-044736   정상알약     검은색 배경       앞면   \n",
       "3  K-044746_0_2_0_0_70_000_200.png  K-044746   정상알약     연회색 배경       앞면   \n",
       "4  K-044754_0_0_0_0_60_000_200.png  K-044754   정상알약     검은색 배경       앞면   \n",
       "\n",
       "  light_color  camera_la  ...  line_back  img_regist_ts form_code_name   \n",
       "0         전구색         75  ...                  20181228          필름코팅정  \\\n",
       "1         전구색         70  ...                  20181221     연질캡슐제, 현탁상   \n",
       "2         전구색         70  ...                  20181221      경질캡슐제, 산제   \n",
       "3         전구색         70  ...                  20190218     연질캡슐제, 현탁상   \n",
       "4         전구색         60  ...          -       20181210             나정   \n",
       "\n",
       "  mark_code_front_anal mark_code_back_anal mark_code_front_img   \n",
       "0                                                               \\\n",
       "1                                                                \n",
       "2                                                                \n",
       "3                                                                \n",
       "4                                                                \n",
       "\n",
       "   mark_code_back_img mark_code_front mark_code_back change_date  \n",
       "0                                                           None  \n",
       "1                                                       20190222  \n",
       "2                                                       20210609  \n",
       "3                                                       20190114  \n",
       "4                                                       20201221  \n",
       "\n",
       "[5 rows x 50 columns]"
      ]
     },
     "execution_count": 8,
     "metadata": {},
     "output_type": "execute_result"
    }
   ],
   "source": [
    "v_df.head()"
   ]
  },
  {
   "cell_type": "markdown",
   "metadata": {},
   "source": [
    "### train 데이터 load"
   ]
  },
  {
   "cell_type": "code",
   "execution_count": 9,
   "metadata": {},
   "outputs": [
    {
     "name": "stdout",
     "output_type": "stream",
     "text": [
      "C:\\Users\\User\\document\\final_project\\preprocessing\n"
     ]
    }
   ],
   "source": [
    "%cd C:\\Users\\User\\document\\final_project\\preprocessing"
   ]
  },
  {
   "cell_type": "code",
   "execution_count": 10,
   "metadata": {},
   "outputs": [
    {
     "data": {
      "text/html": [
       "<div>\n",
       "<style scoped>\n",
       "    .dataframe tbody tr th:only-of-type {\n",
       "        vertical-align: middle;\n",
       "    }\n",
       "\n",
       "    .dataframe tbody tr th {\n",
       "        vertical-align: top;\n",
       "    }\n",
       "\n",
       "    .dataframe thead th {\n",
       "        text-align: right;\n",
       "    }\n",
       "</style>\n",
       "<table border=\"1\" class=\"dataframe\">\n",
       "  <thead>\n",
       "    <tr style=\"text-align: right;\">\n",
       "      <th></th>\n",
       "      <th>idx</th>\n",
       "      <th>file_name</th>\n",
       "      <th>width</th>\n",
       "      <th>height</th>\n",
       "      <th>imgfile</th>\n",
       "      <th>drug_N</th>\n",
       "      <th>drug_S</th>\n",
       "      <th>back_color</th>\n",
       "      <th>drug_dir</th>\n",
       "      <th>light_color</th>\n",
       "      <th>...</th>\n",
       "      <th>leng_short</th>\n",
       "      <th>print_front</th>\n",
       "      <th>print_back</th>\n",
       "      <th>color_class1</th>\n",
       "      <th>img_regist_ts</th>\n",
       "      <th>form_code_name</th>\n",
       "      <th>change_date</th>\n",
       "      <th>area</th>\n",
       "      <th>iscrowd</th>\n",
       "      <th>bbox</th>\n",
       "    </tr>\n",
       "  </thead>\n",
       "  <tbody>\n",
       "    <tr>\n",
       "      <th>0</th>\n",
       "      <td>0</td>\n",
       "      <td>K-019461_0_0_0_0_60_000_200.png</td>\n",
       "      <td>976</td>\n",
       "      <td>1280</td>\n",
       "      <td>K-019461_0_0_0_0_60_000_200.png</td>\n",
       "      <td>K-019461</td>\n",
       "      <td>정상알약</td>\n",
       "      <td>검은색 배경</td>\n",
       "      <td>앞면</td>\n",
       "      <td>전구색</td>\n",
       "      <td>...</td>\n",
       "      <td>9.05</td>\n",
       "      <td>NaN</td>\n",
       "      <td>마크TM</td>\n",
       "      <td>연두</td>\n",
       "      <td>20110516.0</td>\n",
       "      <td>나정</td>\n",
       "      <td>20200930.0</td>\n",
       "      <td>50838</td>\n",
       "      <td>0</td>\n",
       "      <td>[408, 519, 229, 222]</td>\n",
       "    </tr>\n",
       "    <tr>\n",
       "      <th>1</th>\n",
       "      <td>1</td>\n",
       "      <td>K-019469_0_0_0_0_60_000_200.png</td>\n",
       "      <td>976</td>\n",
       "      <td>1280</td>\n",
       "      <td>K-019469_0_0_0_0_60_000_200.png</td>\n",
       "      <td>K-019469</td>\n",
       "      <td>정상알약</td>\n",
       "      <td>검은색 배경</td>\n",
       "      <td>앞면</td>\n",
       "      <td>전구색</td>\n",
       "      <td>...</td>\n",
       "      <td>7.60</td>\n",
       "      <td>QRT</td>\n",
       "      <td>분할선</td>\n",
       "      <td>갈색</td>\n",
       "      <td>20070330.0</td>\n",
       "      <td>필름코팅정</td>\n",
       "      <td>20130129.0</td>\n",
       "      <td>72657</td>\n",
       "      <td>0</td>\n",
       "      <td>[350, 490, 299, 243]</td>\n",
       "    </tr>\n",
       "    <tr>\n",
       "      <th>2</th>\n",
       "      <td>2</td>\n",
       "      <td>K-019553_0_0_0_0_60_000_200.png</td>\n",
       "      <td>976</td>\n",
       "      <td>1280</td>\n",
       "      <td>K-019553_0_0_0_0_60_000_200.png</td>\n",
       "      <td>K-019553</td>\n",
       "      <td>정상알약</td>\n",
       "      <td>검은색 배경</td>\n",
       "      <td>앞면</td>\n",
       "      <td>전구색</td>\n",
       "      <td>...</td>\n",
       "      <td>6.42</td>\n",
       "      <td>YH CNT</td>\n",
       "      <td>NaN</td>\n",
       "      <td>빨강</td>\n",
       "      <td>20071113.0</td>\n",
       "      <td>서방성캡슐제, 펠렛</td>\n",
       "      <td>20201116.0</td>\n",
       "      <td>126169</td>\n",
       "      <td>0</td>\n",
       "      <td>[249, 406, 449, 281]</td>\n",
       "    </tr>\n",
       "    <tr>\n",
       "      <th>3</th>\n",
       "      <td>3</td>\n",
       "      <td>K-019699_0_0_0_0_60_000_200.png</td>\n",
       "      <td>976</td>\n",
       "      <td>1280</td>\n",
       "      <td>K-019699_0_0_0_0_60_000_200.png</td>\n",
       "      <td>K-019699</td>\n",
       "      <td>정상알약</td>\n",
       "      <td>검은색 배경</td>\n",
       "      <td>앞면</td>\n",
       "      <td>전구색</td>\n",
       "      <td>...</td>\n",
       "      <td>6.07</td>\n",
       "      <td>SK</td>\n",
       "      <td>717</td>\n",
       "      <td>연두</td>\n",
       "      <td>20120127.0</td>\n",
       "      <td>필름코팅정</td>\n",
       "      <td>20190225.0</td>\n",
       "      <td>54488</td>\n",
       "      <td>0</td>\n",
       "      <td>[357, 541, 278, 196]</td>\n",
       "    </tr>\n",
       "    <tr>\n",
       "      <th>4</th>\n",
       "      <td>4</td>\n",
       "      <td>K-019700_0_0_0_0_60_000_200.png</td>\n",
       "      <td>976</td>\n",
       "      <td>1280</td>\n",
       "      <td>K-019700_0_0_0_0_60_000_200.png</td>\n",
       "      <td>K-019700</td>\n",
       "      <td>정상알약</td>\n",
       "      <td>검은색 배경</td>\n",
       "      <td>앞면</td>\n",
       "      <td>전구색</td>\n",
       "      <td>...</td>\n",
       "      <td>8.90</td>\n",
       "      <td>SK</td>\n",
       "      <td>747</td>\n",
       "      <td>연두</td>\n",
       "      <td>20120127.0</td>\n",
       "      <td>필름코팅정</td>\n",
       "      <td>20190225.0</td>\n",
       "      <td>94166</td>\n",
       "      <td>0</td>\n",
       "      <td>[325, 523, 394, 239]</td>\n",
       "    </tr>\n",
       "  </tbody>\n",
       "</table>\n",
       "<p>5 rows × 39 columns</p>\n",
       "</div>"
      ],
      "text/plain": [
       "   idx                        file_name  width  height   \n",
       "0    0  K-019461_0_0_0_0_60_000_200.png    976    1280  \\\n",
       "1    1  K-019469_0_0_0_0_60_000_200.png    976    1280   \n",
       "2    2  K-019553_0_0_0_0_60_000_200.png    976    1280   \n",
       "3    3  K-019699_0_0_0_0_60_000_200.png    976    1280   \n",
       "4    4  K-019700_0_0_0_0_60_000_200.png    976    1280   \n",
       "\n",
       "                           imgfile    drug_N drug_S back_color drug_dir   \n",
       "0  K-019461_0_0_0_0_60_000_200.png  K-019461   정상알약     검은색 배경       앞면  \\\n",
       "1  K-019469_0_0_0_0_60_000_200.png  K-019469   정상알약     검은색 배경       앞면   \n",
       "2  K-019553_0_0_0_0_60_000_200.png  K-019553   정상알약     검은색 배경       앞면   \n",
       "3  K-019699_0_0_0_0_60_000_200.png  K-019699   정상알약     검은색 배경       앞면   \n",
       "4  K-019700_0_0_0_0_60_000_200.png  K-019700   정상알약     검은색 배경       앞면   \n",
       "\n",
       "  light_color  ...  leng_short  print_front  print_back  color_class1   \n",
       "0         전구색  ...        9.05          NaN        마크TM            연두  \\\n",
       "1         전구색  ...        7.60          QRT         분할선            갈색   \n",
       "2         전구색  ...        6.42       YH CNT         NaN            빨강   \n",
       "3         전구색  ...        6.07           SK         717            연두   \n",
       "4         전구색  ...        8.90           SK         747            연두   \n",
       "\n",
       "  img_regist_ts form_code_name change_date    area iscrowd   \n",
       "0    20110516.0             나정  20200930.0   50838       0  \\\n",
       "1    20070330.0          필름코팅정  20130129.0   72657       0   \n",
       "2    20071113.0     서방성캡슐제, 펠렛  20201116.0  126169       0   \n",
       "3    20120127.0          필름코팅정  20190225.0   54488       0   \n",
       "4    20120127.0          필름코팅정  20190225.0   94166       0   \n",
       "\n",
       "                   bbox  \n",
       "0  [408, 519, 229, 222]  \n",
       "1  [350, 490, 299, 243]  \n",
       "2  [249, 406, 449, 281]  \n",
       "3  [357, 541, 278, 196]  \n",
       "4  [325, 523, 394, 239]  \n",
       "\n",
       "[5 rows x 39 columns]"
      ]
     },
     "execution_count": 10,
     "metadata": {},
     "output_type": "execute_result"
    }
   ],
   "source": [
    "data = pd.read_csv('data/df_merged.csv') # 원래 train 데이터 \n",
    "data.head()"
   ]
  },
  {
   "cell_type": "markdown",
   "metadata": {},
   "source": [
    "### preprocessing and load"
   ]
  },
  {
   "cell_type": "code",
   "execution_count": 11,
   "metadata": {},
   "outputs": [],
   "source": [
    "def col_delete(df):\n",
    "    df.drop(['drug_S', 'width', 'height', 'mark_code_front', 'mark_code_back', 'line_front','line_back', 'mark_code_front_anal', 'mark_code_back_anal', 'mark_code_front_img', 'mark_code_back_img',\n",
    "                  'color_class2', 'file_name', 'dl_company_en', 'di_company_mf', 'di_company_mf_en', 'img_regist_ts',\n",
    "                  'change_date', 'back_color', 'light_color', 'camera_la', 'camera_lo', 'print_back'],\n",
    "                  axis = 1, inplace = True)\n",
    "    df['leng_long'].fillna(0, inplace = True)\n",
    "    df['leng_short'].fillna(0, inplace = True)\n",
    "    df['thick'].fillna(0, inplace = True)\n",
    "    df.fillna('unknown', inplace = True)\n",
    "    \n",
    "col_delete(v_df)"
   ]
  },
  {
   "cell_type": "code",
   "execution_count": 12,
   "metadata": {},
   "outputs": [],
   "source": [
    "def col_delete2(data):\n",
    "    data.drop(['idx','drug_S', 'width', 'height',  'file_name',  'img_regist_ts','change_date', 'back_color', 'light_color', 'camera_la', 'camera_lo', 'print_back'],axis = 1, inplace = True)\n",
    "    data['leng_long'].fillna(0, inplace = True)\n",
    "    data['leng_short'].fillna(0, inplace = True)\n",
    "    data['thick'].fillna(0, inplace = True)\n",
    "    data.fillna('unknown', inplace = True)\n",
    "col_delete2(data)"
   ]
  },
  {
   "cell_type": "code",
   "execution_count": 14,
   "metadata": {},
   "outputs": [
    {
     "data": {
      "text/html": [
       "<div>\n",
       "<style scoped>\n",
       "    .dataframe tbody tr th:only-of-type {\n",
       "        vertical-align: middle;\n",
       "    }\n",
       "\n",
       "    .dataframe tbody tr th {\n",
       "        vertical-align: top;\n",
       "    }\n",
       "\n",
       "    .dataframe thead th {\n",
       "        text-align: right;\n",
       "    }\n",
       "</style>\n",
       "<table border=\"1\" class=\"dataframe\">\n",
       "  <thead>\n",
       "    <tr style=\"text-align: right;\">\n",
       "      <th></th>\n",
       "      <th>drug_N</th>\n",
       "      <th>dl_name</th>\n",
       "      <th>dl_name_en</th>\n",
       "      <th>dl_material</th>\n",
       "      <th>dl_material_en</th>\n",
       "      <th>item_seq</th>\n",
       "      <th>di_class_no</th>\n",
       "      <th>di_edi_code</th>\n",
       "      <th>form_code_name</th>\n",
       "      <th>bbox</th>\n",
       "    </tr>\n",
       "  </thead>\n",
       "  <tbody>\n",
       "    <tr>\n",
       "      <th>0</th>\n",
       "      <td>K-019461</td>\n",
       "      <td>미래트리메부틴정 100mg/병</td>\n",
       "      <td>Trimebutine Tab. Mirae</td>\n",
       "      <td>트리메부틴말레산염</td>\n",
       "      <td>Trimebutine</td>\n",
       "      <td>200607006</td>\n",
       "      <td>[02390]기타의 소화기관용약</td>\n",
       "      <td>657500470</td>\n",
       "      <td>나정</td>\n",
       "      <td>[408, 519, 229, 222]</td>\n",
       "    </tr>\n",
       "    <tr>\n",
       "      <th>1</th>\n",
       "      <td>K-019469</td>\n",
       "      <td>큐레틴정(빌베리건조엑스)</td>\n",
       "      <td>Qretin Tab.</td>\n",
       "      <td>빌베리건조엑스</td>\n",
       "      <td>Bilberry Dried Ext.</td>\n",
       "      <td>200607018</td>\n",
       "      <td>[01310]안과용제</td>\n",
       "      <td>650101140,A28302561</td>\n",
       "      <td>필름코팅정</td>\n",
       "      <td>[350, 490, 299, 243]</td>\n",
       "    </tr>\n",
       "    <tr>\n",
       "      <th>2</th>\n",
       "      <td>K-019553</td>\n",
       "      <td>콘택골드캡슐 10mg/PTP</td>\n",
       "      <td>Contac Gold Cap.</td>\n",
       "      <td>클로르페니라민말레산염|벨라돈나총알칼로이드|페닐레프린염산염</td>\n",
       "      <td>Phenylephrine Hydrochloride| Belladonna Total ...</td>\n",
       "      <td>200607735</td>\n",
       "      <td>[01410]항히스타민제</td>\n",
       "      <td>642102330</td>\n",
       "      <td>서방성캡슐제, 펠렛</td>\n",
       "      <td>[249, 406, 449, 281]</td>\n",
       "    </tr>\n",
       "    <tr>\n",
       "      <th>3</th>\n",
       "      <td>K-019699</td>\n",
       "      <td>에스케이코스카플러스정</td>\n",
       "      <td>Cosca Plus Tab. SK</td>\n",
       "      <td>로사르탄칼륨|히드로클로로티아지드</td>\n",
       "      <td>Hydrochlorothiazide| Losartan potassium</td>\n",
       "      <td>200608151</td>\n",
       "      <td>[02140]혈압강하제</td>\n",
       "      <td>644703770,653802290,A20753971</td>\n",
       "      <td>필름코팅정</td>\n",
       "      <td>[357, 541, 278, 196]</td>\n",
       "    </tr>\n",
       "    <tr>\n",
       "      <th>4</th>\n",
       "      <td>K-019700</td>\n",
       "      <td>에스케이코스카플러스에프정</td>\n",
       "      <td>Cosca Plus-F Tab. SK</td>\n",
       "      <td>로사르탄칼륨|히드로클로로티아지드</td>\n",
       "      <td>Hydrochlorothiazide| Losartan potassium</td>\n",
       "      <td>200608152</td>\n",
       "      <td>[02140]혈압강하제</td>\n",
       "      <td>644703780,653802280,A20753981</td>\n",
       "      <td>필름코팅정</td>\n",
       "      <td>[325, 523, 394, 239]</td>\n",
       "    </tr>\n",
       "  </tbody>\n",
       "</table>\n",
       "</div>"
      ],
      "text/plain": [
       "     drug_N           dl_name              dl_name_en   \n",
       "0  K-019461  미래트리메부틴정 100mg/병  Trimebutine Tab. Mirae  \\\n",
       "1  K-019469     큐레틴정(빌베리건조엑스)             Qretin Tab.   \n",
       "2  K-019553   콘택골드캡슐 10mg/PTP        Contac Gold Cap.   \n",
       "3  K-019699       에스케이코스카플러스정      Cosca Plus Tab. SK   \n",
       "4  K-019700     에스케이코스카플러스에프정    Cosca Plus-F Tab. SK   \n",
       "\n",
       "                       dl_material   \n",
       "0                        트리메부틴말레산염  \\\n",
       "1                          빌베리건조엑스   \n",
       "2  클로르페니라민말레산염|벨라돈나총알칼로이드|페닐레프린염산염   \n",
       "3                로사르탄칼륨|히드로클로로티아지드   \n",
       "4                로사르탄칼륨|히드로클로로티아지드   \n",
       "\n",
       "                                      dl_material_en   item_seq   \n",
       "0                                        Trimebutine  200607006  \\\n",
       "1                                Bilberry Dried Ext.  200607018   \n",
       "2  Phenylephrine Hydrochloride| Belladonna Total ...  200607735   \n",
       "3            Hydrochlorothiazide| Losartan potassium  200608151   \n",
       "4            Hydrochlorothiazide| Losartan potassium  200608152   \n",
       "\n",
       "         di_class_no                    di_edi_code form_code_name   \n",
       "0  [02390]기타의 소화기관용약                      657500470             나정  \\\n",
       "1        [01310]안과용제            650101140,A28302561          필름코팅정   \n",
       "2      [01410]항히스타민제                      642102330     서방성캡슐제, 펠렛   \n",
       "3       [02140]혈압강하제  644703770,653802290,A20753971          필름코팅정   \n",
       "4       [02140]혈압강하제  644703780,653802280,A20753981          필름코팅정   \n",
       "\n",
       "                   bbox  \n",
       "0  [408, 519, 229, 222]  \n",
       "1  [350, 490, 299, 243]  \n",
       "2  [249, 406, 449, 281]  \n",
       "3  [357, 541, 278, 196]  \n",
       "4  [325, 523, 394, 239]  "
      ]
     },
     "execution_count": 14,
     "metadata": {},
     "output_type": "execute_result"
    }
   ],
   "source": [
    "result_df = pd.concat([data, v_df])\n",
    "result_df =result_df[['drug_N','dl_name','dl_name_en','dl_material','dl_material_en','item_seq','di_class_no','di_edi_code','form_code_name','bbox']]\n",
    "result_df =result_df.reset_index(drop=True)\n",
    "result_df.head()\n",
    "# result_df.columns"
   ]
  },
  {
   "cell_type": "code",
   "execution_count": 15,
   "metadata": {},
   "outputs": [],
   "source": [
    "df_information = pd.read_csv('data/e약은요.csv') # 약 내용 데이터 \n",
    "df_information.drop(['제품명','공개일자','수정일자','업체명','이 약은 어떻게 보관해야 합니까?','이 약을 사용하기 전에 반드시 알아야 할 내용은 무엇입니가?'],axis=1,inplace=True)"
   ]
  },
  {
   "cell_type": "code",
   "execution_count": 16,
   "metadata": {},
   "outputs": [],
   "source": [
    "merge_df_tv = pd.merge(result_df,df_information, how='left', left_on='item_seq', right_on='품목일련번호')\n",
    "keys = ['이 약의 효능은 무엇입니까?','이 약은 어떻게 사용합니까?','이 약을 사용하기 전에 반드시 알아야 할 내용은 무엇입니가?','이 약의 사용상 주의사항은 무엇입니까?'\n",
    "        ,'이 약을 사용하는 동안 주의해야 할 약 또는 음식은 무엇입니까?','이 약은 어떤 이상반응이 나타날 수 있습니까?']\n",
    "values = ['효능','사용 방법','알아야 할 내용','주의사항','주의음식','부작용','성분명(영어)','제조사명','제조사명(영어)','약품 분류','품목기준 코드','전문의약품 여부','EDI코드','제형',\n",
    "'모양','식별문자(앞)','식별문자(뒤)','색상','정제 분류명','영역']\n",
    "my_dict = dict(zip(keys, values))\n",
    "merge_df_tv = merge_df_tv.rename(columns=my_dict)\n",
    "# merge_df_tv.to_csv('merge_df_tv.csv', index=False,encoding='utf-8-sig')"
   ]
  },
  {
   "cell_type": "markdown",
   "metadata": {},
   "source": [
    "## 결과랑 연결"
   ]
  },
  {
   "cell_type": "code",
   "execution_count": 17,
   "metadata": {},
   "outputs": [
    {
     "name": "stdout",
     "output_type": "stream",
     "text": [
      "C:\\Users\\User\\document\\final_project\\drugweb\\flask\\final_yolo_5\n"
     ]
    }
   ],
   "source": [
    "%cd C:/Users/User/document/final_project/drugweb/flask/final_yolo_5 #best.pt 있는 주소 "
   ]
  },
  {
   "cell_type": "code",
   "execution_count": 18,
   "metadata": {},
   "outputs": [
    {
     "name": "stderr",
     "output_type": "stream",
     "text": [
      "Using cache found in C:\\Users\\User/.cache\\torch\\hub\\ultralytics_yolov5_master\n",
      "YOLOv5  2023-7-18 Python-3.10.11 torch-2.0.1+cpu CPU\n",
      "\n",
      "Fusing layers... \n",
      "Model summary: 157 layers, 8358625 parameters, 0 gradients, 20.0 GFLOPs\n",
      "Adding AutoShape... \n"
     ]
    }
   ],
   "source": [
    "model = torch.hub.load('ultralytics/yolov5', 'custom', path='best.pt', _verbose=False)"
   ]
  },
  {
   "cell_type": "code",
   "execution_count": 19,
   "metadata": {},
   "outputs": [
    {
     "data": {
      "text/plain": [
       "WindowsPath('C:/Users/User/document/final_project/drugweb/flask/final_yolo_5/a.png')"
      ]
     },
     "execution_count": 19,
     "metadata": {},
     "output_type": "execute_result"
    }
   ],
   "source": [
    "import easydict\n",
    "from pathlib import Path\n",
    "import os\n",
    "base_path = Path(os.getcwd())\n",
    "base_list = base_path/'a.png'\n",
    "base_list"
   ]
  },
  {
   "cell_type": "code",
   "execution_count": 120,
   "metadata": {},
   "outputs": [
    {
     "name": "stderr",
     "output_type": "stream",
     "text": [
      "Using cache found in C:\\Users\\User/.cache\\torch\\hub\\ultralytics_yolov5_master\n",
      "YOLOv5  2023-7-18 Python-3.10.11 torch-2.0.1+cpu CPU\n",
      "\n",
      "Fusing layers... \n",
      "Model summary: 157 layers, 8358625 parameters, 0 gradients, 20.0 GFLOPs\n",
      "Adding AutoShape... \n"
     ]
    },
    {
     "name": "stdout",
     "output_type": "stream",
     "text": [
      "           dl_name                                        dl_material   \n",
      "0      히트펜정 25mg/병                             에페드린염산염|카페인무수물|아세트아미노펜  \\\n",
      "1  에스슬림정 556.7mg/병  당귀|작약|천궁|연교|박하|방풍|마황|대황|망초|길경|황금|석고|생강|치자|형개|백...   \n",
      "2            유앤디캡슐                         비페닐디메틸디카르복실레이트혼합물|우르소데옥시콜산   \n",
      "3           헤파텍트캡슐                            비페닐디메틸디카르복실레이트|우르소데옥시콜산   \n",
      "\n",
      "   confidence  품목일련번호  주성분  ... 사용 방법 주의사항 주의음식  부작용 di_edi_code  \n",
      "0    0.755084     NaN  NaN  ...   NaN  NaN  NaN  NaN   690300140  \n",
      "1    0.642998     NaN  NaN  ...   NaN  NaN  NaN  NaN     unknown  \n",
      "2    0.435059     NaN  NaN  ...   NaN  NaN  NaN  NaN   694001530  \n",
      "3    0.258761     NaN  NaN  ...   NaN  NaN  NaN  NaN   658502020  \n",
      "\n",
      "[4 rows x 11 columns]\n"
     ]
    }
   ],
   "source": [
    "import pandas as pd\n",
    "image_path = base_path/'a.png'\n",
    "model = torch.hub.load('ultralytics/yolov5', 'custom', path='best.pt')\n",
    "img = cv2.imread(str(image_path))\n",
    "results = model(img)\n",
    "df = results.pandas().xyxy[0]\n",
    "# data = pd.read_csv('merge_df_4000.csv') # 4000개 데이터\n",
    "image_df = pd.merge(df,merge_df_tv, how='left', left_on='name', right_on='drug_N')\n",
    "print(image_df[['dl_name','dl_material','confidence','품목일련번호', '주성분', '효능','사용 방법', '주의사항', '주의음식', '부작용','di_edi_code']])\n",
    "for i,v in enumerate(df_warming['code조합']):\n",
    "    if set(v).issubset(image_df['di_edi_code'].values)==True:\n",
    "        print('문제 조합 : ' + str(v) )\n",
    "        print('주의사항 : ' + df_warming.iloc[i][\"상세정보\"] + '이 생길수 있습니다')\n",
    "        "
   ]
  },
  {
   "cell_type": "code",
   "execution_count": 21,
   "metadata": {},
   "outputs": [
    {
     "data": {
      "text/plain": [
       "array(['690300140', 'unknown', '694001530', '658502020'], dtype=object)"
      ]
     },
     "execution_count": 21,
     "metadata": {},
     "output_type": "execute_result"
    }
   ],
   "source": [
    "image_df['di_edi_code'].values # 결과 리스트"
   ]
  },
  {
   "cell_type": "code",
   "execution_count": 116,
   "metadata": {},
   "outputs": [],
   "source": [
    "values_list = image_df['di_edi_code'].tolist()\n",
    "values_list = ['654004590','641105840','694001530','658502020','646002281']"
   ]
  },
  {
   "cell_type": "code",
   "execution_count": 52,
   "metadata": {},
   "outputs": [],
   "source": [
    "# df_warming = pd.read_csv('warming_df.csv') # 주의 데이터\n",
    "# df_warming['code조합'] = df_warming['제품코드A'].astype(str) + ',' + df_warming['제품코드B'].astype(str)\n",
    "# df_warming['code조합'] = df_warming['code조합'].str.split(',')"
   ]
  },
  {
   "cell_type": "code",
   "execution_count": 122,
   "metadata": {},
   "outputs": [
    {
     "name": "stdout",
     "output_type": "stream",
     "text": [
      "문제 조합 : ['641105840', '654004590']\n",
      "주의사항 : Guanylate cyclase 자극제의 혈압강하작용 증가증상이 생길수 있습니다\n",
      "문제 조합 : ['654004590', '641105840']\n",
      "주의사항 : Guanylate cyclase 자극제의 혈압강하작용 증가증상이 생길수 있습니다\n"
     ]
    }
   ],
   "source": [
    "for i,v in enumerate(df_warming['code조합']):\n",
    "    if set(v).issubset(values_list)==True:\n",
    "        print('문제 조합 : ' + str(v) )\n",
    "        print('주의사항 : ' + df_warming.iloc[i][\"상세정보\"] + '증상이 생길수 있습니다')\n",
    "        "
   ]
  },
  {
   "cell_type": "code",
   "execution_count": 53,
   "metadata": {},
   "outputs": [
    {
     "data": {
      "text/plain": [
       "[]"
      ]
     },
     "execution_count": 53,
     "metadata": {},
     "output_type": "execute_result"
    }
   ],
   "source": [
    "[index for index, value in df_warming['code조합'].items() if value in values_list]\n"
   ]
  },
  {
   "cell_type": "code",
   "execution_count": null,
   "metadata": {},
   "outputs": [],
   "source": [
    "indexes_with_code_combinations = [index for index, value in df_warming['code조합'].items() if value in code_list]"
   ]
  },
  {
   "cell_type": "code",
   "execution_count": 179,
   "metadata": {},
   "outputs": [
    {
     "data": {
      "text/plain": [
       "0          중증의 위장관계 이상반응\n",
       "465674     중증의 위장관계 이상반응\n",
       "1016081    중증의 위장관계 이상반응\n",
       "Name: 상세정보, dtype: object"
      ]
     },
     "execution_count": 179,
     "metadata": {},
     "output_type": "execute_result"
    }
   ],
   "source": [
    "# indexes_with_target_list = [index for index, value in df_warming['code조합'].items() if test_lst in value]\n",
    "# indexes_with_target_list\n",
    "indexes_with_target_list = [index for index, value in df_warming['code조합'].items() if all(item in value for item in values_list)]\n",
    "df_warming.loc[indexes_with_target_list]['상세정보']"
   ]
  },
  {
   "cell_type": "code",
   "execution_count": 158,
   "metadata": {},
   "outputs": [
    {
     "data": {
      "text/plain": [
       "Index([], dtype='int64')"
      ]
     },
     "execution_count": 158,
     "metadata": {},
     "output_type": "execute_result"
    }
   ],
   "source": [
    "index_1 = image_df[image_df['di_edi_code'].isin(df_warming['code조합'].values)]['di_edi_code'].index\n",
    "index_1"
   ]
  },
  {
   "cell_type": "code",
   "execution_count": 157,
   "metadata": {},
   "outputs": [
    {
     "data": {
      "text/plain": [
       "0       False\n",
       "1       False\n",
       "2       False\n",
       "3       False\n",
       "4       False\n",
       "        ...  \n",
       "4019    False\n",
       "4020    False\n",
       "4021    False\n",
       "4022    False\n",
       "4023    False\n",
       "Name: di_edi_code, Length: 4024, dtype: bool"
      ]
     },
     "execution_count": 157,
     "metadata": {},
     "output_type": "execute_result"
    }
   ],
   "source": [
    "if df['di_edi_code'].isin(df_warming['code조합'].values) == True:\n",
    "    index_1 = image_df[image_df['di_edi_code'].isin(df_warming['code조합'].values)]['di_edi_code'].index\n",
    "    \n",
    "else:\n",
    "    print()"
   ]
  },
  {
   "cell_type": "code",
   "execution_count": 90,
   "metadata": {},
   "outputs": [],
   "source": [
    "# lst =[]\n",
    "# for i in data['file_name']:\n",
    "#     i = i[0:8]\n",
    "#     lst.append(i)\n",
    "# data['name'] = lst"
   ]
  },
  {
   "cell_type": "code",
   "execution_count": 91,
   "metadata": {},
   "outputs": [],
   "source": [
    "image_df = pd.merge(df,data, how='left', left_on='name', right_on='name')"
   ]
  },
  {
   "cell_type": "code",
   "execution_count": 94,
   "metadata": {},
   "outputs": [
    {
     "data": {
      "text/plain": [
       "Index(['xmin', 'ymin', 'xmax', 'ymax', 'confidence', 'class', 'name', 'idx',\n",
       "       'file_name', 'width', 'height', 'imgfile', 'drug_N', 'drug_S',\n",
       "       'back_color', 'drug_dir', 'light_color', 'camera_la', 'camera_lo',\n",
       "       'size', 'dl_idx', 'dl_mapping_code', 'dl_name', 'dl_name_en', 'img_key',\n",
       "       'dl_material', 'dl_material_en', 'dl_custom_shape', 'item_seq',\n",
       "       'di_item_permit_date', 'di_class_no', 'di_etc_otc_code', 'di_edi_code',\n",
       "       'drug_shape', 'thick', 'leng_long', 'leng_short', 'print_front',\n",
       "       'print_back', 'color_class1', 'img_regist_ts', 'form_code_name',\n",
       "       'change_date', 'area', 'iscrowd', 'bbox', '품목일련번호', '주성분', '효능',\n",
       "       '사용 방법', '주의사항', '주의음식', '부작용'],\n",
       "      dtype='object')"
      ]
     },
     "execution_count": 94,
     "metadata": {},
     "output_type": "execute_result"
    }
   ],
   "source": [
    "image_df.columns"
   ]
  },
  {
   "cell_type": "code",
   "execution_count": 121,
   "metadata": {},
   "outputs": [
    {
     "data": {
      "text/plain": [
       "0    K-040434\n",
       "1    K-043508\n",
       "2    K-042406\n",
       "3    K-039703\n",
       "Name: name, dtype: object"
      ]
     },
     "execution_count": 121,
     "metadata": {},
     "output_type": "execute_result"
    }
   ],
   "source": [
    "df['name']"
   ]
  },
  {
   "cell_type": "code",
   "execution_count": 128,
   "metadata": {},
   "outputs": [
    {
     "data": {
      "text/plain": [
       "name\n",
       "K-029066    2\n",
       "K-019461    1\n",
       "K-027055    1\n",
       "K-027007    1\n",
       "K-027008    1\n",
       "           ..\n",
       "K-010294    1\n",
       "K-010295    1\n",
       "K-010305    1\n",
       "K-010316    1\n",
       "K-019299    1\n",
       "Name: count, Length: 4023, dtype: int64"
      ]
     },
     "execution_count": 128,
     "metadata": {},
     "output_type": "execute_result"
    }
   ],
   "source": [
    "data['name'].value_counts()"
   ]
  }
 ],
 "metadata": {
  "kernelspec": {
   "display_name": ".venv",
   "language": "python",
   "name": "python3"
  },
  "language_info": {
   "codemirror_mode": {
    "name": "ipython",
    "version": 3
   },
   "file_extension": ".py",
   "mimetype": "text/x-python",
   "name": "python",
   "nbconvert_exporter": "python",
   "pygments_lexer": "ipython3",
   "version": "3.10.11"
  },
  "orig_nbformat": 4
 },
 "nbformat": 4,
 "nbformat_minor": 2
}
