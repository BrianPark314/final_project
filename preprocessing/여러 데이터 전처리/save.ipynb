{
 "cells": [
  {
   "cell_type": "code",
   "execution_count": 1,
   "metadata": {},
   "outputs": [],
   "source": [
    "import pandas as pd\n",
    "import numpy as np"
   ]
  },
  {
   "cell_type": "code",
   "execution_count": 2,
   "metadata": {},
   "outputs": [
    {
     "name": "stdout",
     "output_type": "stream",
     "text": [
      "c:\\Users\\User\\document\\final_project\\data\n"
     ]
    }
   ],
   "source": [
    "%cd data"
   ]
  },
  {
   "cell_type": "code",
   "execution_count": 3,
   "metadata": {},
   "outputs": [
    {
     "name": "stderr",
     "output_type": "stream",
     "text": [
      "C:\\Users\\User\\AppData\\Local\\Temp\\ipykernel_19068\\2544328466.py:1: DtypeWarning: Columns (20) have mixed types. Specify dtype option on import or set low_memory=False.\n",
      "  df = pd.read_csv('prepodcessing.csv')\n"
     ]
    }
   ],
   "source": [
    "df = pd.read_csv('prepodcessing.csv')"
   ]
  },
  {
   "cell_type": "code",
   "execution_count": 10,
   "metadata": {},
   "outputs": [],
   "source": [
    "df.to_csv('df3.csv',encoding='utf-8')"
   ]
  },
  {
   "cell_type": "code",
   "execution_count": 9,
   "metadata": {},
   "outputs": [],
   "source": [
    "import csv \n",
    "with open('df2.csv', 'w', newline='') as csvfile:\n",
    "    writer = csv.writer(csvfile)\n",
    "    writer.writerows(df)"
   ]
  },
  {
   "cell_type": "code",
   "execution_count": 11,
   "metadata": {},
   "outputs": [
    {
     "name": "stdout",
     "output_type": "stream",
     "text": [
      "<class 'pandas.core.frame.DataFrame'>\n",
      "RangeIndex: 2451927 entries, 0 to 2451926\n",
      "Data columns (total 29 columns):\n",
      " #   Column               Dtype  \n",
      "---  ------               -----  \n",
      " 0   Unnamed: 0           int64  \n",
      " 1   imgfile              object \n",
      " 2   drug_N               object \n",
      " 3   drug_dir             object \n",
      " 4   item_seq             int64  \n",
      " 5   leng_long            float64\n",
      " 6   leng_short           float64\n",
      " 7   thick                float64\n",
      " 8   dl_idx               int64  \n",
      " 9   dl_mapping_code      object \n",
      " 10  dl_name              object \n",
      " 11  dl_name_en           object \n",
      " 12  img_key              object \n",
      " 13  dl_material          object \n",
      " 14  dl_material_en       object \n",
      " 15  dl_custom_shape      object \n",
      " 16  dl_company           object \n",
      " 17  di_item_permit_date  int64  \n",
      " 18  di_class_no          object \n",
      " 19  di_etc_otc_code      object \n",
      " 20  di_edi_code          object \n",
      " 21  drug_shape           object \n",
      " 22  print_front          object \n",
      " 23  color_class1         object \n",
      " 24  form_code_name       object \n",
      " 25  area                 int64  \n",
      " 26  bbox                 object \n",
      " 27  dl_name_korean       object \n",
      " 28  dl_name_nonkorean    object \n",
      "dtypes: float64(3), int64(5), object(21)\n",
      "memory usage: 542.5+ MB\n"
     ]
    }
   ],
   "source": [
    "df.info()"
   ]
  },
  {
   "cell_type": "code",
   "execution_count": 4,
   "metadata": {},
   "outputs": [
    {
     "data": {
      "text/html": [
       "<div>\n",
       "<style scoped>\n",
       "    .dataframe tbody tr th:only-of-type {\n",
       "        vertical-align: middle;\n",
       "    }\n",
       "\n",
       "    .dataframe tbody tr th {\n",
       "        vertical-align: top;\n",
       "    }\n",
       "\n",
       "    .dataframe thead th {\n",
       "        text-align: right;\n",
       "    }\n",
       "</style>\n",
       "<table border=\"1\" class=\"dataframe\">\n",
       "  <thead>\n",
       "    <tr style=\"text-align: right;\">\n",
       "      <th></th>\n",
       "      <th>Unnamed: 0</th>\n",
       "      <th>imgfile</th>\n",
       "      <th>drug_N</th>\n",
       "      <th>drug_dir</th>\n",
       "      <th>item_seq</th>\n",
       "      <th>leng_long</th>\n",
       "      <th>leng_short</th>\n",
       "      <th>thick</th>\n",
       "      <th>dl_idx</th>\n",
       "      <th>dl_mapping_code</th>\n",
       "      <th>...</th>\n",
       "      <th>di_etc_otc_code</th>\n",
       "      <th>di_edi_code</th>\n",
       "      <th>drug_shape</th>\n",
       "      <th>print_front</th>\n",
       "      <th>color_class1</th>\n",
       "      <th>form_code_name</th>\n",
       "      <th>area</th>\n",
       "      <th>bbox</th>\n",
       "      <th>dl_name_korean</th>\n",
       "      <th>dl_name_nonkorean</th>\n",
       "    </tr>\n",
       "  </thead>\n",
       "  <tbody>\n",
       "    <tr>\n",
       "      <th>0</th>\n",
       "      <td>0</td>\n",
       "      <td>K-000059_0_0_0_0_60_000_200.png</td>\n",
       "      <td>K-000059</td>\n",
       "      <td>앞면</td>\n",
       "      <td>196400046</td>\n",
       "      <td>11.1</td>\n",
       "      <td>11.1</td>\n",
       "      <td>3.5</td>\n",
       "      <td>58</td>\n",
       "      <td>K-000059</td>\n",
       "      <td>...</td>\n",
       "      <td>일반의약품</td>\n",
       "      <td>653700060</td>\n",
       "      <td>원형</td>\n",
       "      <td>G</td>\n",
       "      <td>하양</td>\n",
       "      <td>나정</td>\n",
       "      <td>79508</td>\n",
       "      <td>[375, 474, 286, 278]</td>\n",
       "      <td>게루삼정</td>\n",
       "      <td>200mg/PTP</td>\n",
       "    </tr>\n",
       "    <tr>\n",
       "      <th>1</th>\n",
       "      <td>1</td>\n",
       "      <td>K-000059_0_0_0_0_60_020_200.png</td>\n",
       "      <td>K-000059</td>\n",
       "      <td>앞면</td>\n",
       "      <td>196400046</td>\n",
       "      <td>11.1</td>\n",
       "      <td>11.1</td>\n",
       "      <td>3.5</td>\n",
       "      <td>58</td>\n",
       "      <td>K-000059</td>\n",
       "      <td>...</td>\n",
       "      <td>일반의약품</td>\n",
       "      <td>653700060</td>\n",
       "      <td>원형</td>\n",
       "      <td>G</td>\n",
       "      <td>하양</td>\n",
       "      <td>나정</td>\n",
       "      <td>78668</td>\n",
       "      <td>[382, 482, 284, 277]</td>\n",
       "      <td>게루삼정</td>\n",
       "      <td>200mg/PTP</td>\n",
       "    </tr>\n",
       "  </tbody>\n",
       "</table>\n",
       "<p>2 rows × 29 columns</p>\n",
       "</div>"
      ],
      "text/plain": [
       "   Unnamed: 0                          imgfile    drug_N drug_dir   item_seq   \n",
       "0           0  K-000059_0_0_0_0_60_000_200.png  K-000059       앞면  196400046  \\\n",
       "1           1  K-000059_0_0_0_0_60_020_200.png  K-000059       앞면  196400046   \n",
       "\n",
       "   leng_long  leng_short  thick  dl_idx dl_mapping_code  ... di_etc_otc_code   \n",
       "0       11.1        11.1    3.5      58        K-000059  ...           일반의약품  \\\n",
       "1       11.1        11.1    3.5      58        K-000059  ...           일반의약품   \n",
       "\n",
       "  di_edi_code drug_shape print_front color_class1 form_code_name   area   \n",
       "0   653700060         원형           G           하양             나정  79508  \\\n",
       "1   653700060         원형           G           하양             나정  78668   \n",
       "\n",
       "                   bbox dl_name_korean dl_name_nonkorean  \n",
       "0  [375, 474, 286, 278]           게루삼정         200mg/PTP  \n",
       "1  [382, 482, 284, 277]           게루삼정         200mg/PTP  \n",
       "\n",
       "[2 rows x 29 columns]"
      ]
     },
     "execution_count": 4,
     "metadata": {},
     "output_type": "execute_result"
    }
   ],
   "source": [
    "df.head(2)"
   ]
  },
  {
   "cell_type": "code",
   "execution_count": 8,
   "metadata": {},
   "outputs": [
    {
     "data": {
      "text/html": [
       "<div>\n",
       "<style scoped>\n",
       "    .dataframe tbody tr th:only-of-type {\n",
       "        vertical-align: middle;\n",
       "    }\n",
       "\n",
       "    .dataframe tbody tr th {\n",
       "        vertical-align: top;\n",
       "    }\n",
       "\n",
       "    .dataframe thead th {\n",
       "        text-align: right;\n",
       "    }\n",
       "</style>\n",
       "<table border=\"1\" class=\"dataframe\">\n",
       "  <thead>\n",
       "    <tr style=\"text-align: right;\">\n",
       "      <th></th>\n",
       "      <th>Unnamed: 0</th>\n",
       "      <th>imgfile</th>\n",
       "      <th>drug_N</th>\n",
       "      <th>drug_dir</th>\n",
       "      <th>item_seq</th>\n",
       "      <th>leng_long</th>\n",
       "      <th>leng_short</th>\n",
       "      <th>thick</th>\n",
       "      <th>dl_idx</th>\n",
       "      <th>dl_mapping_code</th>\n",
       "      <th>...</th>\n",
       "      <th>di_etc_otc_code</th>\n",
       "      <th>di_edi_code</th>\n",
       "      <th>drug_shape</th>\n",
       "      <th>print_front</th>\n",
       "      <th>color_class1</th>\n",
       "      <th>form_code_name</th>\n",
       "      <th>area</th>\n",
       "      <th>bbox</th>\n",
       "      <th>dl_name_korean</th>\n",
       "      <th>dl_name_nonkorean</th>\n",
       "    </tr>\n",
       "  </thead>\n",
       "  <tbody>\n",
       "    <tr>\n",
       "      <th>851968</th>\n",
       "      <td>851968</td>\n",
       "      <td>K-030053_0_0_0_0_90_200_200.png</td>\n",
       "      <td>K-030053</td>\n",
       "      <td>앞면</td>\n",
       "      <td>201206882</td>\n",
       "      <td>10.55</td>\n",
       "      <td>4.19</td>\n",
       "      <td>4.3</td>\n",
       "      <td>30052</td>\n",
       "      <td>K-030053</td>\n",
       "      <td>...</td>\n",
       "      <td>일반의약품</td>\n",
       "      <td>NaN</td>\n",
       "      <td>장방형</td>\n",
       "      <td>마크</td>\n",
       "      <td>노랑</td>\n",
       "      <td>나정</td>\n",
       "      <td>54056</td>\n",
       "      <td>[356, 571, 232, 233]</td>\n",
       "      <td>파비안에스정</td>\n",
       "      <td>100mg/</td>\n",
       "    </tr>\n",
       "    <tr>\n",
       "      <th>851969</th>\n",
       "      <td>851969</td>\n",
       "      <td>K-030053_0_0_0_0_90_220_200.png</td>\n",
       "      <td>K-030053</td>\n",
       "      <td>앞면</td>\n",
       "      <td>201206882</td>\n",
       "      <td>10.55</td>\n",
       "      <td>4.19</td>\n",
       "      <td>4.3</td>\n",
       "      <td>30052</td>\n",
       "      <td>K-030053</td>\n",
       "      <td>...</td>\n",
       "      <td>일반의약품</td>\n",
       "      <td>NaN</td>\n",
       "      <td>장방형</td>\n",
       "      <td>마크</td>\n",
       "      <td>노랑</td>\n",
       "      <td>나정</td>\n",
       "      <td>49536</td>\n",
       "      <td>[326, 579, 258, 192]</td>\n",
       "      <td>파비안에스정</td>\n",
       "      <td>100mg/</td>\n",
       "    </tr>\n",
       "    <tr>\n",
       "      <th>851970</th>\n",
       "      <td>851970</td>\n",
       "      <td>K-030053_0_0_0_0_90_240_200.png</td>\n",
       "      <td>K-030053</td>\n",
       "      <td>앞면</td>\n",
       "      <td>201206882</td>\n",
       "      <td>10.55</td>\n",
       "      <td>4.19</td>\n",
       "      <td>4.3</td>\n",
       "      <td>30052</td>\n",
       "      <td>K-030053</td>\n",
       "      <td>...</td>\n",
       "      <td>일반의약품</td>\n",
       "      <td>NaN</td>\n",
       "      <td>장방형</td>\n",
       "      <td>마크</td>\n",
       "      <td>노랑</td>\n",
       "      <td>나정</td>\n",
       "      <td>40964</td>\n",
       "      <td>[308, 582, 266, 154]</td>\n",
       "      <td>파비안에스정</td>\n",
       "      <td>100mg/</td>\n",
       "    </tr>\n",
       "    <tr>\n",
       "      <th>851971</th>\n",
       "      <td>851971</td>\n",
       "      <td>K-030053_0_0_0_0_90_260_200.png</td>\n",
       "      <td>K-030053</td>\n",
       "      <td>앞면</td>\n",
       "      <td>201206882</td>\n",
       "      <td>10.55</td>\n",
       "      <td>4.19</td>\n",
       "      <td>4.3</td>\n",
       "      <td>30052</td>\n",
       "      <td>K-030053</td>\n",
       "      <td>...</td>\n",
       "      <td>일반의약품</td>\n",
       "      <td>NaN</td>\n",
       "      <td>장방형</td>\n",
       "      <td>마크</td>\n",
       "      <td>노랑</td>\n",
       "      <td>나정</td>\n",
       "      <td>46440</td>\n",
       "      <td>[307, 549, 258, 180]</td>\n",
       "      <td>파비안에스정</td>\n",
       "      <td>100mg/</td>\n",
       "    </tr>\n",
       "    <tr>\n",
       "      <th>851972</th>\n",
       "      <td>851972</td>\n",
       "      <td>K-030053_0_0_0_0_90_280_200.png</td>\n",
       "      <td>K-030053</td>\n",
       "      <td>앞면</td>\n",
       "      <td>201206882</td>\n",
       "      <td>10.55</td>\n",
       "      <td>4.19</td>\n",
       "      <td>4.3</td>\n",
       "      <td>30052</td>\n",
       "      <td>K-030053</td>\n",
       "      <td>...</td>\n",
       "      <td>일반의약품</td>\n",
       "      <td>NaN</td>\n",
       "      <td>장방형</td>\n",
       "      <td>마크</td>\n",
       "      <td>노랑</td>\n",
       "      <td>나정</td>\n",
       "      <td>51863</td>\n",
       "      <td>[316, 507, 239, 217]</td>\n",
       "      <td>파비안에스정</td>\n",
       "      <td>100mg/</td>\n",
       "    </tr>\n",
       "    <tr>\n",
       "      <th>...</th>\n",
       "      <td>...</td>\n",
       "      <td>...</td>\n",
       "      <td>...</td>\n",
       "      <td>...</td>\n",
       "      <td>...</td>\n",
       "      <td>...</td>\n",
       "      <td>...</td>\n",
       "      <td>...</td>\n",
       "      <td>...</td>\n",
       "      <td>...</td>\n",
       "      <td>...</td>\n",
       "      <td>...</td>\n",
       "      <td>...</td>\n",
       "      <td>...</td>\n",
       "      <td>...</td>\n",
       "      <td>...</td>\n",
       "      <td>...</td>\n",
       "      <td>...</td>\n",
       "      <td>...</td>\n",
       "      <td>...</td>\n",
       "      <td>...</td>\n",
       "    </tr>\n",
       "    <tr>\n",
       "      <th>1146875</th>\n",
       "      <td>1146875</td>\n",
       "      <td>K-042269_0_2_1_0_60_340_200.png</td>\n",
       "      <td>K-042269</td>\n",
       "      <td>뒷면</td>\n",
       "      <td>201706671</td>\n",
       "      <td>10.60</td>\n",
       "      <td>5.73</td>\n",
       "      <td>3.8</td>\n",
       "      <td>42268</td>\n",
       "      <td>K-042269</td>\n",
       "      <td>...</td>\n",
       "      <td>전문의약품</td>\n",
       "      <td>NaN</td>\n",
       "      <td>타원형</td>\n",
       "      <td>마크분할선S</td>\n",
       "      <td>분홍</td>\n",
       "      <td>나정</td>\n",
       "      <td>44280</td>\n",
       "      <td>[361, 529, 270, 164]</td>\n",
       "      <td>씬지록신정</td>\n",
       "      <td>25mcg</td>\n",
       "    </tr>\n",
       "    <tr>\n",
       "      <th>1146876</th>\n",
       "      <td>1146876</td>\n",
       "      <td>K-042269_0_2_1_0_70_000_200.png</td>\n",
       "      <td>K-042269</td>\n",
       "      <td>뒷면</td>\n",
       "      <td>201706671</td>\n",
       "      <td>10.60</td>\n",
       "      <td>5.73</td>\n",
       "      <td>3.8</td>\n",
       "      <td>42268</td>\n",
       "      <td>K-042269</td>\n",
       "      <td>...</td>\n",
       "      <td>전문의약품</td>\n",
       "      <td>NaN</td>\n",
       "      <td>타원형</td>\n",
       "      <td>마크분할선S</td>\n",
       "      <td>분홍</td>\n",
       "      <td>나정</td>\n",
       "      <td>44756</td>\n",
       "      <td>[263, 566, 268, 167]</td>\n",
       "      <td>씬지록신정</td>\n",
       "      <td>25mcg</td>\n",
       "    </tr>\n",
       "    <tr>\n",
       "      <th>1146877</th>\n",
       "      <td>1146877</td>\n",
       "      <td>K-042269_0_2_1_0_70_020_200.png</td>\n",
       "      <td>K-042269</td>\n",
       "      <td>뒷면</td>\n",
       "      <td>201706671</td>\n",
       "      <td>10.60</td>\n",
       "      <td>5.73</td>\n",
       "      <td>3.8</td>\n",
       "      <td>42268</td>\n",
       "      <td>K-042269</td>\n",
       "      <td>...</td>\n",
       "      <td>전문의약품</td>\n",
       "      <td>NaN</td>\n",
       "      <td>타원형</td>\n",
       "      <td>마크분할선S</td>\n",
       "      <td>분홍</td>\n",
       "      <td>나정</td>\n",
       "      <td>48945</td>\n",
       "      <td>[273, 542, 251, 195]</td>\n",
       "      <td>씬지록신정</td>\n",
       "      <td>25mcg</td>\n",
       "    </tr>\n",
       "    <tr>\n",
       "      <th>1146878</th>\n",
       "      <td>1146878</td>\n",
       "      <td>K-042269_0_2_1_0_70_040_200.png</td>\n",
       "      <td>K-042269</td>\n",
       "      <td>뒷면</td>\n",
       "      <td>201706671</td>\n",
       "      <td>10.60</td>\n",
       "      <td>5.73</td>\n",
       "      <td>3.8</td>\n",
       "      <td>42268</td>\n",
       "      <td>K-042269</td>\n",
       "      <td>...</td>\n",
       "      <td>전문의약품</td>\n",
       "      <td>NaN</td>\n",
       "      <td>타원형</td>\n",
       "      <td>마크분할선S</td>\n",
       "      <td>분홍</td>\n",
       "      <td>나정</td>\n",
       "      <td>51465</td>\n",
       "      <td>[292, 517, 219, 235]</td>\n",
       "      <td>씬지록신정</td>\n",
       "      <td>25mcg</td>\n",
       "    </tr>\n",
       "    <tr>\n",
       "      <th>1146879</th>\n",
       "      <td>1146879</td>\n",
       "      <td>K-042269_0_2_1_0_70_060_200.png</td>\n",
       "      <td>K-042269</td>\n",
       "      <td>뒷면</td>\n",
       "      <td>201706671</td>\n",
       "      <td>10.60</td>\n",
       "      <td>5.73</td>\n",
       "      <td>3.8</td>\n",
       "      <td>42268</td>\n",
       "      <td>K-042269</td>\n",
       "      <td>...</td>\n",
       "      <td>전문의약품</td>\n",
       "      <td>NaN</td>\n",
       "      <td>타원형</td>\n",
       "      <td>마크분할선S</td>\n",
       "      <td>분홍</td>\n",
       "      <td>나정</td>\n",
       "      <td>46898</td>\n",
       "      <td>[322, 495, 179, 262]</td>\n",
       "      <td>씬지록신정</td>\n",
       "      <td>25mcg</td>\n",
       "    </tr>\n",
       "  </tbody>\n",
       "</table>\n",
       "<p>163840 rows × 29 columns</p>\n",
       "</div>"
      ],
      "text/plain": [
       "         Unnamed: 0                          imgfile    drug_N drug_dir   \n",
       "851968       851968  K-030053_0_0_0_0_90_200_200.png  K-030053       앞면  \\\n",
       "851969       851969  K-030053_0_0_0_0_90_220_200.png  K-030053       앞면   \n",
       "851970       851970  K-030053_0_0_0_0_90_240_200.png  K-030053       앞면   \n",
       "851971       851971  K-030053_0_0_0_0_90_260_200.png  K-030053       앞면   \n",
       "851972       851972  K-030053_0_0_0_0_90_280_200.png  K-030053       앞면   \n",
       "...             ...                              ...       ...      ...   \n",
       "1146875     1146875  K-042269_0_2_1_0_60_340_200.png  K-042269       뒷면   \n",
       "1146876     1146876  K-042269_0_2_1_0_70_000_200.png  K-042269       뒷면   \n",
       "1146877     1146877  K-042269_0_2_1_0_70_020_200.png  K-042269       뒷면   \n",
       "1146878     1146878  K-042269_0_2_1_0_70_040_200.png  K-042269       뒷면   \n",
       "1146879     1146879  K-042269_0_2_1_0_70_060_200.png  K-042269       뒷면   \n",
       "\n",
       "          item_seq  leng_long  leng_short  thick  dl_idx dl_mapping_code  ...   \n",
       "851968   201206882      10.55        4.19    4.3   30052        K-030053  ...  \\\n",
       "851969   201206882      10.55        4.19    4.3   30052        K-030053  ...   \n",
       "851970   201206882      10.55        4.19    4.3   30052        K-030053  ...   \n",
       "851971   201206882      10.55        4.19    4.3   30052        K-030053  ...   \n",
       "851972   201206882      10.55        4.19    4.3   30052        K-030053  ...   \n",
       "...            ...        ...         ...    ...     ...             ...  ...   \n",
       "1146875  201706671      10.60        5.73    3.8   42268        K-042269  ...   \n",
       "1146876  201706671      10.60        5.73    3.8   42268        K-042269  ...   \n",
       "1146877  201706671      10.60        5.73    3.8   42268        K-042269  ...   \n",
       "1146878  201706671      10.60        5.73    3.8   42268        K-042269  ...   \n",
       "1146879  201706671      10.60        5.73    3.8   42268        K-042269  ...   \n",
       "\n",
       "        di_etc_otc_code di_edi_code drug_shape print_front color_class1   \n",
       "851968            일반의약품         NaN        장방형          마크           노랑  \\\n",
       "851969            일반의약품         NaN        장방형          마크           노랑   \n",
       "851970            일반의약품         NaN        장방형          마크           노랑   \n",
       "851971            일반의약품         NaN        장방형          마크           노랑   \n",
       "851972            일반의약품         NaN        장방형          마크           노랑   \n",
       "...                 ...         ...        ...         ...          ...   \n",
       "1146875           전문의약품         NaN        타원형      마크분할선S           분홍   \n",
       "1146876           전문의약품         NaN        타원형      마크분할선S           분홍   \n",
       "1146877           전문의약품         NaN        타원형      마크분할선S           분홍   \n",
       "1146878           전문의약품         NaN        타원형      마크분할선S           분홍   \n",
       "1146879           전문의약품         NaN        타원형      마크분할선S           분홍   \n",
       "\n",
       "        form_code_name   area                  bbox dl_name_korean   \n",
       "851968              나정  54056  [356, 571, 232, 233]         파비안에스정  \\\n",
       "851969              나정  49536  [326, 579, 258, 192]         파비안에스정   \n",
       "851970              나정  40964  [308, 582, 266, 154]         파비안에스정   \n",
       "851971              나정  46440  [307, 549, 258, 180]         파비안에스정   \n",
       "851972              나정  51863  [316, 507, 239, 217]         파비안에스정   \n",
       "...                ...    ...                   ...            ...   \n",
       "1146875             나정  44280  [361, 529, 270, 164]          씬지록신정   \n",
       "1146876             나정  44756  [263, 566, 268, 167]          씬지록신정   \n",
       "1146877             나정  48945  [273, 542, 251, 195]          씬지록신정   \n",
       "1146878             나정  51465  [292, 517, 219, 235]          씬지록신정   \n",
       "1146879             나정  46898  [322, 495, 179, 262]          씬지록신정   \n",
       "\n",
       "        dl_name_nonkorean  \n",
       "851968             100mg/  \n",
       "851969             100mg/  \n",
       "851970             100mg/  \n",
       "851971             100mg/  \n",
       "851972             100mg/  \n",
       "...                   ...  \n",
       "1146875             25mcg  \n",
       "1146876             25mcg  \n",
       "1146877             25mcg  \n",
       "1146878             25mcg  \n",
       "1146879             25mcg  \n",
       "\n",
       "[163840 rows x 29 columns]"
      ]
     },
     "execution_count": 8,
     "metadata": {},
     "output_type": "execute_result"
    }
   ],
   "source": [
    "df[df['di_edi_code'].isnull()]"
   ]
  },
  {
   "cell_type": "code",
   "execution_count": 9,
   "metadata": {},
   "outputs": [
    {
     "name": "stderr",
     "output_type": "stream",
     "text": [
      "C:\\Users\\User\\AppData\\Local\\Temp\\ipykernel_19068\\988824154.py:1: DtypeWarning: Columns (19) have mixed types. Specify dtype option on import or set low_memory=False.\n",
      "  a = pd.read_csv('jundata.csv')\n"
     ]
    },
    {
     "data": {
      "text/plain": [
       "imgfile                0\n",
       "drug_N                 0\n",
       "drug_dir               0\n",
       "item_seq               0\n",
       "leng_long              0\n",
       "leng_short             0\n",
       "thick                  0\n",
       "dl_idx                 0\n",
       "dl_mapping_code        0\n",
       "dl_name                0\n",
       "dl_name_en             0\n",
       "img_key                0\n",
       "dl_material            0\n",
       "dl_material_en         0\n",
       "dl_custom_shape        0\n",
       "dl_company             0\n",
       "di_item_permit_date    0\n",
       "di_class_no            0\n",
       "di_etc_otc_code        0\n",
       "di_edi_code            0\n",
       "chart                  0\n",
       "drug_shape             0\n",
       "print_front            0\n",
       "color_class1           0\n",
       "form_code_name         0\n",
       "area                   0\n",
       "bbox                   0\n",
       "dtype: int64"
      ]
     },
     "execution_count": 9,
     "metadata": {},
     "output_type": "execute_result"
    }
   ],
   "source": [
    "a = pd.read_csv('jundata.csv')\n",
    "a.isnull().sum()"
   ]
  },
  {
   "cell_type": "code",
   "execution_count": 40,
   "metadata": {},
   "outputs": [
    {
     "name": "stderr",
     "output_type": "stream",
     "text": [
      "C:\\Users\\User\\AppData\\Local\\Temp\\ipykernel_19068\\811259550.py:1: DtypeWarning: Columns (20) have mixed types. Specify dtype option on import or set low_memory=False.\n",
      "  a = pd.read_csv('data_ho.csv')\n"
     ]
    }
   ],
   "source": [
    "a = pd.read_csv('data_ho.csv')"
   ]
  },
  {
   "cell_type": "code",
   "execution_count": 41,
   "metadata": {},
   "outputs": [
    {
     "data": {
      "text/plain": [
       "(2451927, 29)"
      ]
     },
     "execution_count": 41,
     "metadata": {},
     "output_type": "execute_result"
    }
   ],
   "source": [
    "a.shape"
   ]
  },
  {
   "cell_type": "code",
   "execution_count": 44,
   "metadata": {},
   "outputs": [
    {
     "data": {
      "text/plain": [
       "556"
      ]
     },
     "execution_count": 44,
     "metadata": {},
     "output_type": "execute_result"
    }
   ],
   "source": [
    "a['dl_material_en'].str.len().max()"
   ]
  },
  {
   "cell_type": "code",
   "execution_count": 43,
   "metadata": {},
   "outputs": [],
   "source": [
    "a.to_csv('data_ho_fi.csv')"
   ]
  },
  {
   "cell_type": "code",
   "execution_count": 48,
   "metadata": {},
   "outputs": [],
   "source": [
    "a_sam = a.sample(n=10000)\n",
    "a_sam.to_csv('sam4.csv',encoding='utf-8-sig')"
   ]
  },
  {
   "cell_type": "code",
   "execution_count": 46,
   "metadata": {},
   "outputs": [
    {
     "data": {
      "text/plain": [
       "Unnamed: 0                                                       1639668\n",
       "imgfile                                  K-011441_0_2_0_0_70_160_200.png\n",
       "drug_N                                                          K-011441\n",
       "drug_dir                                                              앞면\n",
       "item_seq                                                       200200132\n",
       "leng_long                                                          21.18\n",
       "leng_short                                                          7.53\n",
       "thick                                                               7.53\n",
       "dl_idx                                                             11440\n",
       "dl_mapping_code                                                 K-011441\n",
       "dl_name                                                  인후신캡슐 490mg/PTP\n",
       "dl_name_en                              Inhoosin Cap(EungyosanDried Ext)\n",
       "img_key                http://connectdi.com/design/img/drug/147428316...\n",
       "dl_material                                                      은교산건조엑스\n",
       "dl_material_en                                                   unknown\n",
       "dl_custom_shape                                                  unknown\n",
       "dl_company                                                       (유)한풍제약\n",
       "di_item_permit_date                                             20020911\n",
       "di_class_no                                             [01140]해열|진통|소염제\n",
       "di_etc_otc_code                                                    일반의약품\n",
       "di_edi_code                                                      unknown\n",
       "drug_shape                                                           장방형\n",
       "print_front                                                       한풍 인후신\n",
       "color_class1                                                          파랑\n",
       "form_code_name                                                 경질캡슐제| 산제\n",
       "area                                                              130810\n",
       "bbox                                                [234, 404, 515, 254]\n",
       "dl_name_korean                                                     인후신캡슐\n",
       "dl_name_nonkorean                                              490mg/PTP\n",
       "Name: 1639668, dtype: object"
      ]
     },
     "execution_count": 46,
     "metadata": {},
     "output_type": "execute_result"
    }
   ],
   "source": [
    "a_sam.iloc[1262]"
   ]
  },
  {
   "cell_type": "code",
   "execution_count": 47,
   "metadata": {},
   "outputs": [
    {
     "data": {
      "text/plain": [
       "Unnamed: 0             object\n",
       "imgfile                object\n",
       "drug_N                 object\n",
       "drug_dir               object\n",
       "item_seq               object\n",
       "leng_long              object\n",
       "leng_short             object\n",
       "thick                  object\n",
       "dl_idx                 object\n",
       "dl_mapping_code        object\n",
       "dl_name                object\n",
       "dl_name_en             object\n",
       "img_key                object\n",
       "dl_material            object\n",
       "dl_material_en         object\n",
       "dl_custom_shape        object\n",
       "dl_company             object\n",
       "di_item_permit_date    object\n",
       "di_class_no            object\n",
       "di_etc_otc_code        object\n",
       "di_edi_code            object\n",
       "drug_shape             object\n",
       "print_front            object\n",
       "color_class1           object\n",
       "form_code_name         object\n",
       "area                   object\n",
       "bbox                   object\n",
       "dl_name_korean         object\n",
       "dl_name_nonkorean      object\n",
       "dtype: object"
      ]
     },
     "execution_count": 47,
     "metadata": {},
     "output_type": "execute_result"
    }
   ],
   "source": [
    "a_sam = a_sam.astype(str)\n",
    "a_sam.dtypes"
   ]
  },
  {
   "cell_type": "code",
   "execution_count": 53,
   "metadata": {},
   "outputs": [],
   "source": [
    "a_sam.drop('dl_company',axis=1,inplace=True)"
   ]
  },
  {
   "cell_type": "code",
   "execution_count": 55,
   "metadata": {},
   "outputs": [
    {
     "ename": "UnicodeEncodeError",
     "evalue": "'cp949' codec can't encode character '\\xa0' in position 111: illegal multibyte sequence",
     "output_type": "error",
     "traceback": [
      "\u001b[1;31m---------------------------------------------------------------------------\u001b[0m",
      "\u001b[1;31mUnicodeEncodeError\u001b[0m                        Traceback (most recent call last)",
      "Cell \u001b[1;32mIn[55], line 2\u001b[0m\n\u001b[0;32m      1\u001b[0m a_sam \u001b[39m=\u001b[39m a\u001b[39m.\u001b[39msample(n\u001b[39m=\u001b[39m\u001b[39m10000\u001b[39m)\n\u001b[1;32m----> 2\u001b[0m a_sam\u001b[39m.\u001b[39;49mto_csv(\u001b[39m'\u001b[39;49m\u001b[39msam4.csv\u001b[39;49m\u001b[39m'\u001b[39;49m,encoding\u001b[39m=\u001b[39;49m\u001b[39m'\u001b[39;49m\u001b[39mcp949\u001b[39;49m\u001b[39m'\u001b[39;49m)\n",
      "File \u001b[1;32mc:\\Users\\User\\document\\final_project\\.venv\\lib\\site-packages\\pandas\\core\\generic.py:3772\u001b[0m, in \u001b[0;36mNDFrame.to_csv\u001b[1;34m(self, path_or_buf, sep, na_rep, float_format, columns, header, index, index_label, mode, encoding, compression, quoting, quotechar, lineterminator, chunksize, date_format, doublequote, escapechar, decimal, errors, storage_options)\u001b[0m\n\u001b[0;32m   3761\u001b[0m df \u001b[39m=\u001b[39m \u001b[39mself\u001b[39m \u001b[39mif\u001b[39;00m \u001b[39misinstance\u001b[39m(\u001b[39mself\u001b[39m, ABCDataFrame) \u001b[39melse\u001b[39;00m \u001b[39mself\u001b[39m\u001b[39m.\u001b[39mto_frame()\n\u001b[0;32m   3763\u001b[0m formatter \u001b[39m=\u001b[39m DataFrameFormatter(\n\u001b[0;32m   3764\u001b[0m     frame\u001b[39m=\u001b[39mdf,\n\u001b[0;32m   3765\u001b[0m     header\u001b[39m=\u001b[39mheader,\n\u001b[1;32m   (...)\u001b[0m\n\u001b[0;32m   3769\u001b[0m     decimal\u001b[39m=\u001b[39mdecimal,\n\u001b[0;32m   3770\u001b[0m )\n\u001b[1;32m-> 3772\u001b[0m \u001b[39mreturn\u001b[39;00m DataFrameRenderer(formatter)\u001b[39m.\u001b[39;49mto_csv(\n\u001b[0;32m   3773\u001b[0m     path_or_buf,\n\u001b[0;32m   3774\u001b[0m     lineterminator\u001b[39m=\u001b[39;49mlineterminator,\n\u001b[0;32m   3775\u001b[0m     sep\u001b[39m=\u001b[39;49msep,\n\u001b[0;32m   3776\u001b[0m     encoding\u001b[39m=\u001b[39;49mencoding,\n\u001b[0;32m   3777\u001b[0m     errors\u001b[39m=\u001b[39;49merrors,\n\u001b[0;32m   3778\u001b[0m     compression\u001b[39m=\u001b[39;49mcompression,\n\u001b[0;32m   3779\u001b[0m     quoting\u001b[39m=\u001b[39;49mquoting,\n\u001b[0;32m   3780\u001b[0m     columns\u001b[39m=\u001b[39;49mcolumns,\n\u001b[0;32m   3781\u001b[0m     index_label\u001b[39m=\u001b[39;49mindex_label,\n\u001b[0;32m   3782\u001b[0m     mode\u001b[39m=\u001b[39;49mmode,\n\u001b[0;32m   3783\u001b[0m     chunksize\u001b[39m=\u001b[39;49mchunksize,\n\u001b[0;32m   3784\u001b[0m     quotechar\u001b[39m=\u001b[39;49mquotechar,\n\u001b[0;32m   3785\u001b[0m     date_format\u001b[39m=\u001b[39;49mdate_format,\n\u001b[0;32m   3786\u001b[0m     doublequote\u001b[39m=\u001b[39;49mdoublequote,\n\u001b[0;32m   3787\u001b[0m     escapechar\u001b[39m=\u001b[39;49mescapechar,\n\u001b[0;32m   3788\u001b[0m     storage_options\u001b[39m=\u001b[39;49mstorage_options,\n\u001b[0;32m   3789\u001b[0m )\n",
      "File \u001b[1;32mc:\\Users\\User\\document\\final_project\\.venv\\lib\\site-packages\\pandas\\io\\formats\\format.py:1186\u001b[0m, in \u001b[0;36mDataFrameRenderer.to_csv\u001b[1;34m(self, path_or_buf, encoding, sep, columns, index_label, mode, compression, quoting, quotechar, lineterminator, chunksize, date_format, doublequote, escapechar, errors, storage_options)\u001b[0m\n\u001b[0;32m   1165\u001b[0m     created_buffer \u001b[39m=\u001b[39m \u001b[39mFalse\u001b[39;00m\n\u001b[0;32m   1167\u001b[0m csv_formatter \u001b[39m=\u001b[39m CSVFormatter(\n\u001b[0;32m   1168\u001b[0m     path_or_buf\u001b[39m=\u001b[39mpath_or_buf,\n\u001b[0;32m   1169\u001b[0m     lineterminator\u001b[39m=\u001b[39mlineterminator,\n\u001b[1;32m   (...)\u001b[0m\n\u001b[0;32m   1184\u001b[0m     formatter\u001b[39m=\u001b[39m\u001b[39mself\u001b[39m\u001b[39m.\u001b[39mfmt,\n\u001b[0;32m   1185\u001b[0m )\n\u001b[1;32m-> 1186\u001b[0m csv_formatter\u001b[39m.\u001b[39;49msave()\n\u001b[0;32m   1188\u001b[0m \u001b[39mif\u001b[39;00m created_buffer:\n\u001b[0;32m   1189\u001b[0m     \u001b[39massert\u001b[39;00m \u001b[39misinstance\u001b[39m(path_or_buf, StringIO)\n",
      "File \u001b[1;32mc:\\Users\\User\\document\\final_project\\.venv\\lib\\site-packages\\pandas\\io\\formats\\csvs.py:259\u001b[0m, in \u001b[0;36mCSVFormatter.save\u001b[1;34m(self)\u001b[0m\n\u001b[0;32m    240\u001b[0m \u001b[39mwith\u001b[39;00m get_handle(\n\u001b[0;32m    241\u001b[0m     \u001b[39mself\u001b[39m\u001b[39m.\u001b[39mfilepath_or_buffer,\n\u001b[0;32m    242\u001b[0m     \u001b[39mself\u001b[39m\u001b[39m.\u001b[39mmode,\n\u001b[1;32m   (...)\u001b[0m\n\u001b[0;32m    247\u001b[0m ) \u001b[39mas\u001b[39;00m handles:\n\u001b[0;32m    248\u001b[0m     \u001b[39m# Note: self.encoding is irrelevant here\u001b[39;00m\n\u001b[0;32m    249\u001b[0m     \u001b[39mself\u001b[39m\u001b[39m.\u001b[39mwriter \u001b[39m=\u001b[39m csvlib\u001b[39m.\u001b[39mwriter(\n\u001b[0;32m    250\u001b[0m         handles\u001b[39m.\u001b[39mhandle,\n\u001b[0;32m    251\u001b[0m         lineterminator\u001b[39m=\u001b[39m\u001b[39mself\u001b[39m\u001b[39m.\u001b[39mlineterminator,\n\u001b[1;32m   (...)\u001b[0m\n\u001b[0;32m    256\u001b[0m         quotechar\u001b[39m=\u001b[39m\u001b[39mself\u001b[39m\u001b[39m.\u001b[39mquotechar,\n\u001b[0;32m    257\u001b[0m     )\n\u001b[1;32m--> 259\u001b[0m     \u001b[39mself\u001b[39;49m\u001b[39m.\u001b[39;49m_save()\n",
      "File \u001b[1;32mc:\\Users\\User\\document\\final_project\\.venv\\lib\\site-packages\\pandas\\io\\formats\\csvs.py:264\u001b[0m, in \u001b[0;36mCSVFormatter._save\u001b[1;34m(self)\u001b[0m\n\u001b[0;32m    262\u001b[0m \u001b[39mif\u001b[39;00m \u001b[39mself\u001b[39m\u001b[39m.\u001b[39m_need_to_save_header:\n\u001b[0;32m    263\u001b[0m     \u001b[39mself\u001b[39m\u001b[39m.\u001b[39m_save_header()\n\u001b[1;32m--> 264\u001b[0m \u001b[39mself\u001b[39;49m\u001b[39m.\u001b[39;49m_save_body()\n",
      "File \u001b[1;32mc:\\Users\\User\\document\\final_project\\.venv\\lib\\site-packages\\pandas\\io\\formats\\csvs.py:302\u001b[0m, in \u001b[0;36mCSVFormatter._save_body\u001b[1;34m(self)\u001b[0m\n\u001b[0;32m    300\u001b[0m \u001b[39mif\u001b[39;00m start_i \u001b[39m>\u001b[39m\u001b[39m=\u001b[39m end_i:\n\u001b[0;32m    301\u001b[0m     \u001b[39mbreak\u001b[39;00m\n\u001b[1;32m--> 302\u001b[0m \u001b[39mself\u001b[39;49m\u001b[39m.\u001b[39;49m_save_chunk(start_i, end_i)\n",
      "File \u001b[1;32mc:\\Users\\User\\document\\final_project\\.venv\\lib\\site-packages\\pandas\\io\\formats\\csvs.py:313\u001b[0m, in \u001b[0;36mCSVFormatter._save_chunk\u001b[1;34m(self, start_i, end_i)\u001b[0m\n\u001b[0;32m    310\u001b[0m data \u001b[39m=\u001b[39m [res\u001b[39m.\u001b[39miget_values(i) \u001b[39mfor\u001b[39;00m i \u001b[39min\u001b[39;00m \u001b[39mrange\u001b[39m(\u001b[39mlen\u001b[39m(res\u001b[39m.\u001b[39mitems))]\n\u001b[0;32m    312\u001b[0m ix \u001b[39m=\u001b[39m \u001b[39mself\u001b[39m\u001b[39m.\u001b[39mdata_index[slicer]\u001b[39m.\u001b[39m_format_native_types(\u001b[39m*\u001b[39m\u001b[39m*\u001b[39m\u001b[39mself\u001b[39m\u001b[39m.\u001b[39m_number_format)\n\u001b[1;32m--> 313\u001b[0m libwriters\u001b[39m.\u001b[39;49mwrite_csv_rows(\n\u001b[0;32m    314\u001b[0m     data,\n\u001b[0;32m    315\u001b[0m     ix,\n\u001b[0;32m    316\u001b[0m     \u001b[39mself\u001b[39;49m\u001b[39m.\u001b[39;49mnlevels,\n\u001b[0;32m    317\u001b[0m     \u001b[39mself\u001b[39;49m\u001b[39m.\u001b[39;49mcols,\n\u001b[0;32m    318\u001b[0m     \u001b[39mself\u001b[39;49m\u001b[39m.\u001b[39;49mwriter,\n\u001b[0;32m    319\u001b[0m )\n",
      "File \u001b[1;32mc:\\Users\\User\\document\\final_project\\.venv\\lib\\site-packages\\pandas\\_libs\\writers.pyx:55\u001b[0m, in \u001b[0;36mpandas._libs.writers.write_csv_rows\u001b[1;34m()\u001b[0m\n",
      "\u001b[1;31mUnicodeEncodeError\u001b[0m: 'cp949' codec can't encode character '\\xa0' in position 111: illegal multibyte sequence"
     ]
    }
   ],
   "source": [
    "a_sam = a.sample(n=10000)\n",
    "a_sam.to_csv('sam4.csv',encoding='cp949')"
   ]
  },
  {
   "cell_type": "code",
   "execution_count": 16,
   "metadata": {},
   "outputs": [
    {
     "data": {
      "text/plain": [
       "Unnamed: 0             0\n",
       "imgfile                0\n",
       "drug_N                 0\n",
       "drug_dir               0\n",
       "item_seq               0\n",
       "leng_long              0\n",
       "leng_short             0\n",
       "thick                  0\n",
       "dl_idx                 0\n",
       "dl_mapping_code        0\n",
       "dl_name                0\n",
       "dl_name_en             0\n",
       "img_key                0\n",
       "dl_material            0\n",
       "dl_material_en         0\n",
       "dl_custom_shape        0\n",
       "dl_company             0\n",
       "di_item_permit_date    0\n",
       "di_class_no            0\n",
       "di_etc_otc_code        0\n",
       "di_edi_code            0\n",
       "drug_shape             0\n",
       "print_front            0\n",
       "color_class1           0\n",
       "form_code_name         0\n",
       "area                   0\n",
       "bbox                   0\n",
       "dl_name_korean         0\n",
       "dl_name_nonkorean      0\n",
       "dtype: int64"
      ]
     },
     "execution_count": 16,
     "metadata": {},
     "output_type": "execute_result"
    }
   ],
   "source": [
    "a.isnull().sum()"
   ]
  },
  {
   "cell_type": "code",
   "execution_count": 22,
   "metadata": {},
   "outputs": [
    {
     "data": {
      "text/plain": [
       "array(['Calcium Carbonate PPT| Dried Aluminum Hydroxide Gel| Magnesium Carbonate| Sodium Bicarbonate',\n",
       "       'Caffeine Anhydrous', 'Ethambutol Hydrochloride', ...,\n",
       "       'Magnesium Oxide| Nicotinamide| Pyridoxine Hydrochloride| Thiamine Nitrate| Tocopherol Acetate| γ-Oryzanol',\n",
       "       '50% Tocopherol Acetate Powder| Anhydrous Dibasic Calcium Phosphate| Ascorbic Acid Gr 97%| Biotin| Calcium Pantothenate| Cholecalciferol Gr| Choline Bitartrate| Chromic Chloride Hydrate| Cupric Sulfate Hydrate| Cyanocobalamin(1000倍散)| Ferrous Fumarate| Folic Acid| Magnesium Oxide| Manganese Sulfate| Nicotinamide| Orotic Acid Monohydrate| Phytonadione 5%| Potassium Iodide| Potassium Sulfate| Pyridoxine Hydrochloride| Retinol Acetate| Riboflavin| Selenium Powder 01%| Sodium Molybdate| Thiamine Nitrate| Ursodeoxycholic Acid| Zinc Oxide| β-Carotene 20% Gr',\n",
       "       'Anagrelide Hydrochloride'], dtype=object)"
      ]
     },
     "execution_count": 22,
     "metadata": {},
     "output_type": "execute_result"
    }
   ],
   "source": [
    "a['dl_material_en'].unique()"
   ]
  },
  {
   "cell_type": "code",
   "execution_count": 23,
   "metadata": {},
   "outputs": [
    {
     "data": {
      "text/plain": [
       "Unnamed: 0               int64\n",
       "imgfile                 object\n",
       "drug_N                  object\n",
       "drug_dir                object\n",
       "item_seq                 int64\n",
       "leng_long              float64\n",
       "leng_short             float64\n",
       "thick                  float64\n",
       "dl_idx                   int64\n",
       "dl_mapping_code         object\n",
       "dl_name                 object\n",
       "dl_name_en              object\n",
       "img_key                 object\n",
       "dl_material             object\n",
       "dl_material_en          object\n",
       "dl_custom_shape         object\n",
       "dl_company              object\n",
       "di_item_permit_date      int64\n",
       "di_class_no             object\n",
       "di_etc_otc_code         object\n",
       "di_edi_code             object\n",
       "drug_shape              object\n",
       "print_front             object\n",
       "color_class1            object\n",
       "form_code_name          object\n",
       "area                     int64\n",
       "bbox                    object\n",
       "dl_name_korean          object\n",
       "dl_name_nonkorean       object\n",
       "dtype: object"
      ]
     },
     "execution_count": 23,
     "metadata": {},
     "output_type": "execute_result"
    }
   ],
   "source": [
    "a.dtypes"
   ]
  },
  {
   "cell_type": "code",
   "execution_count": 36,
   "metadata": {},
   "outputs": [
    {
     "data": {
      "text/plain": [
       "Unnamed: 0                                                          1366\n",
       "imgfile                                  K-000069_0_0_0_0_90_320_200.png\n",
       "drug_N                                                          K-000069\n",
       "drug_dir                                                              앞면\n",
       "item_seq                                                       196500051\n",
       "leng_long                                                            7.9\n",
       "leng_short                                                           7.9\n",
       "thick                                                                3.9\n",
       "dl_idx                                                                68\n",
       "dl_mapping_code                                                 K-000069\n",
       "dl_name                                                    타이밍정 50mg/PTP\n",
       "dl_name_en                                                    Timing Tab\n",
       "img_key                http://connectdi.com/design/img/drug/1NAT_bwbZ...\n",
       "dl_material                                                       카페인무수물\n",
       "dl_custom_shape                                                  정제| 저작정\n",
       "dl_company                                                       지엘파마(주)\n",
       "di_item_permit_date                                             19651221\n",
       "di_class_no                                               [01150]각성제|흥분제\n",
       "di_etc_otc_code                                                    일반의약품\n",
       "di_edi_code                                                    649700900\n",
       "drug_shape                                                           팔각형\n",
       "print_front                                                           마크\n",
       "color_class1                                                          노랑\n",
       "form_code_name                                                        나정\n",
       "area                                                               42021\n",
       "bbox                                                [363, 532, 207, 203]\n",
       "dl_name_korean                                                      타이밍정\n",
       "dl_name_nonkorean                                               50mg/PTP\n",
       "Name: 1366, dtype: object"
      ]
     },
     "execution_count": 36,
     "metadata": {},
     "output_type": "execute_result"
    }
   ],
   "source": [
    "a.iloc[1366]"
   ]
  },
  {
   "cell_type": "code",
   "execution_count": 32,
   "metadata": {},
   "outputs": [
    {
     "data": {
      "text/plain": [
       "array([79508, 78668, 79242, ..., 39867, 49915, 52114], dtype=int64)"
      ]
     },
     "execution_count": 32,
     "metadata": {},
     "output_type": "execute_result"
    }
   ],
   "source": [
    "a['area'].unique()"
   ]
  },
  {
   "cell_type": "code",
   "execution_count": 26,
   "metadata": {},
   "outputs": [],
   "source": [
    "a.drop('dl_material_en',axis=1,inplace=True)"
   ]
  },
  {
   "cell_type": "code",
   "execution_count": 28,
   "metadata": {},
   "outputs": [],
   "source": [
    "a.to_csv('data_ho4.csv')"
   ]
  },
  {
   "cell_type": "code",
   "execution_count": 39,
   "metadata": {},
   "outputs": [
    {
     "data": {
      "text/plain": [
       "Index(['Unnamed: 0', 'imgfile', 'drug_N', 'drug_dir', 'item_seq', 'leng_long',\n",
       "       'leng_short', 'thick', 'dl_idx', 'dl_mapping_code', 'dl_name',\n",
       "       'dl_name_en', 'img_key', 'dl_material', 'dl_material_en',\n",
       "       'dl_custom_shape', 'dl_company', 'di_item_permit_date', 'di_class_no',\n",
       "       'di_etc_otc_code', 'di_edi_code', 'drug_shape', 'print_front',\n",
       "       'color_class1', 'form_code_name', 'area', 'bbox', 'dl_name_korean',\n",
       "       'dl_name_nonkorean'],\n",
       "      dtype='object')"
      ]
     },
     "execution_count": 39,
     "metadata": {},
     "output_type": "execute_result"
    }
   ],
   "source": [
    "b = pd.read_csv('sam2.df.csv')\n",
    "b.columns"
   ]
  },
  {
   "cell_type": "code",
   "execution_count": 15,
   "metadata": {},
   "outputs": [
    {
     "name": "stderr",
     "output_type": "stream",
     "text": [
      "C:\\Users\\User\\AppData\\Local\\Temp\\ipykernel_19068\\1096876465.py:1: DtypeWarning: Columns (20) have mixed types. Specify dtype option on import or set low_memory=False.\n",
      "  c = pd.read_csv('data_ho3.csv')\n"
     ]
    },
    {
     "data": {
      "text/html": [
       "<div>\n",
       "<style scoped>\n",
       "    .dataframe tbody tr th:only-of-type {\n",
       "        vertical-align: middle;\n",
       "    }\n",
       "\n",
       "    .dataframe tbody tr th {\n",
       "        vertical-align: top;\n",
       "    }\n",
       "\n",
       "    .dataframe thead th {\n",
       "        text-align: right;\n",
       "    }\n",
       "</style>\n",
       "<table border=\"1\" class=\"dataframe\">\n",
       "  <thead>\n",
       "    <tr style=\"text-align: right;\">\n",
       "      <th></th>\n",
       "      <th>Unnamed: 0</th>\n",
       "      <th>imgfile</th>\n",
       "      <th>drug_N</th>\n",
       "      <th>drug_dir</th>\n",
       "      <th>item_seq</th>\n",
       "      <th>leng_long</th>\n",
       "      <th>leng_short</th>\n",
       "      <th>thick</th>\n",
       "      <th>dl_idx</th>\n",
       "      <th>dl_mapping_code</th>\n",
       "      <th>...</th>\n",
       "      <th>di_etc_otc_code</th>\n",
       "      <th>di_edi_code</th>\n",
       "      <th>drug_shape</th>\n",
       "      <th>print_front</th>\n",
       "      <th>color_class1</th>\n",
       "      <th>form_code_name</th>\n",
       "      <th>area</th>\n",
       "      <th>bbox</th>\n",
       "      <th>dl_name_korean</th>\n",
       "      <th>dl_name_nonkorean</th>\n",
       "    </tr>\n",
       "  </thead>\n",
       "  <tbody>\n",
       "    <tr>\n",
       "      <th>0</th>\n",
       "      <td>0</td>\n",
       "      <td>K-000059_0_0_0_0_60_000_200.png</td>\n",
       "      <td>K-000059</td>\n",
       "      <td>앞면</td>\n",
       "      <td>196400046</td>\n",
       "      <td>11.1</td>\n",
       "      <td>11.1</td>\n",
       "      <td>3.5</td>\n",
       "      <td>58</td>\n",
       "      <td>K-000059</td>\n",
       "      <td>...</td>\n",
       "      <td>일반의약품</td>\n",
       "      <td>653700060</td>\n",
       "      <td>원형</td>\n",
       "      <td>G</td>\n",
       "      <td>하양</td>\n",
       "      <td>나정</td>\n",
       "      <td>79508</td>\n",
       "      <td>[375, 474, 286, 278]</td>\n",
       "      <td>게루삼정</td>\n",
       "      <td>200mg/PTP</td>\n",
       "    </tr>\n",
       "    <tr>\n",
       "      <th>1</th>\n",
       "      <td>1</td>\n",
       "      <td>K-000059_0_0_0_0_60_020_200.png</td>\n",
       "      <td>K-000059</td>\n",
       "      <td>앞면</td>\n",
       "      <td>196400046</td>\n",
       "      <td>11.1</td>\n",
       "      <td>11.1</td>\n",
       "      <td>3.5</td>\n",
       "      <td>58</td>\n",
       "      <td>K-000059</td>\n",
       "      <td>...</td>\n",
       "      <td>일반의약품</td>\n",
       "      <td>653700060</td>\n",
       "      <td>원형</td>\n",
       "      <td>G</td>\n",
       "      <td>하양</td>\n",
       "      <td>나정</td>\n",
       "      <td>78668</td>\n",
       "      <td>[382, 482, 284, 277]</td>\n",
       "      <td>게루삼정</td>\n",
       "      <td>200mg/PTP</td>\n",
       "    </tr>\n",
       "  </tbody>\n",
       "</table>\n",
       "<p>2 rows × 29 columns</p>\n",
       "</div>"
      ],
      "text/plain": [
       "   Unnamed: 0                          imgfile    drug_N drug_dir   item_seq   \n",
       "0           0  K-000059_0_0_0_0_60_000_200.png  K-000059       앞면  196400046  \\\n",
       "1           1  K-000059_0_0_0_0_60_020_200.png  K-000059       앞면  196400046   \n",
       "\n",
       "   leng_long  leng_short  thick  dl_idx dl_mapping_code  ... di_etc_otc_code   \n",
       "0       11.1        11.1    3.5      58        K-000059  ...           일반의약품  \\\n",
       "1       11.1        11.1    3.5      58        K-000059  ...           일반의약품   \n",
       "\n",
       "  di_edi_code drug_shape print_front color_class1 form_code_name   area   \n",
       "0   653700060         원형           G           하양             나정  79508  \\\n",
       "1   653700060         원형           G           하양             나정  78668   \n",
       "\n",
       "                   bbox dl_name_korean dl_name_nonkorean  \n",
       "0  [375, 474, 286, 278]           게루삼정         200mg/PTP  \n",
       "1  [382, 482, 284, 277]           게루삼정         200mg/PTP  \n",
       "\n",
       "[2 rows x 29 columns]"
      ]
     },
     "execution_count": 15,
     "metadata": {},
     "output_type": "execute_result"
    }
   ],
   "source": [
    "c = pd.read_csv('data_ho3.csv')\n",
    "c.head(2)"
   ]
  }
 ],
 "metadata": {
  "kernelspec": {
   "display_name": ".venv",
   "language": "python",
   "name": "python3"
  },
  "language_info": {
   "codemirror_mode": {
    "name": "ipython",
    "version": 3
   },
   "file_extension": ".py",
   "mimetype": "text/x-python",
   "name": "python",
   "nbconvert_exporter": "python",
   "pygments_lexer": "ipython3",
   "version": "3.10.11"
  },
  "orig_nbformat": 4
 },
 "nbformat": 4,
 "nbformat_minor": 2
}
