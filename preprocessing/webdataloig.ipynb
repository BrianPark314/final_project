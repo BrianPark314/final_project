{
 "cells": [
  {
   "cell_type": "code",
   "execution_count": 32,
   "metadata": {},
   "outputs": [],
   "source": [
    "import torch\n",
    "from PIL import Image, ImageDraw\n",
    "from typing import Tuple\n",
    "import numpy as np\n",
    "import time\n",
    "import cv2\n",
    "import pandas as pd\n",
    "import easydict\n",
    "from pathlib import Path\n",
    "import os\n",
    "from ultralytics import YOLO\n"
   ]
  },
  {
   "cell_type": "markdown",
   "metadata": {},
   "source": [
    "## validation 합치기"
   ]
  },
  {
   "cell_type": "markdown",
   "metadata": {},
   "source": [
    "### validation 알집 풀기"
   ]
  },
  {
   "cell_type": "code",
   "execution_count": 2,
   "metadata": {},
   "outputs": [],
   "source": [
    "from pathlib import Path\n",
    "path = Path('C:/Users/User/document/final_project/preprocessing/v_data')"
   ]
  },
  {
   "cell_type": "code",
   "execution_count": 4,
   "metadata": {},
   "outputs": [],
   "source": [
    "import zipfile\n",
    "from pathlib import Path\n",
    "from glob import glob\n",
    "path = Path('C:/Users/User/document/final_project/preprocessing/v_data')\n",
    "def unzip(path):\n",
    "    path_list = path.rglob('*.zip')\n",
    "    for paths in (path_list):\n",
    "        with zipfile.ZipFile(paths, 'r') as zip_ref:\n",
    "            zip_ref.extractall(str(paths)[:-4])\n",
    "            # os.remove(zip_ref)\n",
    "# unzip(path)"
   ]
  },
  {
   "cell_type": "code",
   "execution_count": 140,
   "metadata": {},
   "outputs": [],
   "source": [
    "import json\n",
    "def to_dataframe(path):\n",
    "    path_list = path.glob('*/*')\n",
    "    df_columns =[]\n",
    "\n",
    "    for paths in path_list:\n",
    "        json_path = paths.glob('*.json')\n",
    "        for j in json_path:  # json_path 경로안에 있는 j 하나씩 읽음 \n",
    "            with open(j, encoding = 'utf-8') as json_file:\n",
    "                data = json.load(json_file)['images'][0]\n",
    "                df_columns.append(data)\n",
    "                break\n",
    "    df_vaild = pd.DataFrame(df_columns)\n",
    "    return df_vaild\n",
    "v_df = to_dataframe(path) # validation 데이터 "
   ]
  },
  {
   "cell_type": "code",
   "execution_count": 141,
   "metadata": {},
   "outputs": [
    {
     "data": {
      "text/html": [
       "<div>\n",
       "<style scoped>\n",
       "    .dataframe tbody tr th:only-of-type {\n",
       "        vertical-align: middle;\n",
       "    }\n",
       "\n",
       "    .dataframe tbody tr th {\n",
       "        vertical-align: top;\n",
       "    }\n",
       "\n",
       "    .dataframe thead th {\n",
       "        text-align: right;\n",
       "    }\n",
       "</style>\n",
       "<table border=\"1\" class=\"dataframe\">\n",
       "  <thead>\n",
       "    <tr style=\"text-align: right;\">\n",
       "      <th></th>\n",
       "      <th>file_name</th>\n",
       "      <th>width</th>\n",
       "      <th>height</th>\n",
       "      <th>imgfile</th>\n",
       "      <th>drug_N</th>\n",
       "      <th>...</th>\n",
       "      <th>mark_code_front_img</th>\n",
       "      <th>mark_code_back_img</th>\n",
       "      <th>mark_code_front</th>\n",
       "      <th>mark_code_back</th>\n",
       "      <th>change_date</th>\n",
       "    </tr>\n",
       "  </thead>\n",
       "  <tbody>\n",
       "    <tr>\n",
       "      <th>0</th>\n",
       "      <td>K-044727_0_2_0_0_75_000_200.png</td>\n",
       "      <td>976</td>\n",
       "      <td>1280</td>\n",
       "      <td>K-044727_0_2_0_0_75_000_200.png</td>\n",
       "      <td>K-044727</td>\n",
       "      <td>...</td>\n",
       "      <td></td>\n",
       "      <td></td>\n",
       "      <td></td>\n",
       "      <td></td>\n",
       "      <td>None</td>\n",
       "    </tr>\n",
       "    <tr>\n",
       "      <th>1</th>\n",
       "      <td>K-044732_0_2_0_0_70_000_200.png</td>\n",
       "      <td>976</td>\n",
       "      <td>1280</td>\n",
       "      <td>K-044732_0_2_0_0_70_000_200.png</td>\n",
       "      <td>K-044732</td>\n",
       "      <td>...</td>\n",
       "      <td></td>\n",
       "      <td></td>\n",
       "      <td></td>\n",
       "      <td></td>\n",
       "      <td>20190222</td>\n",
       "    </tr>\n",
       "    <tr>\n",
       "      <th>2</th>\n",
       "      <td>K-044736_0_0_0_0_70_000_200.png</td>\n",
       "      <td>976</td>\n",
       "      <td>1280</td>\n",
       "      <td>K-044736_0_0_0_0_70_000_200.png</td>\n",
       "      <td>K-044736</td>\n",
       "      <td>...</td>\n",
       "      <td></td>\n",
       "      <td></td>\n",
       "      <td></td>\n",
       "      <td></td>\n",
       "      <td>20210609</td>\n",
       "    </tr>\n",
       "    <tr>\n",
       "      <th>3</th>\n",
       "      <td>K-044746_0_2_0_0_70_000_200.png</td>\n",
       "      <td>976</td>\n",
       "      <td>1280</td>\n",
       "      <td>K-044746_0_2_0_0_70_000_200.png</td>\n",
       "      <td>K-044746</td>\n",
       "      <td>...</td>\n",
       "      <td></td>\n",
       "      <td></td>\n",
       "      <td></td>\n",
       "      <td></td>\n",
       "      <td>20190114</td>\n",
       "    </tr>\n",
       "    <tr>\n",
       "      <th>4</th>\n",
       "      <td>K-044754_0_0_0_0_60_000_200.png</td>\n",
       "      <td>976</td>\n",
       "      <td>1280</td>\n",
       "      <td>K-044754_0_0_0_0_60_000_200.png</td>\n",
       "      <td>K-044754</td>\n",
       "      <td>...</td>\n",
       "      <td></td>\n",
       "      <td></td>\n",
       "      <td></td>\n",
       "      <td></td>\n",
       "      <td>20201221</td>\n",
       "    </tr>\n",
       "  </tbody>\n",
       "</table>\n",
       "<p>5 rows × 50 columns</p>\n",
       "</div>"
      ],
      "text/plain": [
       "                         file_name  width  height   \n",
       "0  K-044727_0_2_0_0_75_000_200.png    976    1280  \\\n",
       "1  K-044732_0_2_0_0_70_000_200.png    976    1280   \n",
       "2  K-044736_0_0_0_0_70_000_200.png    976    1280   \n",
       "3  K-044746_0_2_0_0_70_000_200.png    976    1280   \n",
       "4  K-044754_0_0_0_0_60_000_200.png    976    1280   \n",
       "\n",
       "                           imgfile    drug_N  ... mark_code_front_img   \n",
       "0  K-044727_0_2_0_0_75_000_200.png  K-044727  ...                      \\\n",
       "1  K-044732_0_2_0_0_70_000_200.png  K-044732  ...                       \n",
       "2  K-044736_0_0_0_0_70_000_200.png  K-044736  ...                       \n",
       "3  K-044746_0_2_0_0_70_000_200.png  K-044746  ...                       \n",
       "4  K-044754_0_0_0_0_60_000_200.png  K-044754  ...                       \n",
       "\n",
       "  mark_code_back_img mark_code_front mark_code_back  change_date  \n",
       "0                                                           None  \n",
       "1                                                       20190222  \n",
       "2                                                       20210609  \n",
       "3                                                       20190114  \n",
       "4                                                       20201221  \n",
       "\n",
       "[5 rows x 50 columns]"
      ]
     },
     "execution_count": 141,
     "metadata": {},
     "output_type": "execute_result"
    }
   ],
   "source": [
    "v_df.head()"
   ]
  },
  {
   "cell_type": "markdown",
   "metadata": {},
   "source": [
    "### train 데이터 load"
   ]
  },
  {
   "cell_type": "code",
   "execution_count": 142,
   "metadata": {},
   "outputs": [
    {
     "name": "stdout",
     "output_type": "stream",
     "text": [
      "C:\\Users\\User\\document\\final_project\\preprocessing\n"
     ]
    }
   ],
   "source": [
    "%cd C:\\Users\\User\\document\\final_project\\preprocessing"
   ]
  },
  {
   "cell_type": "code",
   "execution_count": 143,
   "metadata": {},
   "outputs": [
    {
     "data": {
      "text/html": [
       "<div>\n",
       "<style scoped>\n",
       "    .dataframe tbody tr th:only-of-type {\n",
       "        vertical-align: middle;\n",
       "    }\n",
       "\n",
       "    .dataframe tbody tr th {\n",
       "        vertical-align: top;\n",
       "    }\n",
       "\n",
       "    .dataframe thead th {\n",
       "        text-align: right;\n",
       "    }\n",
       "</style>\n",
       "<table border=\"1\" class=\"dataframe\">\n",
       "  <thead>\n",
       "    <tr style=\"text-align: right;\">\n",
       "      <th></th>\n",
       "      <th>idx</th>\n",
       "      <th>file_name</th>\n",
       "      <th>width</th>\n",
       "      <th>height</th>\n",
       "      <th>imgfile</th>\n",
       "      <th>...</th>\n",
       "      <th>form_code_name</th>\n",
       "      <th>change_date</th>\n",
       "      <th>area</th>\n",
       "      <th>iscrowd</th>\n",
       "      <th>bbox</th>\n",
       "    </tr>\n",
       "  </thead>\n",
       "  <tbody>\n",
       "    <tr>\n",
       "      <th>0</th>\n",
       "      <td>0</td>\n",
       "      <td>K-019461_0_0_0_0_60_000_200.png</td>\n",
       "      <td>976</td>\n",
       "      <td>1280</td>\n",
       "      <td>K-019461_0_0_0_0_60_000_200.png</td>\n",
       "      <td>...</td>\n",
       "      <td>나정</td>\n",
       "      <td>20200930.0</td>\n",
       "      <td>50838</td>\n",
       "      <td>0</td>\n",
       "      <td>[408, 519, 229, 222]</td>\n",
       "    </tr>\n",
       "    <tr>\n",
       "      <th>1</th>\n",
       "      <td>1</td>\n",
       "      <td>K-019469_0_0_0_0_60_000_200.png</td>\n",
       "      <td>976</td>\n",
       "      <td>1280</td>\n",
       "      <td>K-019469_0_0_0_0_60_000_200.png</td>\n",
       "      <td>...</td>\n",
       "      <td>필름코팅정</td>\n",
       "      <td>20130129.0</td>\n",
       "      <td>72657</td>\n",
       "      <td>0</td>\n",
       "      <td>[350, 490, 299, 243]</td>\n",
       "    </tr>\n",
       "    <tr>\n",
       "      <th>2</th>\n",
       "      <td>2</td>\n",
       "      <td>K-019553_0_0_0_0_60_000_200.png</td>\n",
       "      <td>976</td>\n",
       "      <td>1280</td>\n",
       "      <td>K-019553_0_0_0_0_60_000_200.png</td>\n",
       "      <td>...</td>\n",
       "      <td>서방성캡슐제, 펠렛</td>\n",
       "      <td>20201116.0</td>\n",
       "      <td>126169</td>\n",
       "      <td>0</td>\n",
       "      <td>[249, 406, 449, 281]</td>\n",
       "    </tr>\n",
       "    <tr>\n",
       "      <th>3</th>\n",
       "      <td>3</td>\n",
       "      <td>K-019699_0_0_0_0_60_000_200.png</td>\n",
       "      <td>976</td>\n",
       "      <td>1280</td>\n",
       "      <td>K-019699_0_0_0_0_60_000_200.png</td>\n",
       "      <td>...</td>\n",
       "      <td>필름코팅정</td>\n",
       "      <td>20190225.0</td>\n",
       "      <td>54488</td>\n",
       "      <td>0</td>\n",
       "      <td>[357, 541, 278, 196]</td>\n",
       "    </tr>\n",
       "    <tr>\n",
       "      <th>4</th>\n",
       "      <td>4</td>\n",
       "      <td>K-019700_0_0_0_0_60_000_200.png</td>\n",
       "      <td>976</td>\n",
       "      <td>1280</td>\n",
       "      <td>K-019700_0_0_0_0_60_000_200.png</td>\n",
       "      <td>...</td>\n",
       "      <td>필름코팅정</td>\n",
       "      <td>20190225.0</td>\n",
       "      <td>94166</td>\n",
       "      <td>0</td>\n",
       "      <td>[325, 523, 394, 239]</td>\n",
       "    </tr>\n",
       "  </tbody>\n",
       "</table>\n",
       "<p>5 rows × 39 columns</p>\n",
       "</div>"
      ],
      "text/plain": [
       "   idx                        file_name  width  height   \n",
       "0    0  K-019461_0_0_0_0_60_000_200.png    976    1280  \\\n",
       "1    1  K-019469_0_0_0_0_60_000_200.png    976    1280   \n",
       "2    2  K-019553_0_0_0_0_60_000_200.png    976    1280   \n",
       "3    3  K-019699_0_0_0_0_60_000_200.png    976    1280   \n",
       "4    4  K-019700_0_0_0_0_60_000_200.png    976    1280   \n",
       "\n",
       "                           imgfile  ... form_code_name change_date    area   \n",
       "0  K-019461_0_0_0_0_60_000_200.png  ...             나정  20200930.0   50838  \\\n",
       "1  K-019469_0_0_0_0_60_000_200.png  ...          필름코팅정  20130129.0   72657   \n",
       "2  K-019553_0_0_0_0_60_000_200.png  ...     서방성캡슐제, 펠렛  20201116.0  126169   \n",
       "3  K-019699_0_0_0_0_60_000_200.png  ...          필름코팅정  20190225.0   54488   \n",
       "4  K-019700_0_0_0_0_60_000_200.png  ...          필름코팅정  20190225.0   94166   \n",
       "\n",
       "  iscrowd                  bbox  \n",
       "0       0  [408, 519, 229, 222]  \n",
       "1       0  [350, 490, 299, 243]  \n",
       "2       0  [249, 406, 449, 281]  \n",
       "3       0  [357, 541, 278, 196]  \n",
       "4       0  [325, 523, 394, 239]  \n",
       "\n",
       "[5 rows x 39 columns]"
      ]
     },
     "execution_count": 143,
     "metadata": {},
     "output_type": "execute_result"
    }
   ],
   "source": [
    "data = pd.read_csv('data/df_merged.csv') # 원래 train 데이터 \n",
    "data.head()"
   ]
  },
  {
   "cell_type": "markdown",
   "metadata": {},
   "source": [
    "### preprocessing and load"
   ]
  },
  {
   "cell_type": "code",
   "execution_count": 144,
   "metadata": {},
   "outputs": [],
   "source": [
    "def col_delete(df):\n",
    "    df.drop(['drug_S', 'width', 'height', 'mark_code_front', 'mark_code_back', 'line_front','line_back', 'mark_code_front_anal', 'mark_code_back_anal', 'mark_code_front_img', 'mark_code_back_img',\n",
    "                  'color_class2', 'file_name', 'dl_company_en', 'di_company_mf', 'di_company_mf_en', 'img_regist_ts',\n",
    "                  'change_date', 'back_color', 'light_color', 'camera_la', 'camera_lo', 'print_back'],\n",
    "                  axis = 1, inplace = True)\n",
    "    df['leng_long'].fillna(0, inplace = True)\n",
    "    df['leng_short'].fillna(0, inplace = True)\n",
    "    df['thick'].fillna(0, inplace = True)\n",
    "    df.fillna('unknown', inplace = True)\n",
    "    \n",
    "col_delete(v_df)"
   ]
  },
  {
   "cell_type": "code",
   "execution_count": 145,
   "metadata": {},
   "outputs": [],
   "source": [
    "def col_delete2(data):\n",
    "    data.drop(['idx','drug_S', 'width', 'height',  'file_name',  'img_regist_ts','change_date', 'back_color', 'light_color', 'camera_la', 'camera_lo', 'print_back'],axis = 1, inplace = True)\n",
    "    data['leng_long'].fillna(0, inplace = True)\n",
    "    data['leng_short'].fillna(0, inplace = True)\n",
    "    data['thick'].fillna(0, inplace = True)\n",
    "    data.fillna('unknown', inplace = True)\n",
    "col_delete2(data)"
   ]
  },
  {
   "cell_type": "code",
   "execution_count": 146,
   "metadata": {},
   "outputs": [
    {
     "data": {
      "text/html": [
       "<div>\n",
       "<style scoped>\n",
       "    .dataframe tbody tr th:only-of-type {\n",
       "        vertical-align: middle;\n",
       "    }\n",
       "\n",
       "    .dataframe tbody tr th {\n",
       "        vertical-align: top;\n",
       "    }\n",
       "\n",
       "    .dataframe thead th {\n",
       "        text-align: right;\n",
       "    }\n",
       "</style>\n",
       "<table border=\"1\" class=\"dataframe\">\n",
       "  <thead>\n",
       "    <tr style=\"text-align: right;\">\n",
       "      <th></th>\n",
       "      <th>drug_N</th>\n",
       "      <th>dl_name</th>\n",
       "      <th>dl_name_en</th>\n",
       "      <th>dl_material</th>\n",
       "      <th>dl_material_en</th>\n",
       "      <th>item_seq</th>\n",
       "      <th>di_class_no</th>\n",
       "      <th>di_edi_code</th>\n",
       "      <th>form_code_name</th>\n",
       "      <th>bbox</th>\n",
       "    </tr>\n",
       "  </thead>\n",
       "  <tbody>\n",
       "    <tr>\n",
       "      <th>0</th>\n",
       "      <td>K-019461</td>\n",
       "      <td>미래트리메부틴정 100mg/병</td>\n",
       "      <td>Trimebutine Tab. Mirae</td>\n",
       "      <td>트리메부틴말레산염</td>\n",
       "      <td>Trimebutine</td>\n",
       "      <td>200607006</td>\n",
       "      <td>[02390]기타의 소화기관용약</td>\n",
       "      <td>657500470</td>\n",
       "      <td>나정</td>\n",
       "      <td>[408, 519, 229, 222]</td>\n",
       "    </tr>\n",
       "    <tr>\n",
       "      <th>1</th>\n",
       "      <td>K-019469</td>\n",
       "      <td>큐레틴정(빌베리건조엑스)</td>\n",
       "      <td>Qretin Tab.</td>\n",
       "      <td>빌베리건조엑스</td>\n",
       "      <td>Bilberry Dried Ext.</td>\n",
       "      <td>200607018</td>\n",
       "      <td>[01310]안과용제</td>\n",
       "      <td>650101140,A28302561</td>\n",
       "      <td>필름코팅정</td>\n",
       "      <td>[350, 490, 299, 243]</td>\n",
       "    </tr>\n",
       "    <tr>\n",
       "      <th>2</th>\n",
       "      <td>K-019553</td>\n",
       "      <td>콘택골드캡슐 10mg/PTP</td>\n",
       "      <td>Contac Gold Cap.</td>\n",
       "      <td>클로르페니라민말레산염|벨라돈나총알칼로이드|페닐레프린염산염</td>\n",
       "      <td>Phenylephrine Hydrochloride| Belladonna Total ...</td>\n",
       "      <td>200607735</td>\n",
       "      <td>[01410]항히스타민제</td>\n",
       "      <td>642102330</td>\n",
       "      <td>서방성캡슐제, 펠렛</td>\n",
       "      <td>[249, 406, 449, 281]</td>\n",
       "    </tr>\n",
       "    <tr>\n",
       "      <th>3</th>\n",
       "      <td>K-019699</td>\n",
       "      <td>에스케이코스카플러스정</td>\n",
       "      <td>Cosca Plus Tab. SK</td>\n",
       "      <td>로사르탄칼륨|히드로클로로티아지드</td>\n",
       "      <td>Hydrochlorothiazide| Losartan potassium</td>\n",
       "      <td>200608151</td>\n",
       "      <td>[02140]혈압강하제</td>\n",
       "      <td>644703770,653802290,A20753971</td>\n",
       "      <td>필름코팅정</td>\n",
       "      <td>[357, 541, 278, 196]</td>\n",
       "    </tr>\n",
       "    <tr>\n",
       "      <th>4</th>\n",
       "      <td>K-019700</td>\n",
       "      <td>에스케이코스카플러스에프정</td>\n",
       "      <td>Cosca Plus-F Tab. SK</td>\n",
       "      <td>로사르탄칼륨|히드로클로로티아지드</td>\n",
       "      <td>Hydrochlorothiazide| Losartan potassium</td>\n",
       "      <td>200608152</td>\n",
       "      <td>[02140]혈압강하제</td>\n",
       "      <td>644703780,653802280,A20753981</td>\n",
       "      <td>필름코팅정</td>\n",
       "      <td>[325, 523, 394, 239]</td>\n",
       "    </tr>\n",
       "  </tbody>\n",
       "</table>\n",
       "</div>"
      ],
      "text/plain": [
       "     drug_N           dl_name              dl_name_en   \n",
       "0  K-019461  미래트리메부틴정 100mg/병  Trimebutine Tab. Mirae  \\\n",
       "1  K-019469     큐레틴정(빌베리건조엑스)             Qretin Tab.   \n",
       "2  K-019553   콘택골드캡슐 10mg/PTP        Contac Gold Cap.   \n",
       "3  K-019699       에스케이코스카플러스정      Cosca Plus Tab. SK   \n",
       "4  K-019700     에스케이코스카플러스에프정    Cosca Plus-F Tab. SK   \n",
       "\n",
       "                       dl_material   \n",
       "0                        트리메부틴말레산염  \\\n",
       "1                          빌베리건조엑스   \n",
       "2  클로르페니라민말레산염|벨라돈나총알칼로이드|페닐레프린염산염   \n",
       "3                로사르탄칼륨|히드로클로로티아지드   \n",
       "4                로사르탄칼륨|히드로클로로티아지드   \n",
       "\n",
       "                                      dl_material_en   item_seq   \n",
       "0                                        Trimebutine  200607006  \\\n",
       "1                                Bilberry Dried Ext.  200607018   \n",
       "2  Phenylephrine Hydrochloride| Belladonna Total ...  200607735   \n",
       "3            Hydrochlorothiazide| Losartan potassium  200608151   \n",
       "4            Hydrochlorothiazide| Losartan potassium  200608152   \n",
       "\n",
       "         di_class_no                    di_edi_code form_code_name   \n",
       "0  [02390]기타의 소화기관용약                      657500470             나정  \\\n",
       "1        [01310]안과용제            650101140,A28302561          필름코팅정   \n",
       "2      [01410]항히스타민제                      642102330     서방성캡슐제, 펠렛   \n",
       "3       [02140]혈압강하제  644703770,653802290,A20753971          필름코팅정   \n",
       "4       [02140]혈압강하제  644703780,653802280,A20753981          필름코팅정   \n",
       "\n",
       "                   bbox  \n",
       "0  [408, 519, 229, 222]  \n",
       "1  [350, 490, 299, 243]  \n",
       "2  [249, 406, 449, 281]  \n",
       "3  [357, 541, 278, 196]  \n",
       "4  [325, 523, 394, 239]  "
      ]
     },
     "execution_count": 146,
     "metadata": {},
     "output_type": "execute_result"
    }
   ],
   "source": [
    "result_df = pd.concat([data, v_df])\n",
    "result_df =result_df[['drug_N','dl_name','dl_name_en','dl_material','dl_material_en','item_seq','di_class_no','di_edi_code','form_code_name','bbox']]\n",
    "result_df =result_df.reset_index(drop=True)\n",
    "result_df.head()\n",
    "# result_df.columns"
   ]
  },
  {
   "cell_type": "code",
   "execution_count": 147,
   "metadata": {},
   "outputs": [],
   "source": [
    "df_information = pd.read_csv('data/e약은요.csv') # 약 내용 데이터 \n",
    "df_information.drop(['제품명','공개일자','수정일자','업체명','이 약은 어떻게 보관해야 합니까?','이 약을 사용하기 전에 반드시 알아야 할 내용은 무엇입니가?'],axis=1,inplace=True)"
   ]
  },
  {
   "cell_type": "code",
   "execution_count": 319,
   "metadata": {},
   "outputs": [],
   "source": [
    "merge_df_tv = pd.merge(result_df,df_information, how='left', left_on='item_seq', right_on='품목일련번호')\n",
    "keys = ['이 약의 효능은 무엇입니까?','이 약은 어떻게 사용합니까?','이 약을 사용하기 전에 반드시 알아야 할 내용은 무엇입니가?','이 약의 사용상 주의사항은 무엇입니까?'\n",
    "        ,'이 약을 사용하는 동안 주의해야 할 약 또는 음식은 무엇입니까?','이 약은 어떤 이상반응이 나타날 수 있습니까?']\n",
    "values = ['효능','사용 방법','알아야 할 내용','주의사항','주의음식','부작용','성분명(영어)','제조사명','제조사명(영어)','약품 분류','품목기준 코드','전문의약품 여부','EDI코드','제형',\n",
    "'모양','식별문자(앞)','식별문자(뒤)','색상','정제 분류명','영역']\n",
    "my_dict = dict(zip(keys, values))\n",
    "merge_df_tv = merge_df_tv.rename(columns=my_dict)\n",
    "merge_df_tv.to_csv('merge_df_tv.csv', index=False,encoding='utf-8-sig')"
   ]
  },
  {
   "cell_type": "code",
   "execution_count": 328,
   "metadata": {},
   "outputs": [
    {
     "data": {
      "text/plain": [
       "0                           657500470\n",
       "1                 650101140,A28302561\n",
       "2                           642102330\n",
       "3       644703770,653802290,A20753971\n",
       "4       644703780,653802280,A20753981\n",
       "                    ...              \n",
       "4519                        648507790\n",
       "4520                        055100300\n",
       "4521                        665507030\n",
       "4522                        657203390\n",
       "4523                        622803300\n",
       "Name: di_edi_code, Length: 4524, dtype: object"
      ]
     },
     "execution_count": 328,
     "metadata": {},
     "output_type": "execute_result"
    }
   ],
   "source": [
    "merge_df_tv['di_edi_code']"
   ]
  },
  {
   "cell_type": "markdown",
   "metadata": {},
   "source": [
    "## 결과랑 연결"
   ]
  },
  {
   "cell_type": "code",
   "execution_count": 33,
   "metadata": {},
   "outputs": [
    {
     "name": "stderr",
     "output_type": "stream",
     "text": [
      "Downloading: \"https://github.com/ultralytics/yolov5/zipball/master\" to C:\\Users\\User/.cache\\torch\\hub\\master.zip\n",
      "WARNING  Ultralytics settings reset to default values. This may be due to a possible problem with your settings or a recent ultralytics package update. \n",
      "View settings with 'yolo settings' or at 'C:\\Users\\User\\AppData\\Roaming\\Ultralytics\\settings.yaml'\n",
      "Update settings with 'yolo settings key=value', i.e. 'yolo settings runs_dir=path/to/dir'.\n",
      "YOLOv5  2023-7-31 Python-3.10.11 torch-2.0.1+cpu CPU\n",
      "\n",
      "Fusing layers... \n",
      "Model summary: 157 layers, 7144975 parameters, 0 gradients, 16.2 GFLOPs\n",
      "Adding AutoShape... \n"
     ]
    }
   ],
   "source": [
    "model = torch.hub.load('ultralytics/yolov5', 'custom', path='./best.pt', force_reload=True) "
   ]
  },
  {
   "cell_type": "code",
   "execution_count": 10,
   "metadata": {},
   "outputs": [
    {
     "data": {
      "text/plain": [
       "<generator object Path.glob at 0x000001896A4DDAF0>"
      ]
     },
     "execution_count": 10,
     "metadata": {},
     "output_type": "execute_result"
    }
   ],
   "source": [
    "base_path = Path(os.getcwd())\n",
    "# base = base_path/'image'\n",
    "path_list = base_path.glob('image/*')\n",
    "path_list"
   ]
  },
  {
   "cell_type": "code",
   "execution_count": 173,
   "metadata": {},
   "outputs": [
    {
     "name": "stdout",
     "output_type": "stream",
     "text": [
      "<class 'list'>\n"
     ]
    }
   ],
   "source": [
    "df_warming = pd.read_csv('df_warming.csv') # 주의 데이터\n",
    "# df_warming['code조합'].values[0].replace('[','').replace(']','')\n",
    "df_warming['code조합'] = df_warming['제품코드A'].astype(str) + ',' + df_warming['제품코드B'].astype(str)\n",
    "df_warming['code조합'] = df_warming['code조합'].str.split(',')\n",
    "df_warming['code조합'].iloc[0]\n",
    "\n",
    "# df_warming.to_csv('df_warming.csv', index=False,encoding='utf-8-sig')\n",
    "# df_warming = pd.read_csv('df_warming.csv')\n",
    "# df_warming['code조합'].iloc[0]\n",
    "\n",
    "# df_warming = pd.read_csv('df_warming.csv')\n",
    "# convert_to_list = lambda x: eval(x) if isinstance(x, str) else x\n",
    "# df_warming['code조합'] = df_warming['code조합'].apply(convert_to_list)\n",
    "# for i,v in enumerate(df_warming['code조합']):\n",
    "#     print(set(v))\n",
    "#     break\n",
    "\n",
    "\n",
    "# df_warming.to_csv('df_warming.csv', index=False,encoding='utf-8-sig') # 주의 code list 만들어서 저장\n",
    "# df_warming = pd.read_csv('df_warming.csv')\n",
    "# df_warming['code조합'].iloc[0]\n",
    "# for i,v in enumerate(df_warming['code조합']):\n",
    "#     print(set(v))\n",
    "#     break\n",
    "\n",
    "# df_warming['code조합'].iloc[0]"
   ]
  },
  {
   "cell_type": "code",
   "execution_count": 8,
   "metadata": {},
   "outputs": [
    {
     "data": {
      "text/plain": [
       "WindowsPath('c:/Users/User/document/final_project/drugweb/flask/final_yolo_5')"
      ]
     },
     "execution_count": 8,
     "metadata": {},
     "output_type": "execute_result"
    }
   ],
   "source": [
    "base_path = Path(os.getcwd())\n",
    "base_path"
   ]
  },
  {
   "cell_type": "code",
   "execution_count": 45,
   "metadata": {},
   "outputs": [
    {
     "name": "stderr",
     "output_type": "stream",
     "text": [
      "Downloading: \"https://github.com/ultralytics/yolov5/zipball/master\" to C:\\Users\\User/.cache\\torch\\hub\\master.zip\n",
      "YOLOv5  2023-7-31 Python-3.10.11 torch-2.0.1+cpu CPU\n",
      "\n",
      "Fusing layers... \n",
      "Model summary: 157 layers, 7144975 parameters, 0 gradients, 16.2 GFLOPs\n",
      "Adding AutoShape... \n"
     ]
    },
    {
     "data": {
      "text/html": [
       "<div>\n",
       "<style scoped>\n",
       "    .dataframe tbody tr th:only-of-type {\n",
       "        vertical-align: middle;\n",
       "    }\n",
       "\n",
       "    .dataframe tbody tr th {\n",
       "        vertical-align: top;\n",
       "    }\n",
       "\n",
       "    .dataframe thead th {\n",
       "        text-align: right;\n",
       "    }\n",
       "</style>\n",
       "<table border=\"1\" class=\"dataframe\">\n",
       "  <thead>\n",
       "    <tr style=\"text-align: right;\">\n",
       "      <th></th>\n",
       "      <th>xmin</th>\n",
       "      <th>ymin</th>\n",
       "      <th>xmax</th>\n",
       "      <th>ymax</th>\n",
       "      <th>confidence</th>\n",
       "      <th>class</th>\n",
       "      <th>name</th>\n",
       "    </tr>\n",
       "  </thead>\n",
       "  <tbody>\n",
       "    <tr>\n",
       "      <th>0</th>\n",
       "      <td>226.539642</td>\n",
       "      <td>243.636597</td>\n",
       "      <td>368.898651</td>\n",
       "      <td>377.332184</td>\n",
       "      <td>0.585184</td>\n",
       "      <td>44</td>\n",
       "      <td>K-043508</td>\n",
       "    </tr>\n",
       "    <tr>\n",
       "      <th>1</th>\n",
       "      <td>20.207760</td>\n",
       "      <td>246.185104</td>\n",
       "      <td>187.782669</td>\n",
       "      <td>337.014679</td>\n",
       "      <td>0.497515</td>\n",
       "      <td>43</td>\n",
       "      <td>K-043506</td>\n",
       "    </tr>\n",
       "    <tr>\n",
       "      <th>2</th>\n",
       "      <td>225.264023</td>\n",
       "      <td>244.425476</td>\n",
       "      <td>368.165039</td>\n",
       "      <td>374.793488</td>\n",
       "      <td>0.490535</td>\n",
       "      <td>13</td>\n",
       "      <td>K-043144</td>\n",
       "    </tr>\n",
       "    <tr>\n",
       "      <th>3</th>\n",
       "      <td>227.963959</td>\n",
       "      <td>20.428823</td>\n",
       "      <td>370.610779</td>\n",
       "      <td>209.497879</td>\n",
       "      <td>0.400958</td>\n",
       "      <td>32</td>\n",
       "      <td>K-043383</td>\n",
       "    </tr>\n",
       "    <tr>\n",
       "      <th>4</th>\n",
       "      <td>226.737000</td>\n",
       "      <td>21.310629</td>\n",
       "      <td>371.798584</td>\n",
       "      <td>208.594238</td>\n",
       "      <td>0.399141</td>\n",
       "      <td>23</td>\n",
       "      <td>K-043292</td>\n",
       "    </tr>\n",
       "    <tr>\n",
       "      <th>5</th>\n",
       "      <td>19.332907</td>\n",
       "      <td>19.534845</td>\n",
       "      <td>186.997437</td>\n",
       "      <td>203.720963</td>\n",
       "      <td>0.302568</td>\n",
       "      <td>22</td>\n",
       "      <td>K-043280</td>\n",
       "    </tr>\n",
       "    <tr>\n",
       "      <th>6</th>\n",
       "      <td>20.105526</td>\n",
       "      <td>18.507647</td>\n",
       "      <td>186.280762</td>\n",
       "      <td>204.126740</td>\n",
       "      <td>0.256765</td>\n",
       "      <td>23</td>\n",
       "      <td>K-043292</td>\n",
       "    </tr>\n",
       "  </tbody>\n",
       "</table>\n",
       "</div>"
      ],
      "text/plain": [
       "         xmin        ymin        xmax        ymax  confidence  class      name\n",
       "0  226.539642  243.636597  368.898651  377.332184    0.585184     44  K-043508\n",
       "1   20.207760  246.185104  187.782669  337.014679    0.497515     43  K-043506\n",
       "2  225.264023  244.425476  368.165039  374.793488    0.490535     13  K-043144\n",
       "3  227.963959   20.428823  370.610779  209.497879    0.400958     32  K-043383\n",
       "4  226.737000   21.310629  371.798584  208.594238    0.399141     23  K-043292\n",
       "5   19.332907   19.534845  186.997437  203.720963    0.302568     22  K-043280\n",
       "6   20.105526   18.507647  186.280762  204.126740    0.256765     23  K-043292"
      ]
     },
     "execution_count": 45,
     "metadata": {},
     "output_type": "execute_result"
    }
   ],
   "source": [
    "\n",
    "from PIL import Image, ImageDraw\n",
    "from typing import Tuple\n",
    "import numpy as np\n",
    "import time\n",
    "import cv2\n",
    "import pandas as pd\n",
    "import easydict\n",
    "from pathlib import Path\n",
    "import os\n",
    "\n",
    "merge_df_tv = pd.read_csv('merge_df_tv.csv') # 4000개 데이터\n",
    "model = torch.hub.load('ultralytics/yolov5', 'custom', path='./best.pt', force_reload=True) \n",
    "\n",
    "def image_information(base_path):\n",
    "    base_path = Path(os.getcwd())\n",
    "    image_path = base_path.glob('image/*')\n",
    "    img = sorted(image_path,reverse=True)[0] # 가장 최신에 들어온것 하나\n",
    "    img = cv2.imread(str(img))\n",
    "    results = model(img)\n",
    "    df = results.pandas().xyxy[0] # 결과 데이터\n",
    "    return df\n",
    "    # result = merge_df_tv[merge_df_tv['drug_N'].isin(df['name'])]['dl_name','dl_material','confidence','품목일련번호', '주성분', '효능','사용 방법', '주의사항', '주의음식', '부작용','di_class_no']\n",
    "    \n",
    "    # image_df = pd.merge(df,merge_df_tv, how='left', left_on='name', right_on='drug_N')\n",
    "    # print(image_df[['dl_name','dl_material','confidence','품목일련번호', '주성분', '효능','사용 방법', '주의사항', '주의음식', '부작용','di_class_no']])\n",
    "    # 문제가 생겼을경우만 출력 \n",
    "    # df_warming = pd.read_csv('df_warming.csv') # 주의 데이터 \n",
    "    # for i,v in enumerate(df_warming['code조합']):\n",
    "    #     if set(v).issubset(set(image_df['di_edi_code'].values))==True:\n",
    "    #         print('문제 조합 : ' ,v ) # 문제 조합 \n",
    "    #         print(image_df[image_df['di_edi_code']==v[0]]['name'].values) # 문제조합 코드 이름 \n",
    "    #         print(image_df[image_df['di_edi_code']==v[1]]['name'].values) # 문제조합 코드 이름\n",
    "    #         print('주의사항 : ' + df_warming.iloc[i][\"상세정보\"] + '이 생길수 있습니다') # 문제 조합 상세정보 \n",
    "image_information(base_path)"
   ]
  },
  {
   "cell_type": "markdown",
   "metadata": {},
   "source": [
    "## 새로운 logic"
   ]
  },
  {
   "cell_type": "code",
   "execution_count": 208,
   "metadata": {},
   "outputs": [],
   "source": [
    "from PIL import Image, ImageDraw\n",
    "from typing import Tuple\n",
    "import numpy as np\n",
    "import time\n",
    "import cv2\n",
    "import pandas as pd\n",
    "import easydict\n",
    "from pathlib import Path\n",
    "import os\n",
    "\n",
    "merge_df_tv = pd.read_csv('merge_df_tv.csv') # 4000개 데이터\n",
    "df_warming = pd.read_csv('df_warming.csv') #4초\n",
    "df_warming['code조합'] = df_warming['제품코드A'].astype(str) + ',' + df_warming['제품코드B'].astype(str)\n",
    "df_warming['code조합'] = df_warming['code조합'].str.split(',')\n",
    "\n",
    "model = torch.hub.load('ultralytics/yolov5', 'custom', path='./best.pt', force_reload=True)  #2초\n",
    "\n",
    "def image_information(base_path):\n",
    "    base_path = Path(os.getcwd())\n",
    "    image_path = base_path.glob('image/*')\n",
    "    img = sorted(image_path,reverse=True)[0] # 가장 최신에 들어온것 하나\n",
    "    img = cv2.imread(str(img))\n",
    "    results = model(img)\n",
    "    df = results.pandas().xyxy[0] # 결과 데이터\n",
    "    result = merge_df_tv[merge_df_tv['drug_N'].isin(df['name'])][['dl_name','dl_material','di_edi_code', '주성분', '효능','사용 방법', '주의사항', '주의음식', '부작용','di_class_no']]\n",
    "    # print(set(result))\n",
    "    for i,v in enumerate(df_warming['code조합']):\n",
    "        if set(v).issubset(set(result['di_edi_code'].values))==True:\n",
    "            print('문제 조합 : ' ,v ) # 문제 조합 \n",
    "            print(result[result['di_edi_code']==v[0]]['dl_name'].values) # 문제조합 코드 이름 \n",
    "            print(result[result['di_edi_code']==v[1]]['dl_name'].values) # 문제조합 코드 이름\n",
    "            print('주의사항 : ' + df_warming.iloc[i][\"상세정보\"] + '이 생길수 있습니다') # 문제 조합 상세정보\n",
    "image_information(base_path)"
   ]
  },
  {
   "cell_type": "markdown",
   "metadata": {},
   "source": [
    "## 새로운 로직 테스트"
   ]
  },
  {
   "cell_type": "code",
   "execution_count": 176,
   "metadata": {},
   "outputs": [],
   "source": [
    "# values_list = image_df['di_edi_code'].tolist()\n",
    "values_list = ['648101510','646002281','648101510','647804481','646002281']"
   ]
  },
  {
   "cell_type": "code",
   "execution_count": 175,
   "metadata": {},
   "outputs": [
    {
     "name": "stdout",
     "output_type": "stream",
     "text": [
      "{'646002281', '648101510'}\n"
     ]
    }
   ],
   "source": [
    "for i,v in enumerate(df_warming['code조합']):\n",
    "    print(set(v))\n",
    "    break"
   ]
  },
  {
   "cell_type": "code",
   "execution_count": 117,
   "metadata": {},
   "outputs": [],
   "source": [
    "for i,v in enumerate(df_warming['code조합']):\n",
    "    if set(v).issubset(set(values_list)):\n",
    "        print(v)"
   ]
  },
  {
   "cell_type": "code",
   "execution_count": 174,
   "metadata": {},
   "outputs": [],
   "source": [
    "df_warming['code조합'] = df_warming['제품코드A'].astype(str) + ',' + df_warming['제품코드B'].astype(str)\n",
    "df_warming['code조합'] = df_warming['code조합'].str.split(',')"
   ]
  },
  {
   "cell_type": "code",
   "execution_count": 211,
   "metadata": {},
   "outputs": [],
   "source": [
    "base_path = Path(os.getcwd())\n",
    "image_path = base_path.glob('image/*')\n",
    "img = sorted(image_path,reverse=True)[0] # 가장 최신에 들어온것 하나\n",
    "img = cv2.imread(str(img))\n",
    "results = model(img)\n",
    "df = results.pandas().xyxy[0] # 결과 데이터\n",
    "result = merge_df_tv[merge_df_tv['drug_N'].isin(df['name'])][['dl_name','dl_material','di_edi_code', '주성분', '효능','사용 방법', '주의사항', '주의음식', '부작용','di_class_no']]"
   ]
  },
  {
   "cell_type": "code",
   "execution_count": 213,
   "metadata": {},
   "outputs": [
    {
     "name": "stdout",
     "output_type": "stream",
     "text": [
      "문제 조합 코드 :  ['648101510', '646002281']\n",
      "[]\n",
      "[]\n",
      "주의사항 : 중증의 위장관계 이상반응증상이 생길수 있습니다\n",
      "문제 조합 코드 :  ['648101510', '647804481']\n",
      "[]\n",
      "[]\n",
      "주의사항 : 중증의 위장관계 이상반응증상이 생길수 있습니다\n",
      "문제 조합 코드 :  ['648101510', '646002281']\n",
      "[]\n",
      "[]\n",
      "주의사항 : 중증의 위장관계 이상반응증상이 생길수 있습니다\n",
      "문제 조합 코드 :  ['648101510', '647804481']\n",
      "[]\n",
      "[]\n",
      "주의사항 : 중증의 위장관계 이상반응증상이 생길수 있습니다\n",
      "문제 조합 코드 :  ['646002281', '648101510']\n",
      "[]\n",
      "[]\n",
      "주의사항 : 중증의 위장관계 이상반응증상이 생길수 있습니다\n",
      "문제 조합 코드 :  ['647804481', '648101510']\n",
      "[]\n",
      "[]\n",
      "주의사항 : 중증의 위장관계 이상반응증상이 생길수 있습니다\n"
     ]
    }
   ],
   "source": [
    "for i,v in enumerate(df_warming['code조합']):\n",
    "    if set(v).issubset(set(values_list)):\n",
    "        print('문제 조합 코드 : ' , v)\n",
    "        print(result[result['di_edi_code']==v[0]]['dl_name'].values)\n",
    "        print(result[result['di_edi_code']==v[1]]['dl_name'].values)\n",
    "        print('주의사항 : ' + df_warming.iloc[i][\"상세정보\"] + '증상이 생길수 있습니다')"
   ]
  },
  {
   "cell_type": "code",
   "execution_count": 74,
   "metadata": {},
   "outputs": [],
   "source": [
    "merge_df_tv = pd.read_csv('merge_df_tv.csv') # 4000개 데이터\n",
    "df_warming = pd.read_csv('df_warming.csv')"
   ]
  },
  {
   "cell_type": "code",
   "execution_count": 21,
   "metadata": {},
   "outputs": [
    {
     "data": {
      "text/html": [
       "<div>\n",
       "<style scoped>\n",
       "    .dataframe tbody tr th:only-of-type {\n",
       "        vertical-align: middle;\n",
       "    }\n",
       "\n",
       "    .dataframe tbody tr th {\n",
       "        vertical-align: top;\n",
       "    }\n",
       "\n",
       "    .dataframe thead th {\n",
       "        text-align: right;\n",
       "    }\n",
       "</style>\n",
       "<table border=\"1\" class=\"dataframe\">\n",
       "  <thead>\n",
       "    <tr style=\"text-align: right;\">\n",
       "      <th></th>\n",
       "      <th>drug_N</th>\n",
       "      <th>dl_name</th>\n",
       "      <th>dl_name_en</th>\n",
       "      <th>dl_material</th>\n",
       "      <th>dl_material_en</th>\n",
       "      <th>...</th>\n",
       "      <th>효능</th>\n",
       "      <th>사용 방법</th>\n",
       "      <th>주의사항</th>\n",
       "      <th>주의음식</th>\n",
       "      <th>부작용</th>\n",
       "    </tr>\n",
       "  </thead>\n",
       "  <tbody>\n",
       "    <tr>\n",
       "      <th>0</th>\n",
       "      <td>K-019461</td>\n",
       "      <td>미래트리메부틴정 100mg/병</td>\n",
       "      <td>Trimebutine Tab. Mirae</td>\n",
       "      <td>트리메부틴말레산염</td>\n",
       "      <td>Trimebutine</td>\n",
       "      <td>...</td>\n",
       "      <td>이 약은 식도역류 및 열공헤르니아, 위 십이지장염, 위ㆍ십이지장궤양에 있어서의 소화...</td>\n",
       "      <td>성인은 1회 1~2정(100~200 mg) 1일 3회 식전에 복용합니다.연령, 증상...</td>\n",
       "      <td>갈락토오스 불내성, Lapp 유당분해효소 결핍증 또는 포도당-갈락토오스 흡수장애 등...</td>\n",
       "      <td>NaN</td>\n",
       "      <td>드물게 변비, 설사, 복명, 구역, 구토, 소화장애, 구갈, 구내마비감, 심계항진,...</td>\n",
       "    </tr>\n",
       "    <tr>\n",
       "      <th>1</th>\n",
       "      <td>K-019469</td>\n",
       "      <td>큐레틴정(빌베리건조엑스)</td>\n",
       "      <td>Qretin Tab.</td>\n",
       "      <td>빌베리건조엑스</td>\n",
       "      <td>Bilberry Dried Ext.</td>\n",
       "      <td>...</td>\n",
       "      <td>NaN</td>\n",
       "      <td>NaN</td>\n",
       "      <td>NaN</td>\n",
       "      <td>NaN</td>\n",
       "      <td>NaN</td>\n",
       "    </tr>\n",
       "    <tr>\n",
       "      <th>2</th>\n",
       "      <td>K-019553</td>\n",
       "      <td>콘택골드캡슐 10mg/PTP</td>\n",
       "      <td>Contac Gold Cap.</td>\n",
       "      <td>클로르페니라민말레산염|벨라돈나총알칼로이드|페닐레프린염산염</td>\n",
       "      <td>Phenylephrine Hydrochloride| Belladonna Total ...</td>\n",
       "      <td>...</td>\n",
       "      <td>이 약은 코감기(급성비염), 알레르기성 비염 또는 부비강염에 의한 코막힘, 콧물, ...</td>\n",
       "      <td>만 15세 이상 및 성인은 1회 1캡슐씩 1일 3회, 매 식후에 복용합니다.만 11...</td>\n",
       "      <td>이 약에 과민증 환자, 만 3개월 미만의 영아, MAO 억제제(항우울제, 항정신병제...</td>\n",
       "      <td>MAO 억제제(항우울제, 항정신병제, 감정조절제, 항파킨슨제 등), 다른 비염용 경...</td>\n",
       "      <td>출혈성뇌졸중, 구역·구토, 목마름(지속적이거나 심한), 변비, 식욕부진, 발진·발적...</td>\n",
       "    </tr>\n",
       "    <tr>\n",
       "      <th>3</th>\n",
       "      <td>K-019699</td>\n",
       "      <td>에스케이코스카플러스정</td>\n",
       "      <td>Cosca Plus Tab. SK</td>\n",
       "      <td>로사르탄칼륨|히드로클로로티아지드</td>\n",
       "      <td>Hydrochlorothiazide| Losartan potassium</td>\n",
       "      <td>...</td>\n",
       "      <td>NaN</td>\n",
       "      <td>NaN</td>\n",
       "      <td>NaN</td>\n",
       "      <td>NaN</td>\n",
       "      <td>NaN</td>\n",
       "    </tr>\n",
       "    <tr>\n",
       "      <th>4</th>\n",
       "      <td>K-019700</td>\n",
       "      <td>에스케이코스카플러스에프정</td>\n",
       "      <td>Cosca Plus-F Tab. SK</td>\n",
       "      <td>로사르탄칼륨|히드로클로로티아지드</td>\n",
       "      <td>Hydrochlorothiazide| Losartan potassium</td>\n",
       "      <td>...</td>\n",
       "      <td>NaN</td>\n",
       "      <td>NaN</td>\n",
       "      <td>NaN</td>\n",
       "      <td>NaN</td>\n",
       "      <td>NaN</td>\n",
       "    </tr>\n",
       "  </tbody>\n",
       "</table>\n",
       "<p>5 rows × 17 columns</p>\n",
       "</div>"
      ],
      "text/plain": [
       "     drug_N           dl_name              dl_name_en   \n",
       "0  K-019461  미래트리메부틴정 100mg/병  Trimebutine Tab. Mirae  \\\n",
       "1  K-019469     큐레틴정(빌베리건조엑스)             Qretin Tab.   \n",
       "2  K-019553   콘택골드캡슐 10mg/PTP        Contac Gold Cap.   \n",
       "3  K-019699       에스케이코스카플러스정      Cosca Plus Tab. SK   \n",
       "4  K-019700     에스케이코스카플러스에프정    Cosca Plus-F Tab. SK   \n",
       "\n",
       "                       dl_material   \n",
       "0                        트리메부틴말레산염  \\\n",
       "1                          빌베리건조엑스   \n",
       "2  클로르페니라민말레산염|벨라돈나총알칼로이드|페닐레프린염산염   \n",
       "3                로사르탄칼륨|히드로클로로티아지드   \n",
       "4                로사르탄칼륨|히드로클로로티아지드   \n",
       "\n",
       "                                      dl_material_en  ...   \n",
       "0                                        Trimebutine  ...  \\\n",
       "1                                Bilberry Dried Ext.  ...   \n",
       "2  Phenylephrine Hydrochloride| Belladonna Total ...  ...   \n",
       "3            Hydrochlorothiazide| Losartan potassium  ...   \n",
       "4            Hydrochlorothiazide| Losartan potassium  ...   \n",
       "\n",
       "                                                  효능   \n",
       "0  이 약은 식도역류 및 열공헤르니아, 위 십이지장염, 위ㆍ십이지장궤양에 있어서의 소화...  \\\n",
       "1                                                NaN   \n",
       "2  이 약은 코감기(급성비염), 알레르기성 비염 또는 부비강염에 의한 코막힘, 콧물, ...   \n",
       "3                                                NaN   \n",
       "4                                                NaN   \n",
       "\n",
       "                                               사용 방법   \n",
       "0  성인은 1회 1~2정(100~200 mg) 1일 3회 식전에 복용합니다.연령, 증상...  \\\n",
       "1                                                NaN   \n",
       "2  만 15세 이상 및 성인은 1회 1캡슐씩 1일 3회, 매 식후에 복용합니다.만 11...   \n",
       "3                                                NaN   \n",
       "4                                                NaN   \n",
       "\n",
       "                                                주의사항   \n",
       "0  갈락토오스 불내성, Lapp 유당분해효소 결핍증 또는 포도당-갈락토오스 흡수장애 등...  \\\n",
       "1                                                NaN   \n",
       "2  이 약에 과민증 환자, 만 3개월 미만의 영아, MAO 억제제(항우울제, 항정신병제...   \n",
       "3                                                NaN   \n",
       "4                                                NaN   \n",
       "\n",
       "                                                주의음식   \n",
       "0                                                NaN  \\\n",
       "1                                                NaN   \n",
       "2  MAO 억제제(항우울제, 항정신병제, 감정조절제, 항파킨슨제 등), 다른 비염용 경...   \n",
       "3                                                NaN   \n",
       "4                                                NaN   \n",
       "\n",
       "                                                 부작용  \n",
       "0  드물게 변비, 설사, 복명, 구역, 구토, 소화장애, 구갈, 구내마비감, 심계항진,...  \n",
       "1                                                NaN  \n",
       "2  출혈성뇌졸중, 구역·구토, 목마름(지속적이거나 심한), 변비, 식욕부진, 발진·발적...  \n",
       "3                                                NaN  \n",
       "4                                                NaN  \n",
       "\n",
       "[5 rows x 17 columns]"
      ]
     },
     "execution_count": 21,
     "metadata": {},
     "output_type": "execute_result"
    }
   ],
   "source": [
    "merge_df_tv = pd.read_csv('merge_df_tv.csv') # 4000개 데이터\n",
    "merge_df_tv.head()"
   ]
  },
  {
   "cell_type": "markdown",
   "metadata": {},
   "source": [
    "### test"
   ]
  },
  {
   "cell_type": "code",
   "execution_count": 249,
   "metadata": {},
   "outputs": [],
   "source": [
    "values_list = image_df['di_edi_code'].tolist()\n",
    "values_list = ['646002281','648101510','694001530','658502020','646002281']"
   ]
  },
  {
   "cell_type": "code",
   "execution_count": 342,
   "metadata": {},
   "outputs": [
    {
     "name": "stdout",
     "output_type": "stream",
     "text": [
      "문제 조합 코드 :  ['648101510', '646002281']\n",
      "[]\n",
      "[]\n",
      "주의사항 : 중증의 위장관계 이상반응증상이 생길수 있습니다\n",
      "문제 조합 코드 :  ['648101510', '646002281']\n",
      "[]\n",
      "[]\n",
      "주의사항 : 중증의 위장관계 이상반응증상이 생길수 있습니다\n",
      "문제 조합 코드 :  ['646002281', '648101510']\n",
      "[]\n",
      "[]\n",
      "주의사항 : 중증의 위장관계 이상반응증상이 생길수 있습니다\n"
     ]
    }
   ],
   "source": [
    "for i,v in enumerate(df_warming['code조합']):\n",
    "    if set(v).issubset(set(values_list)):\n",
    "        print('문제 조합 코드 : ' , v)\n",
    "        print(image_df[image_df['di_edi_code']==v[0]]['name'].values)\n",
    "        print(image_df[image_df['di_edi_code']==v[1]]['name'].values)\n",
    "        print('주의사항 : ' + df_warming.iloc[i][\"상세정보\"] + '증상이 생길수 있습니다')"
   ]
  },
  {
   "cell_type": "code",
   "execution_count": 313,
   "metadata": {},
   "outputs": [
    {
     "data": {
      "text/plain": [
       "'650101140,A28302561'"
      ]
     },
     "execution_count": 313,
     "metadata": {},
     "output_type": "execute_result"
    }
   ],
   "source": [
    "merge_df_tv['di_edi_code'].iloc[1]"
   ]
  },
  {
   "cell_type": "code",
   "execution_count": 248,
   "metadata": {},
   "outputs": [
    {
     "name": "stdout",
     "output_type": "stream",
     "text": [
      "{'646002281', '648101510'}\n",
      "{'641105840', '658502020', '654004590', '646002281', '694001530'}\n"
     ]
    },
    {
     "data": {
      "text/plain": [
       "(None, None)"
      ]
     },
     "execution_count": 248,
     "metadata": {},
     "output_type": "execute_result"
    }
   ],
   "source": [
    "print(set(v)) , print(set(values_list))"
   ]
  },
  {
   "cell_type": "code",
   "execution_count": 224,
   "metadata": {},
   "outputs": [],
   "source": [
    "for i,v in enumerate(df_warming['code조합']):\n",
    "    if set(v).issubset(values_list)==True:\n",
    "        print('문제 조합 : ' + str(v) )\n",
    "        print('주의사항 : ' + df_warming.iloc[i][\"상세정보\"] + '증상이 생길수 있습니다')"
   ]
  },
  {
   "cell_type": "code",
   "execution_count": 223,
   "metadata": {},
   "outputs": [
    {
     "data": {
      "text/plain": [
       "'중증의 위장관계 이상반응'"
      ]
     },
     "execution_count": 223,
     "metadata": {},
     "output_type": "execute_result"
    }
   ],
   "source": [
    "df_warming.iloc[0][\"상세정보\"] "
   ]
  },
  {
   "cell_type": "code",
   "execution_count": 221,
   "metadata": {},
   "outputs": [
    {
     "data": {
      "text/plain": [
       "True"
      ]
     },
     "execution_count": 221,
     "metadata": {},
     "output_type": "execute_result"
    }
   ],
   "source": [
    "a = ['648101510', '646002281']\n",
    "set(a).issubset(values_list)"
   ]
  }
 ],
 "metadata": {
  "kernelspec": {
   "display_name": ".venv",
   "language": "python",
   "name": "python3"
  },
  "language_info": {
   "codemirror_mode": {
    "name": "ipython",
    "version": 3
   },
   "file_extension": ".py",
   "mimetype": "text/x-python",
   "name": "python",
   "nbconvert_exporter": "python",
   "pygments_lexer": "ipython3",
   "version": "3.10.11"
  },
  "orig_nbformat": 4
 },
 "nbformat": 4,
 "nbformat_minor": 2
}
